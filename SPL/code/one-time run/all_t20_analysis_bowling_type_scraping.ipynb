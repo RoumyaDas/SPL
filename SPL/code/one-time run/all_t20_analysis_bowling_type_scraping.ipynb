{
 "cells": [
  {
   "cell_type": "markdown",
   "id": "78819088",
   "metadata": {},
   "source": [
    "pip install selenium"
   ]
  },
  {
   "cell_type": "code",
   "execution_count": null,
   "id": "f9584fd0",
   "metadata": {},
   "outputs": [],
   "source": []
  },
  {
   "cell_type": "code",
   "execution_count": 1,
   "id": "979d6d02",
   "metadata": {},
   "outputs": [],
   "source": [
    "from selenium import webdriver\n",
    "from selenium.webdriver.common.by import By\n",
    "from selenium.webdriver.support.ui import Select\n",
    "from selenium.webdriver.support.ui import WebDriverWait\n",
    "from selenium.webdriver.support import expected_conditions as EC\n",
    "from bs4 import BeautifulSoup\n",
    "import pandas as pd"
   ]
  },
  {
   "cell_type": "code",
   "execution_count": 7,
   "id": "52e12dcf",
   "metadata": {
    "scrolled": true
   },
   "outputs": [
    {
     "data": {
      "text/plain": [
       "Index(['bowler', 'bowl_style', 'bowl_style_parent'], dtype='object')"
      ]
     },
     "execution_count": 7,
     "metadata": {},
     "output_type": "execute_result"
    }
   ],
   "source": [
    "play_style_df = pd.read_csv('/Users/roumyadas/Desktop/Data/t20_cricket_data/Data/created_data/play_style.csv')\n",
    "player_list = pd.read_csv('/Users/roumyadas/Desktop/Data/t20_cricket_data/Data/created_data/player_list.csv')\n",
    "play_style_df.columns"
   ]
  },
  {
   "cell_type": "code",
   "execution_count": 9,
   "id": "999ef82d",
   "metadata": {},
   "outputs": [
    {
     "name": "stderr",
     "output_type": "stream",
     "text": [
      "/Users/roumyadas/anaconda3/lib/python3.8/site-packages/IPython/core/interactiveshell.py:3444: DtypeWarning: Columns (1) have mixed types.Specify dtype option on import or set low_memory=False.\n",
      "  exec(code_obj, self.user_global_ns, self.user_ns)\n"
     ]
    }
   ],
   "source": [
    "player_list_S03 = pd.read_excel('/Users/roumyadas/Desktop/Data/t20_cricket_data/Data/created_data/player_list.xlsx',\n",
    "                           sheet_name='season_03')\n",
    "\n",
    "mod_list = player_list_S03['Func_Name'].unique()\n",
    "df_sub = pd.read_csv('/Users/roumyadas/Desktop/Data/t20_cricket_data/Data/created_data/t20_pl_g.csv')\n",
    "\n",
    "df_sub_mod = df_sub[df_sub.striker.isin(mod_list)]\n"
   ]
  },
  {
   "cell_type": "code",
   "execution_count": null,
   "id": "46bb7769",
   "metadata": {},
   "outputs": [],
   "source": []
  },
  {
   "cell_type": "code",
   "execution_count": 13,
   "id": "4f2a6ad3",
   "metadata": {
    "scrolled": true
   },
   "outputs": [
    {
     "name": "stdout",
     "output_type": "stream",
     "text": [
      "['ATE Hazeldine', 'S Aryal', 'M Shiraz', 'HER Tyler', 'Maaz Sadaqat', 'AR Schaw', 'KKV Perera', 'M Montgomery', 'FW Sheat', 'TAR Scriven', 'Muhammad Naeem', 'Kamran Khan (2)', 'HC Darley', 'TH Aspinwall', 'Akhil Kumar', 'VK Singh', 'Anwar Rahman', 'Musheer Khan', 'Amod Yadav', 'Zahid Zadran', 'HWR Cartwright', 'PR Veer', 'D Mogan', 'Kaleem Sana', 'Ali Raza', 'Sahir Naqash', 'BB Debnath', 'MW Snedden', 'SK Atai', 'Amir Farooq', 'PD Blignaut', 'C Dickson', 'Salman Nazar', 'Wafadar Momand', 'MK Thakur', 'NN Odhiambo', 'R Pratap Singh', 'JL de Mey', 'CO Obuya', 'M Podosky', 'Muhammad Farooq', 'Muslim Yar', 'PRP Boissevain', 'Yasin Patel', 'Mohamed Shafeeq', 'Ubaid Shah', 'RK Singh', 'W Sahan', 'WG Bosisto', 'Meet Bhavsar', 'RD Berrington', 'M Tiwari', 'S Vijay Unni', 'T Westley', 'M Altankhuyag', 'AA Barot', 'A Chenthamara', 'Saad Masood', 'H Rathod', 'MNK Fernando', 'Kashif Daud', 'Junaid Siddiqui', 'Zeeshan Ansari', 'JE Home', 'Ishtiaq Ahmad', 'Muhammad Wafiq', 'Ismat Alam', 'TA Findlay', 'Waji Ul Hassan', 'SA Engelbrecht', 'OE Taylor', 'Surya Anand', 'NK Yadav', 'D Gupta', 'Ghulam Ahmadi', 'D Heyliger', 'G Sanketh', 'Salman Mirza', 'L Selemela', 'Zain Ul Abidin', 'Musawar Shah', 'Arif Yaqoob', 'NA McSweeney', 'Khawar Ali', 'B Yadav', 'Parveen Kumar']\n"
     ]
    },
    {
     "name": "stderr",
     "output_type": "stream",
     "text": [
      "/var/folders/68/nlclwstn1zd28pll4j60q7zw0000gn/T/ipykernel_15854/1563852034.py:1: UserWarning: Boolean Series key will be reindexed to match DataFrame index.\n",
      "  print(player_list[player_list.Player.isin(df_sub_mod.bowler.unique())]\\\n"
     ]
    }
   ],
   "source": [
    "print(player_list[player_list.Player.isin(df_sub_mod.bowler.unique())]\\\n",
    "            [~(player_list.Player.isin(play_style_df['bowler'].unique()))]['Player'].tolist())"
   ]
  },
  {
   "cell_type": "code",
   "execution_count": null,
   "id": "4ff12280",
   "metadata": {},
   "outputs": [],
   "source": []
  },
  {
   "cell_type": "code",
   "execution_count": 14,
   "id": "166c3e54",
   "metadata": {},
   "outputs": [],
   "source": [
    "player_list = ['ATE Hazeldine', 'S Aryal', 'M Shiraz', 'HER Tyler', 'Maaz Sadaqat', 'AR Schaw', 'KKV Perera', \n",
    "               'M Montgomery', 'FW Sheat', 'TAR Scriven', 'Muhammad Naeem', 'Kamran Khan (2)', 'HC Darley', \n",
    "               'TH Aspinwall', 'Akhil Kumar', 'VK Singh', 'Anwar Rahman', 'Musheer Khan', 'Amod Yadav', \n",
    "               'Zahid Zadran', 'HWR Cartwright', 'PR Veer', 'D Mogan', 'Kaleem Sana', 'Ali Raza', 'Sahir Naqash', \n",
    "               'BB Debnath', 'MW Snedden', 'SK Atai', 'Amir Farooq', 'PD Blignaut', 'C Dickson', 'Salman Nazar', \n",
    "               'Wafadar Momand', 'MK Thakur', 'NN Odhiambo', 'R Pratap Singh', 'JL de Mey', 'CO Obuya', \n",
    "               'M Podosky', 'Muhammad Farooq', 'Muslim Yar', 'PRP Boissevain', 'Yasin Patel', 'Mohamed Shafeeq', \n",
    "               'Ubaid Shah', 'RK Singh', 'W Sahan', 'WG Bosisto', 'Meet Bhavsar', 'RD Berrington', 'M Tiwari', \n",
    "               'S Vijay Unni', 'T Westley', 'M Altankhuyag', 'AA Barot', 'A Chenthamara', 'Saad Masood', \n",
    "               'H Rathod', 'MNK Fernando', 'Kashif Daud', 'Junaid Siddiqui', 'Zeeshan Ansari', 'JE Home', \n",
    "               'Ishtiaq Ahmad', 'Muhammad Wafiq', 'Ismat Alam', 'TA Findlay', 'Waji Ul Hassan', 'SA Engelbrecht', \n",
    "               'OE Taylor', 'Surya Anand', 'NK Yadav', 'D Gupta', 'Ghulam Ahmadi', 'D Heyliger', 'G Sanketh', \n",
    "               'Salman Mirza', 'L Selemela', 'Zain Ul Abidin', 'Musawar Shah', 'Arif Yaqoob', 'NA McSweeney', \n",
    "               'Khawar Ali', 'B Yadav', 'Parveen Kumar']\n",
    "\n"
   ]
  },
  {
   "cell_type": "markdown",
   "id": "0c9011ca",
   "metadata": {
    "scrolled": true
   },
   "source": [
    "df_all = pd.read_csv('/Users/roumyadas/Desktop/IPL_Simulation/df_all_round_sim.csv')\n",
    "player_list = pd.read_excel('/Users/roumyadas/Desktop/Data/t20_cricket_data/Data/created_data/player_list.xlsx',\n",
    "                           sheet_name='season_01')"
   ]
  },
  {
   "cell_type": "code",
   "execution_count": 19,
   "id": "50e3290a",
   "metadata": {},
   "outputs": [],
   "source": [
    "driver = webdriver.Safari()"
   ]
  },
  {
   "cell_type": "code",
   "execution_count": 20,
   "id": "b7d8e02d",
   "metadata": {},
   "outputs": [],
   "source": [
    "bowl_style = []\n",
    "bat_style = []\n",
    "all_info = []\n",
    "#players = player_list['Func_Name'].unique().tolist()\n",
    "#df_all['bowler'].unique().tolist()"
   ]
  },
  {
   "cell_type": "code",
   "execution_count": 21,
   "id": "a0982478",
   "metadata": {},
   "outputs": [
    {
     "ename": "KeyboardInterrupt",
     "evalue": "",
     "output_type": "error",
     "traceback": [
      "\u001b[0;31m---------------------------------------------------------------------------\u001b[0m",
      "\u001b[0;31mKeyboardInterrupt\u001b[0m                         Traceback (most recent call last)",
      "\u001b[0;32m<timed exec>\u001b[0m in \u001b[0;36m<module>\u001b[0;34m\u001b[0m\n",
      "\u001b[0;31mKeyboardInterrupt\u001b[0m: "
     ]
    }
   ],
   "source": [
    "%%time\n",
    "\n",
    "import time\n",
    "for p in player_list:\n",
    "\n",
    "    base_url = \"http://bing.com/search?q=\"\n",
    "    player = p\n",
    "    source = \"Espncricinfo\"\n",
    "    url = base_url+player.replace(' ','+')+' '+source\n",
    "    driver.get(url)\n",
    "\n",
    "    html = driver.page_source\n",
    "    soup = BeautifulSoup(html, 'lxml')\n",
    "\n",
    "    hrefs = [a[\"href\"] for a in soup.find_all(\"a\", href=True)]\n",
    "    i = 0\n",
    "    # Print all links\n",
    "    for href in hrefs:\n",
    "        i+=1\n",
    "        if str(href).startswith('https://www.espncricinfo.com/'):\n",
    "            link_ = href\n",
    "            #print(i)\n",
    "            break\n",
    "\n",
    "\n",
    "    driver.get(link_)\n",
    "    time.sleep(1)\n",
    "    \n",
    "\n",
    "    html = driver.page_source\n",
    "    soup = BeautifulSoup(html, 'lxml')\n",
    "    \n",
    "    try:\n",
    "\n",
    "        element_list = soup.find_all('span', class_=\"ds-text-title-s ds-font-bold ds-text-typo\")\n",
    "        bat_style.append(element_list[3].text)\n",
    "        bowl_style.append(element_list[4].text)\n",
    "        all_info.append(element_list)\n",
    "    except:\n",
    "        bat_style.append(\"NA\")\n",
    "        bowl_style.append(\"NA\")\n",
    "        all_info.append(\"NA\")"
   ]
  },
  {
   "cell_type": "code",
   "execution_count": 22,
   "id": "441761aa",
   "metadata": {},
   "outputs": [],
   "source": [
    "# Close the WebDriver\n",
    "driver.quit()"
   ]
  },
  {
   "cell_type": "code",
   "execution_count": 23,
   "id": "64a5543f",
   "metadata": {},
   "outputs": [
    {
     "data": {
      "text/plain": [
       "(86, 67, 68, 67)"
      ]
     },
     "execution_count": 23,
     "metadata": {},
     "output_type": "execute_result"
    }
   ],
   "source": [
    "len(player_list), len(bowl_style), len(bat_style), len(all_info)"
   ]
  },
  {
   "cell_type": "code",
   "execution_count": null,
   "id": "10060c87",
   "metadata": {},
   "outputs": [],
   "source": []
  },
  {
   "cell_type": "code",
   "execution_count": null,
   "id": "1acca1e9",
   "metadata": {},
   "outputs": [],
   "source": []
  },
  {
   "cell_type": "code",
   "execution_count": null,
   "id": "4ba88806",
   "metadata": {},
   "outputs": [],
   "source": []
  },
  {
   "cell_type": "code",
   "execution_count": null,
   "id": "a2c2eb20",
   "metadata": {},
   "outputs": [],
   "source": []
  },
  {
   "cell_type": "code",
   "execution_count": 25,
   "id": "071cc7b5",
   "metadata": {
    "scrolled": true
   },
   "outputs": [
    {
     "ename": "ValueError",
     "evalue": "All arrays must be of the same length",
     "output_type": "error",
     "traceback": [
      "\u001b[0;31m---------------------------------------------------------------------------\u001b[0m",
      "\u001b[0;31mValueError\u001b[0m                                Traceback (most recent call last)",
      "\u001b[0;32m/var/folders/68/nlclwstn1zd28pll4j60q7zw0000gn/T/ipykernel_15854/463563472.py\u001b[0m in \u001b[0;36m<module>\u001b[0;34m\u001b[0m\n\u001b[0;32m----> 1\u001b[0;31m play_style_df = pd.DataFrame({'player':player_list, 'bowl_style':bowl_style,\n\u001b[0m\u001b[1;32m      2\u001b[0m                              'all_info':all_info})\n\u001b[1;32m      3\u001b[0m \u001b[0;34m\u001b[0m\u001b[0m\n\u001b[1;32m      4\u001b[0m \u001b[0mplay_style_df\u001b[0m\u001b[0;34m.\u001b[0m\u001b[0mhead\u001b[0m\u001b[0;34m(\u001b[0m\u001b[0;34m)\u001b[0m\u001b[0;34m\u001b[0m\u001b[0;34m\u001b[0m\u001b[0m\n",
      "\u001b[0;32m~/anaconda3/lib/python3.8/site-packages/pandas/core/frame.py\u001b[0m in \u001b[0;36m__init__\u001b[0;34m(self, data, index, columns, dtype, copy)\u001b[0m\n\u001b[1;32m    612\u001b[0m         \u001b[0;32melif\u001b[0m \u001b[0misinstance\u001b[0m\u001b[0;34m(\u001b[0m\u001b[0mdata\u001b[0m\u001b[0;34m,\u001b[0m \u001b[0mdict\u001b[0m\u001b[0;34m)\u001b[0m\u001b[0;34m:\u001b[0m\u001b[0;34m\u001b[0m\u001b[0;34m\u001b[0m\u001b[0m\n\u001b[1;32m    613\u001b[0m             \u001b[0;31m# GH#38939 de facto copy defaults to False only in non-dict cases\u001b[0m\u001b[0;34m\u001b[0m\u001b[0;34m\u001b[0m\u001b[0;34m\u001b[0m\u001b[0m\n\u001b[0;32m--> 614\u001b[0;31m             \u001b[0mmgr\u001b[0m \u001b[0;34m=\u001b[0m \u001b[0mdict_to_mgr\u001b[0m\u001b[0;34m(\u001b[0m\u001b[0mdata\u001b[0m\u001b[0;34m,\u001b[0m \u001b[0mindex\u001b[0m\u001b[0;34m,\u001b[0m \u001b[0mcolumns\u001b[0m\u001b[0;34m,\u001b[0m \u001b[0mdtype\u001b[0m\u001b[0;34m=\u001b[0m\u001b[0mdtype\u001b[0m\u001b[0;34m,\u001b[0m \u001b[0mcopy\u001b[0m\u001b[0;34m=\u001b[0m\u001b[0mcopy\u001b[0m\u001b[0;34m,\u001b[0m \u001b[0mtyp\u001b[0m\u001b[0;34m=\u001b[0m\u001b[0mmanager\u001b[0m\u001b[0;34m)\u001b[0m\u001b[0;34m\u001b[0m\u001b[0;34m\u001b[0m\u001b[0m\n\u001b[0m\u001b[1;32m    615\u001b[0m         \u001b[0;32melif\u001b[0m \u001b[0misinstance\u001b[0m\u001b[0;34m(\u001b[0m\u001b[0mdata\u001b[0m\u001b[0;34m,\u001b[0m \u001b[0mma\u001b[0m\u001b[0;34m.\u001b[0m\u001b[0mMaskedArray\u001b[0m\u001b[0;34m)\u001b[0m\u001b[0;34m:\u001b[0m\u001b[0;34m\u001b[0m\u001b[0;34m\u001b[0m\u001b[0m\n\u001b[1;32m    616\u001b[0m             \u001b[0;32mimport\u001b[0m \u001b[0mnumpy\u001b[0m\u001b[0;34m.\u001b[0m\u001b[0mma\u001b[0m\u001b[0;34m.\u001b[0m\u001b[0mmrecords\u001b[0m \u001b[0;32mas\u001b[0m \u001b[0mmrecords\u001b[0m\u001b[0;34m\u001b[0m\u001b[0;34m\u001b[0m\u001b[0m\n",
      "\u001b[0;32m~/anaconda3/lib/python3.8/site-packages/pandas/core/internals/construction.py\u001b[0m in \u001b[0;36mdict_to_mgr\u001b[0;34m(data, index, columns, dtype, typ, copy)\u001b[0m\n\u001b[1;32m    462\u001b[0m         \u001b[0;31m# TODO: can we get rid of the dt64tz special case above?\u001b[0m\u001b[0;34m\u001b[0m\u001b[0;34m\u001b[0m\u001b[0;34m\u001b[0m\u001b[0m\n\u001b[1;32m    463\u001b[0m \u001b[0;34m\u001b[0m\u001b[0m\n\u001b[0;32m--> 464\u001b[0;31m     return arrays_to_mgr(\n\u001b[0m\u001b[1;32m    465\u001b[0m         \u001b[0marrays\u001b[0m\u001b[0;34m,\u001b[0m \u001b[0mdata_names\u001b[0m\u001b[0;34m,\u001b[0m \u001b[0mindex\u001b[0m\u001b[0;34m,\u001b[0m \u001b[0mcolumns\u001b[0m\u001b[0;34m,\u001b[0m \u001b[0mdtype\u001b[0m\u001b[0;34m=\u001b[0m\u001b[0mdtype\u001b[0m\u001b[0;34m,\u001b[0m \u001b[0mtyp\u001b[0m\u001b[0;34m=\u001b[0m\u001b[0mtyp\u001b[0m\u001b[0;34m,\u001b[0m \u001b[0mconsolidate\u001b[0m\u001b[0;34m=\u001b[0m\u001b[0mcopy\u001b[0m\u001b[0;34m\u001b[0m\u001b[0;34m\u001b[0m\u001b[0m\n\u001b[1;32m    466\u001b[0m     )\n",
      "\u001b[0;32m~/anaconda3/lib/python3.8/site-packages/pandas/core/internals/construction.py\u001b[0m in \u001b[0;36marrays_to_mgr\u001b[0;34m(arrays, arr_names, index, columns, dtype, verify_integrity, typ, consolidate)\u001b[0m\n\u001b[1;32m    117\u001b[0m         \u001b[0;31m# figure out the index, if necessary\u001b[0m\u001b[0;34m\u001b[0m\u001b[0;34m\u001b[0m\u001b[0;34m\u001b[0m\u001b[0m\n\u001b[1;32m    118\u001b[0m         \u001b[0;32mif\u001b[0m \u001b[0mindex\u001b[0m \u001b[0;32mis\u001b[0m \u001b[0;32mNone\u001b[0m\u001b[0;34m:\u001b[0m\u001b[0;34m\u001b[0m\u001b[0;34m\u001b[0m\u001b[0m\n\u001b[0;32m--> 119\u001b[0;31m             \u001b[0mindex\u001b[0m \u001b[0;34m=\u001b[0m \u001b[0m_extract_index\u001b[0m\u001b[0;34m(\u001b[0m\u001b[0marrays\u001b[0m\u001b[0;34m)\u001b[0m\u001b[0;34m\u001b[0m\u001b[0;34m\u001b[0m\u001b[0m\n\u001b[0m\u001b[1;32m    120\u001b[0m         \u001b[0;32melse\u001b[0m\u001b[0;34m:\u001b[0m\u001b[0;34m\u001b[0m\u001b[0;34m\u001b[0m\u001b[0m\n\u001b[1;32m    121\u001b[0m             \u001b[0mindex\u001b[0m \u001b[0;34m=\u001b[0m \u001b[0mensure_index\u001b[0m\u001b[0;34m(\u001b[0m\u001b[0mindex\u001b[0m\u001b[0;34m)\u001b[0m\u001b[0;34m\u001b[0m\u001b[0;34m\u001b[0m\u001b[0m\n",
      "\u001b[0;32m~/anaconda3/lib/python3.8/site-packages/pandas/core/internals/construction.py\u001b[0m in \u001b[0;36m_extract_index\u001b[0;34m(data)\u001b[0m\n\u001b[1;32m    633\u001b[0m             \u001b[0mlengths\u001b[0m \u001b[0;34m=\u001b[0m \u001b[0mlist\u001b[0m\u001b[0;34m(\u001b[0m\u001b[0mset\u001b[0m\u001b[0;34m(\u001b[0m\u001b[0mraw_lengths\u001b[0m\u001b[0;34m)\u001b[0m\u001b[0;34m)\u001b[0m\u001b[0;34m\u001b[0m\u001b[0;34m\u001b[0m\u001b[0m\n\u001b[1;32m    634\u001b[0m             \u001b[0;32mif\u001b[0m \u001b[0mlen\u001b[0m\u001b[0;34m(\u001b[0m\u001b[0mlengths\u001b[0m\u001b[0;34m)\u001b[0m \u001b[0;34m>\u001b[0m \u001b[0;36m1\u001b[0m\u001b[0;34m:\u001b[0m\u001b[0;34m\u001b[0m\u001b[0;34m\u001b[0m\u001b[0m\n\u001b[0;32m--> 635\u001b[0;31m                 \u001b[0;32mraise\u001b[0m \u001b[0mValueError\u001b[0m\u001b[0;34m(\u001b[0m\u001b[0;34m\"All arrays must be of the same length\"\u001b[0m\u001b[0;34m)\u001b[0m\u001b[0;34m\u001b[0m\u001b[0;34m\u001b[0m\u001b[0m\n\u001b[0m\u001b[1;32m    636\u001b[0m \u001b[0;34m\u001b[0m\u001b[0m\n\u001b[1;32m    637\u001b[0m             \u001b[0;32mif\u001b[0m \u001b[0mhave_dicts\u001b[0m\u001b[0;34m:\u001b[0m\u001b[0;34m\u001b[0m\u001b[0;34m\u001b[0m\u001b[0m\n",
      "\u001b[0;31mValueError\u001b[0m: All arrays must be of the same length"
     ]
    }
   ],
   "source": [
    "play_style_df = pd.DataFrame({'player':player_list, 'bowl_style':bowl_style,\n",
    "                             'all_info':all_info})\n",
    "\n",
    "play_style_df.head()"
   ]
  },
  {
   "cell_type": "markdown",
   "id": "f8e8b78f",
   "metadata": {},
   "source": [
    "around 2 secs for each"
   ]
  },
  {
   "cell_type": "code",
   "execution_count": null,
   "id": "e49834e9",
   "metadata": {
    "scrolled": true
   },
   "outputs": [],
   "source": [
    "play_style_df['bowl_style'].value_counts()"
   ]
  },
  {
   "cell_type": "code",
   "execution_count": 24,
   "id": "f41cd2b8",
   "metadata": {},
   "outputs": [],
   "source": [
    "play_style_df.to_csv('/Users/roumyadas/Downloads/playstyle.csv')"
   ]
  },
  {
   "cell_type": "code",
   "execution_count": null,
   "id": "489d09cd",
   "metadata": {},
   "outputs": [],
   "source": []
  }
 ],
 "metadata": {
  "kernelspec": {
   "display_name": "Python 3 (ipykernel)",
   "language": "python",
   "name": "python3"
  },
  "language_info": {
   "codemirror_mode": {
    "name": "ipython",
    "version": 3
   },
   "file_extension": ".py",
   "mimetype": "text/x-python",
   "name": "python",
   "nbconvert_exporter": "python",
   "pygments_lexer": "ipython3",
   "version": "3.8.12"
  }
 },
 "nbformat": 4,
 "nbformat_minor": 5
}
