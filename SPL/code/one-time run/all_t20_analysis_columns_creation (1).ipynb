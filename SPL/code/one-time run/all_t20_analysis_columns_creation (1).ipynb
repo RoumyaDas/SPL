{
 "cells": [
  {
   "cell_type": "code",
   "execution_count": 1,
   "id": "9273f484",
   "metadata": {},
   "outputs": [],
   "source": [
    "import pandas as pd\n",
    "import glob\n",
    "import numpy as np\n",
    "pd.set_option('display.max_columns', None)\n",
    "pd.set_option('display.max_rows', None)"
   ]
  },
  {
   "cell_type": "code",
   "execution_count": 2,
   "id": "ba2ce9f7",
   "metadata": {
    "scrolled": true
   },
   "outputs": [
    {
     "name": "stderr",
     "output_type": "stream",
     "text": [
      "/Users/roumyadas/anaconda3/lib/python3.8/site-packages/IPython/core/interactiveshell.py:3444: DtypeWarning: Columns (1,20,21) have mixed types.Specify dtype option on import or set low_memory=False.\n",
      "  exec(code_obj, self.user_global_ns, self.user_ns)\n",
      "/Users/roumyadas/anaconda3/lib/python3.8/site-packages/IPython/core/interactiveshell.py:3444: DtypeWarning: Columns (20,21) have mixed types.Specify dtype option on import or set low_memory=False.\n",
      "  exec(code_obj, self.user_global_ns, self.user_ns)\n"
     ]
    }
   ],
   "source": [
    "df_1_ = pd.read_csv('/Users/roumyadas/Desktop/Data/t20_cricket_data/Data/created_data/t20s_2020_onwards.csv')\n",
    "df_2_ = pd.read_csv('/Users/roumyadas/Desktop/Data/t20_cricket_data/Data/created_data/t20is_2020_onwards.csv')"
   ]
  },
  {
   "cell_type": "code",
   "execution_count": 3,
   "id": "6a042222",
   "metadata": {},
   "outputs": [
    {
     "data": {
      "text/plain": [
       "('2025-02-02', '2025-06-03', '2025-06-01')"
      ]
     },
     "execution_count": 3,
     "metadata": {},
     "output_type": "execute_result"
    }
   ],
   "source": [
    "df_2_[(df_2_.batting_team=='India')&(df_2_.bowling_team=='England')].start_date.max(), df_1_.start_date.max(),\\\n",
    "df_2_.start_date.max()"
   ]
  },
  {
   "cell_type": "code",
   "execution_count": 4,
   "id": "6e1a416b",
   "metadata": {},
   "outputs": [],
   "source": [
    "df = pd.concat([df_1_,df_2_],axis=0)\n",
    "\n",
    "df = df.drop_duplicates().reset_index(drop=True)\n",
    "\n",
    "cols_replace_zero = ['wides','noballs','byes','legbyes','penalty']\n",
    "cols_replace_empty = ['other_wicket_type','other_player_dismissed']\n",
    "\n",
    "for column in cols_replace_zero:\n",
    "    df[column] = df[column].replace(np.nan, 0)\n",
    "\n",
    "for column in cols_replace_empty:\n",
    "    df[column] = df[column].replace(np.nan, '')\n",
    "\n",
    "for col in df.columns:\n",
    "    if df[col].nunique()<=1:\n",
    "        df.drop(col, axis=1, inplace=True)"
   ]
  },
  {
   "cell_type": "code",
   "execution_count": 5,
   "id": "c3517641",
   "metadata": {},
   "outputs": [
    {
     "data": {
      "text/plain": [
       "Index(['match_id', 'season', 'start_date', 'venue', 'innings', 'ball',\n",
       "       'batting_team', 'bowling_team', 'striker', 'non_striker', 'bowler',\n",
       "       'runs_off_bat', 'extras', 'wides', 'noballs', 'byes', 'legbyes',\n",
       "       'penalty', 'wicket_type', 'player_dismissed', 'other_wicket_type',\n",
       "       'other_player_dismissed', 'year'],\n",
       "      dtype='object')"
      ]
     },
     "execution_count": 5,
     "metadata": {},
     "output_type": "execute_result"
    }
   ],
   "source": [
    "df.columns"
   ]
  },
  {
   "cell_type": "markdown",
   "id": "1b8b4ce9",
   "metadata": {},
   "source": [
    "### checking which column has nan"
   ]
  },
  {
   "cell_type": "code",
   "execution_count": 6,
   "id": "f46aa008",
   "metadata": {},
   "outputs": [],
   "source": [
    "df = df.sort_values(by=['start_date', 'match_id', 'innings', 'ball']).reset_index(drop=True)\n",
    "\n",
    "df['wicket_type'].replace(np.nan, '', inplace=True)\n",
    "df['player_dismissed'].replace(np.nan, '', inplace=True)\n",
    "\n",
    "cols_to_string = ['batting_team','bowling_team','striker','non_striker','bowler','wicket_type',\n",
    "                  'player_dismissed']\n",
    "\n",
    "for col in cols_to_string:\n",
    "    df[col] = df[col].astype(str)"
   ]
  },
  {
   "cell_type": "markdown",
   "id": "38410f84",
   "metadata": {},
   "source": [
    "## creating some necessary columns"
   ]
  },
  {
   "cell_type": "code",
   "execution_count": 7,
   "id": "f7807253",
   "metadata": {},
   "outputs": [],
   "source": [
    "df = df.sort_values(by=['start_date', 'match_id', 'innings', 'ball']).reset_index(drop=True)\n",
    "\n",
    "df['legality'] = (df.wides+df.noballs)==0\n",
    "\n",
    "df['bowler_wicket'] = (df.wicket_type=='caught') | (df.wicket_type=='bowled') | (df.wicket_type=='lbw') |\\\n",
    "                        (df.wicket_type=='stumped')|(df.wicket_type=='caught and bowled') | \\\n",
    "                        (df.wicket_type=='hit wicket') \n",
    "\n",
    "df = df.sort_values(by=['start_date', 'match_id', 'innings', 'ball']).reset_index(drop=True)\n",
    "\n",
    "df['islegal']= df['legality'].apply(lambda x: 1 if x==True else 0)\n",
    "df['isDotforBatter']= df['runs_off_bat'].apply(lambda x: 1 if x==0 else 0)\n",
    "df['isOne']= df['runs_off_bat'].apply(lambda x: 1 if x==1 else 0)\n",
    "df['isTwo']= df['runs_off_bat'].apply(lambda x: 1 if x==2 else 0)\n",
    "df['isThree']= df['runs_off_bat'].apply(lambda x: 1 if x==3 else 0)\n",
    "\n",
    "df['isStrikeRotation'] = df['runs_off_bat'].apply(lambda x: 1 if ((x==1)|(x==2)|(x==3)| (x==5)|(x==7)) else 0)\n",
    "#assuming all 4s and 6s are boundaries hit\n",
    "df['isFour']= df['runs_off_bat'].apply(lambda x: 1 if x==4 else 0)\n",
    "df['isSix']= df['runs_off_bat'].apply(lambda x: 1 if x==6 else 0)\n",
    "df['isBowlerWicket']= df['bowler_wicket'].apply(lambda x: 1 if x==True else 0)\n",
    "\n",
    "\n",
    "\n",
    "\n",
    "    "
   ]
  },
  {
   "cell_type": "code",
   "execution_count": 8,
   "id": "c0d123c8",
   "metadata": {},
   "outputs": [],
   "source": [
    "df = df.sort_values(by=['start_date', 'match_id', 'innings', 'ball']).reset_index(drop=True)\n",
    "\n",
    "df['is_striker_Out'] = (df.striker==df.player_dismissed)\n",
    "\n",
    "df['is_striker_Out']= df['is_striker_Out'].apply(lambda x: 1 if x==True else 0)\n",
    "\n",
    "df['is_nonstriker_Out'] = (df.non_striker==df.player_dismissed)\n",
    "\n",
    "df['is_nonstriker_Out']= df['is_nonstriker_Out'].apply(lambda x: 1 if x==True else 0)\n",
    "\n",
    "df['isWicket'] = df['wicket_type'].apply(lambda x:1 if len(x)>0 else 0)\n",
    "\n",
    "df['total_runs'] = df.runs_off_bat+df.extras"
   ]
  },
  {
   "cell_type": "markdown",
   "id": "4bebd578",
   "metadata": {},
   "source": [
    "## next part of work :: building the crucial cols"
   ]
  },
  {
   "cell_type": "markdown",
   "id": "b8e0f547",
   "metadata": {},
   "source": [
    "### creation of runs_scored, wickets_down, legal_balls_bowled"
   ]
  },
  {
   "cell_type": "code",
   "execution_count": 9,
   "id": "19a17e05",
   "metadata": {},
   "outputs": [],
   "source": [
    "# Sort the DataFrame by 'match_id' and 'innings' to ensure proper ordering\n",
    "df = df.sort_values(by=['start_date', 'match_id', 'innings', 'ball']).reset_index(drop=True)\n",
    "\n",
    "# Calculate the cumulative sum for 'total_runs' within each group of 'match_id' and 'innings'\n",
    "df['runs_scored'] = df.groupby(['match_id', 'innings'])['total_runs'].cumsum()\n",
    "\n",
    "# Reset the cumulative sum for each new 'match_id' or 'innings'\n",
    "df.loc[df['innings'].diff().eq(1), 'runs_scored'] = df['total_runs']\n",
    "\n",
    "# Reset the cumulative sum for the first row of each 'match_id'\n",
    "df.loc[df['match_id'].ne(df['match_id'].shift(1)), 'runs_scored'] = df['total_runs']\n",
    "\n",
    "# Optional: If you want to fill NaN values in 'runs_scored' with 0\n",
    "df['runs_scored'] = df['runs_scored'].fillna(0)\n",
    "\n",
    "# Now, 'runs_scored' contains the cumulative sum of 'total_runs' for each innings in a match_id\n"
   ]
  },
  {
   "cell_type": "code",
   "execution_count": 10,
   "id": "93321228",
   "metadata": {},
   "outputs": [],
   "source": [
    "df = df.sort_values(by=['start_date', 'match_id', 'innings', 'ball']).reset_index(drop=True)"
   ]
  },
  {
   "cell_type": "code",
   "execution_count": 11,
   "id": "3dd3c6d2",
   "metadata": {},
   "outputs": [],
   "source": [
    "# Calculate the cumulative sum for 'isWicket' within each group of 'match_id' and 'innings'\n",
    "df['wickets_down'] = df.groupby(['match_id', 'innings'])['isWicket'].cumsum()\n",
    "\n",
    "# Reset the cumulative sum for each new 'match_id' or 'innings'\n",
    "df.loc[df['innings'].diff().eq(1), 'wickets_down'] = df['isWicket']\n",
    "\n",
    "# Reset the cumulative sum for the first row of each 'match_id'\n",
    "df.loc[df['match_id'].ne(df['match_id'].shift(1)), 'wickets_down'] = df['isWicket']\n",
    "\n",
    "# Optional: If you want to fill NaN values in 'wickets_down' with 0\n",
    "df['wickets_down'] = df['wickets_down'].fillna(0)\n",
    "\n",
    "# Now, 'wickets_down' contains the cumulative sum of 'isWicket' for each innings in a match_id\n"
   ]
  },
  {
   "cell_type": "code",
   "execution_count": 12,
   "id": "5d7427f0",
   "metadata": {},
   "outputs": [],
   "source": [
    "df = df.sort_values(by=['start_date', 'match_id', 'innings', 'ball']).reset_index(drop=True)"
   ]
  },
  {
   "cell_type": "code",
   "execution_count": 13,
   "id": "8f0b56b3",
   "metadata": {},
   "outputs": [],
   "source": [
    "# Calculate cumulative sum for 'islegal' within each group of 'match_id' and 'innings'\n",
    "df['legal_balls_bowled'] = df.groupby(['match_id', 'innings'])['islegal'].cumsum()\n",
    "\n",
    "# Reset cumulative sum when there's a change in 'match_id' or 'innings'\n",
    "# By shifting down, we check if either 'match_id' or 'innings' changed in the previous row\n",
    "df.loc[df['match_id'] != df['match_id'].shift(1), 'legal_balls_bowled'] = df['islegal']\n",
    "df.loc[df['innings'] != df['innings'].shift(1), 'legal_balls_bowled'] = df['islegal']\n",
    "\n",
    "# Optional: Fill NaN values with 0, if there are any NaNs after resetting\n",
    "df['legal_balls_bowled'] = df['legal_balls_bowled'].fillna(0)"
   ]
  },
  {
   "cell_type": "code",
   "execution_count": 14,
   "id": "883cdbf8",
   "metadata": {},
   "outputs": [],
   "source": [
    "# Calculate the cumulative sum for 'islegal' within each group of 'match_id' and 'innings'\n",
    "df['legal_balls_bowled'] = df.groupby(['start_date','match_id', 'innings'])['islegal'].cumsum()\n",
    "\n",
    "# Reset the cumulative sum for each new 'match_id' or 'innings'\n",
    "df.loc[df['innings'].diff().eq(1), 'legal_balls_bowled'] = df['islegal']\n",
    "\n",
    "# Reset the cumulative sum for the first row of each 'match_id'\n",
    "df.loc[df['match_id'].ne(df['match_id'].shift(1)), 'legal_balls_bowled'] = df['islegal']\n",
    "\n",
    "# Optional: If you want to fill NaN values in 'legal_balls_bowled' with 0\n",
    "df['legal_balls_bowled'] = df['legal_balls_bowled'].fillna(0)\n",
    "\n",
    "# Now, 'legal_balls_bowled' contains the cumulative sum of 'islegal' for each innings in a match_id\n"
   ]
  },
  {
   "cell_type": "code",
   "execution_count": 15,
   "id": "10ccb0c7",
   "metadata": {},
   "outputs": [
    {
     "data": {
      "text/plain": [
       "0"
      ]
     },
     "execution_count": 15,
     "metadata": {},
     "output_type": "execute_result"
    }
   ],
   "source": [
    "df['lbb_fl'] = 6*(df['ball']+1)>df['legal_balls_bowled']\n",
    "\n",
    "df.shape[0]-df['lbb_fl'].sum()"
   ]
  },
  {
   "cell_type": "code",
   "execution_count": 16,
   "id": "b64543e9",
   "metadata": {},
   "outputs": [],
   "source": [
    "df = df.reset_index(drop=True)"
   ]
  },
  {
   "cell_type": "markdown",
   "id": "af1ec2c1",
   "metadata": {},
   "source": [
    "### filtering on the matches with completed 1st innings only"
   ]
  },
  {
   "cell_type": "code",
   "execution_count": 17,
   "id": "2b3912a3",
   "metadata": {},
   "outputs": [],
   "source": [
    "#Find match_ids that meet the condition in innings=1\n",
    "filtered_match_ids = df[(df['innings'] == 1) & (df['legal_balls_bowled'].max() < 120) & (df['wickets_down'].max() < 10)]['match_id'].unique()\n",
    "\n",
    "#Filter the DataFrame to exclude rows with those match_ids\n",
    "df = df[~df['match_id'].isin(filtered_match_ids)]"
   ]
  },
  {
   "cell_type": "markdown",
   "id": "fb9c31b8",
   "metadata": {},
   "source": [
    "### creation of run_rate, target"
   ]
  },
  {
   "cell_type": "code",
   "execution_count": 18,
   "id": "fa428363",
   "metadata": {},
   "outputs": [],
   "source": [
    "df['run_rate'] = df.apply(lambda row: (6 * row['runs_scored'] / row['legal_balls_bowled']) \\\n",
    "                          if row['legal_balls_bowled'] > 0 else (6 + row['runs_scored']), axis=1)\n"
   ]
  },
  {
   "cell_type": "code",
   "execution_count": 19,
   "id": "1dc5a74b",
   "metadata": {},
   "outputs": [],
   "source": [
    "# Create a DataFrame with the maximum runs scored in innings=1 for each match_id\n",
    "max_runs_innings_1 = df[df['innings'] == 1].groupby('match_id')['runs_scored'].max().reset_index()\n",
    "\n",
    "# Merge this information into innings=2 rows of the original DataFrame\n",
    "df = df.merge(max_runs_innings_1, on='match_id', suffixes=('', '_max_innings_1'), how='left')\n",
    "\n",
    "# Create the 'target' column based on the maximum runs scored in innings=1\n",
    "df['target'] = df.apply(lambda row: row['runs_scored_max_innings_1'] + 1 if row['innings'] == 2 else np.nan, axis=1)\n",
    "\n",
    "# Drop the intermediate 'runs_scored_max_innings_1' column if needed\n",
    "df.drop('runs_scored_max_innings_1', axis=1, inplace=True)"
   ]
  },
  {
   "cell_type": "markdown",
   "id": "001c5116",
   "metadata": {},
   "source": [
    "df.sample(4)"
   ]
  },
  {
   "cell_type": "markdown",
   "id": "7d8002f6",
   "metadata": {},
   "source": [
    "### filtering on the matches with not-shortened 2nd innings only"
   ]
  },
  {
   "cell_type": "code",
   "execution_count": 20,
   "id": "00fb4c22",
   "metadata": {
    "scrolled": true
   },
   "outputs": [],
   "source": [
    "lost = 0\n",
    "shortened = 0\n",
    "won = 0\n",
    "shortened_matches = []\n",
    "\n",
    "for match in df.match_id.unique():\n",
    "    max_achieved_2nd_innings = df[(df.innings==2) & (df.match_id==match)]['runs_scored'].max()\n",
    "    target_2nd_innings = df[(df.innings==2) & (df.match_id==match)]['target'].max()\n",
    "    wickets_2nd_innings = df[(df.innings==2) & (df.match_id==match)]['wickets_down'].max()\n",
    "    balls_2nd_innings = df[(df.innings==2) & (df.match_id==match)]['legal_balls_bowled'].max()\n",
    "    \n",
    "    if max_achieved_2nd_innings<target_2nd_innings:\n",
    "        if (wickets_2nd_innings<10) & (balls_2nd_innings<120):\n",
    "            shortened = shortened+1\n",
    "            shortened_matches.append(match)\n",
    "            \n",
    "        else :\n",
    "            lost = lost+1\n",
    "               \n",
    "    else:\n",
    "        won = won+1"
   ]
  },
  {
   "cell_type": "code",
   "execution_count": 21,
   "id": "d17897bc",
   "metadata": {},
   "outputs": [
    {
     "data": {
      "text/plain": [
       "225"
      ]
     },
     "execution_count": 21,
     "metadata": {},
     "output_type": "execute_result"
    }
   ],
   "source": [
    "len(shortened_matches)"
   ]
  },
  {
   "cell_type": "code",
   "execution_count": 22,
   "id": "3cb4524e",
   "metadata": {},
   "outputs": [],
   "source": [
    "# Find match_ids that meet the condition in innings=2\n",
    "filtered_match_ids = shortened_matches\n",
    "\n",
    "#target not achieved, not all out, some balls remain\n",
    "\n",
    "\n",
    "# Filter the DataFrame to exclude rows with those match_ids\n",
    "df = df[~df['match_id'].isin(filtered_match_ids)]"
   ]
  },
  {
   "cell_type": "code",
   "execution_count": 23,
   "id": "4a53ca07",
   "metadata": {},
   "outputs": [
    {
     "data": {
      "text/plain": [
       "4573"
      ]
     },
     "execution_count": 23,
     "metadata": {},
     "output_type": "execute_result"
    }
   ],
   "source": [
    "df.match_id.nunique()"
   ]
  },
  {
   "cell_type": "code",
   "execution_count": 24,
   "id": "34aaafb0",
   "metadata": {},
   "outputs": [],
   "source": [
    "df.reset_index(drop=True, inplace=True)"
   ]
  },
  {
   "cell_type": "code",
   "execution_count": 25,
   "id": "6c67b6e5",
   "metadata": {},
   "outputs": [],
   "source": [
    "df = df[~(df.innings>2)]"
   ]
  },
  {
   "cell_type": "markdown",
   "id": "09b3ce75",
   "metadata": {},
   "source": [
    "### creation of legal_balls_remaining, runs_remaining, reqd_run_rate"
   ]
  },
  {
   "cell_type": "code",
   "execution_count": 26,
   "id": "1976f3c4",
   "metadata": {
    "scrolled": true
   },
   "outputs": [],
   "source": [
    "df['legal_balls_remaining'] = 120 - df['legal_balls_bowled']\n",
    "df['runs_remaining'] = df.apply(lambda row: (row['target'] - row['runs_scored']) if row['innings'] == 2 \\\n",
    "                                else np.nan, axis=1)\n",
    "\n",
    "\n",
    "df.loc[df.runs_remaining<0, 'runs_remaining'] = 0\n",
    "\n",
    "df['reqd_run_rate'] = df.apply(lambda row: (6* row['runs_remaining'] / row['legal_balls_remaining']) \\\n",
    "                            if row['legal_balls_remaining'] > 0 \\\n",
    "                                else 6+row['runs_remaining'], axis=1)\n",
    "df.loc[df.innings==1, 'reqd_run_rate'] = np.nan"
   ]
  },
  {
   "cell_type": "markdown",
   "id": "c9962106",
   "metadata": {},
   "source": [
    "### creation of last_fow, partnership_runs"
   ]
  },
  {
   "cell_type": "code",
   "execution_count": 27,
   "id": "cb8537b5",
   "metadata": {},
   "outputs": [
    {
     "data": {
      "text/html": [
       "<div>\n",
       "<style scoped>\n",
       "    .dataframe tbody tr th:only-of-type {\n",
       "        vertical-align: middle;\n",
       "    }\n",
       "\n",
       "    .dataframe tbody tr th {\n",
       "        vertical-align: top;\n",
       "    }\n",
       "\n",
       "    .dataframe thead th {\n",
       "        text-align: right;\n",
       "    }\n",
       "</style>\n",
       "<table border=\"1\" class=\"dataframe\">\n",
       "  <thead>\n",
       "    <tr style=\"text-align: right;\">\n",
       "      <th></th>\n",
       "      <th>match_id</th>\n",
       "      <th>season</th>\n",
       "      <th>start_date</th>\n",
       "      <th>venue</th>\n",
       "      <th>innings</th>\n",
       "      <th>ball</th>\n",
       "      <th>batting_team</th>\n",
       "      <th>bowling_team</th>\n",
       "      <th>striker</th>\n",
       "      <th>non_striker</th>\n",
       "      <th>bowler</th>\n",
       "      <th>runs_off_bat</th>\n",
       "      <th>extras</th>\n",
       "      <th>wides</th>\n",
       "      <th>noballs</th>\n",
       "      <th>byes</th>\n",
       "      <th>legbyes</th>\n",
       "      <th>penalty</th>\n",
       "      <th>wicket_type</th>\n",
       "      <th>player_dismissed</th>\n",
       "      <th>other_wicket_type</th>\n",
       "      <th>other_player_dismissed</th>\n",
       "      <th>year</th>\n",
       "      <th>legality</th>\n",
       "      <th>bowler_wicket</th>\n",
       "      <th>islegal</th>\n",
       "      <th>isDotforBatter</th>\n",
       "      <th>isOne</th>\n",
       "      <th>isTwo</th>\n",
       "      <th>isThree</th>\n",
       "      <th>isStrikeRotation</th>\n",
       "      <th>isFour</th>\n",
       "      <th>isSix</th>\n",
       "      <th>isBowlerWicket</th>\n",
       "      <th>is_striker_Out</th>\n",
       "      <th>is_nonstriker_Out</th>\n",
       "      <th>isWicket</th>\n",
       "      <th>total_runs</th>\n",
       "      <th>runs_scored</th>\n",
       "      <th>wickets_down</th>\n",
       "      <th>legal_balls_bowled</th>\n",
       "      <th>lbb_fl</th>\n",
       "      <th>run_rate</th>\n",
       "      <th>target</th>\n",
       "      <th>legal_balls_remaining</th>\n",
       "      <th>runs_remaining</th>\n",
       "      <th>reqd_run_rate</th>\n",
       "    </tr>\n",
       "  </thead>\n",
       "  <tbody>\n",
       "    <tr>\n",
       "      <th>463832</th>\n",
       "      <td>1334896</td>\n",
       "      <td>2022/23</td>\n",
       "      <td>2022-10-19</td>\n",
       "      <td>Senwes Park, Potchefstroom</td>\n",
       "      <td>1</td>\n",
       "      <td>5.6</td>\n",
       "      <td>Dolphins</td>\n",
       "      <td>North West</td>\n",
       "      <td>JT Smuts</td>\n",
       "      <td>B Parsons</td>\n",
       "      <td>D Potgieter</td>\n",
       "      <td>2</td>\n",
       "      <td>0</td>\n",
       "      <td>0.0</td>\n",
       "      <td>0.0</td>\n",
       "      <td>0.0</td>\n",
       "      <td>0.0</td>\n",
       "      <td>0.0</td>\n",
       "      <td></td>\n",
       "      <td></td>\n",
       "      <td></td>\n",
       "      <td></td>\n",
       "      <td>2022</td>\n",
       "      <td>True</td>\n",
       "      <td>False</td>\n",
       "      <td>1</td>\n",
       "      <td>0</td>\n",
       "      <td>0</td>\n",
       "      <td>1</td>\n",
       "      <td>0</td>\n",
       "      <td>1</td>\n",
       "      <td>0</td>\n",
       "      <td>0</td>\n",
       "      <td>0</td>\n",
       "      <td>0</td>\n",
       "      <td>0</td>\n",
       "      <td>0</td>\n",
       "      <td>2</td>\n",
       "      <td>49</td>\n",
       "      <td>1</td>\n",
       "      <td>35</td>\n",
       "      <td>True</td>\n",
       "      <td>8.4</td>\n",
       "      <td>NaN</td>\n",
       "      <td>85</td>\n",
       "      <td>NaN</td>\n",
       "      <td>NaN</td>\n",
       "    </tr>\n",
       "  </tbody>\n",
       "</table>\n",
       "</div>"
      ],
      "text/plain": [
       "        match_id   season  start_date                       venue  innings  \\\n",
       "463832   1334896  2022/23  2022-10-19  Senwes Park, Potchefstroom        1   \n",
       "\n",
       "        ball batting_team bowling_team   striker non_striker       bowler  \\\n",
       "463832   5.6     Dolphins   North West  JT Smuts   B Parsons  D Potgieter   \n",
       "\n",
       "        runs_off_bat  extras  wides  noballs  byes  legbyes  penalty  \\\n",
       "463832             2       0    0.0      0.0   0.0      0.0      0.0   \n",
       "\n",
       "       wicket_type player_dismissed other_wicket_type other_player_dismissed  \\\n",
       "463832                                                                         \n",
       "\n",
       "        year  legality  bowler_wicket  islegal  isDotforBatter  isOne  isTwo  \\\n",
       "463832  2022      True          False        1               0      0      1   \n",
       "\n",
       "        isThree  isStrikeRotation  isFour  isSix  isBowlerWicket  \\\n",
       "463832        0                 1       0      0               0   \n",
       "\n",
       "        is_striker_Out  is_nonstriker_Out  isWicket  total_runs  runs_scored  \\\n",
       "463832               0                  0         0           2           49   \n",
       "\n",
       "        wickets_down  legal_balls_bowled  lbb_fl  run_rate  target  \\\n",
       "463832             1                  35    True       8.4     NaN   \n",
       "\n",
       "        legal_balls_remaining  runs_remaining  reqd_run_rate  \n",
       "463832                     85             NaN            NaN  "
      ]
     },
     "execution_count": 27,
     "metadata": {},
     "output_type": "execute_result"
    }
   ],
   "source": [
    "df.sample(1)"
   ]
  },
  {
   "cell_type": "code",
   "execution_count": 28,
   "id": "1ed2a869",
   "metadata": {
    "scrolled": true
   },
   "outputs": [],
   "source": [
    "import pandas as pd\n",
    "import numpy as np\n",
    "\n",
    "# Initialize the 'last_fow_run_rate' column with NaN\n",
    "df['last_fow_run_rate'] = np.nan\n",
    "\n",
    "# Initialize variables to keep track of the last wickets down, innings, and match_id\n",
    "last_wickets_down = None\n",
    "current_innings = None\n",
    "current_match_id = None\n",
    "last_fow_run_rate = None\n",
    "##\n",
    "last_fow = None\n",
    "\n",
    "# Iterate through the DataFrame rows\n",
    "for index, row in df.iterrows():\n",
    "    match_id = row['match_id']\n",
    "    innings = row['innings']\n",
    "    wickets_down = row['wickets_down']\n",
    "    run_rate = row['run_rate']\n",
    "    runs_scored = row['runs_scored']\n",
    "\n",
    "    # Check if innings or match_id has changed\n",
    "    if innings != current_innings or match_id != current_match_id:\n",
    "        last_fow_run_rate = None  # Reset last_fow_run_rate to None\n",
    "        ##\n",
    "        last_fow = None\n",
    "\n",
    "    # Update the current 'wickets_down', 'innings', 'match_id'\n",
    "    current_wickets_down = wickets_down\n",
    "    current_innings = innings\n",
    "    current_match_id = match_id\n",
    "\n",
    "    # Update the 'last_fow_run_rate' column if 'wickets_down' changes or becomes 1\n",
    "    if wickets_down != last_wickets_down and wickets_down != 0:\n",
    "        last_fow_run_rate = run_rate\n",
    "        ##\n",
    "        last_fow = runs_scored\n",
    "\n",
    "    # Update 'last_fow_run_rate' immediately when 'wickets_down' becomes 1 or changes\n",
    "    if wickets_down == 1 or (last_wickets_down != 0 and wickets_down != last_wickets_down):\n",
    "        df.at[index, 'last_fow_run_rate'] = run_rate\n",
    "        ##\n",
    "        df.at[index, 'last_fow'] = runs_scored\n",
    "        last_fow_run_rate = run_rate\n",
    "        ##\n",
    "        last_fow = runs_scored\n",
    "\n",
    "    # Update 'last_wickets_down'\n",
    "    last_wickets_down = wickets_down\n",
    "\n",
    "# Now, 'last_fow_run_rate' should update immediately when 'wickets_down' becomes 1 or changes, and retain its value in other cases, resetting every match and innings as NaN\n"
   ]
  },
  {
   "cell_type": "code",
   "execution_count": 130,
   "id": "a9dd9920",
   "metadata": {
    "scrolled": true
   },
   "outputs": [
    {
     "name": "stderr",
     "output_type": "stream",
     "text": [
      "<timed exec>:4: UserWarning: Boolean Series key will be reindexed to match DataFrame index.\n",
      "<timed exec>:5: UserWarning: Boolean Series key will be reindexed to match DataFrame index.\n",
      "<timed exec>:6: UserWarning: Boolean Series key will be reindexed to match DataFrame index.\n",
      "<timed exec>:7: UserWarning: Boolean Series key will be reindexed to match DataFrame index.\n"
     ]
    },
    {
     "name": "stdout",
     "output_type": "stream",
     "text": [
      "CPU times: user 2h 50min 16s, sys: 15min 1s, total: 3h 5min 17s\n",
      "Wall time: 1h 16min 41s\n"
     ]
    }
   ],
   "source": [
    "%%time\n",
    "\n",
    "partnership_runs = []\n",
    "for match in df.match_id.unique():\n",
    "    for inning in df[df.match_id==match].innings.unique():\n",
    "        partnership_runs.append(df[df.match_id==match][df.innings==inning]['runs_scored'].iloc[0])\n",
    "        for row in range(1, len(df[df.match_id==match][df.innings==inning])):\n",
    "            previous_fow = df[df.match_id==match][df.innings==inning]['last_fow'].iloc[row-1]\n",
    "            to_append = df[df.match_id==match][df.innings==inning]['runs_scored'].iloc[row] - \\\n",
    "                                        (previous_fow if pd.notna(previous_fow) else 0)\n",
    "            partnership_runs.append(to_append)"
   ]
  },
  {
   "cell_type": "code",
   "execution_count": 34,
   "id": "0e2bbdb5",
   "metadata": {},
   "outputs": [],
   "source": [
    "partnership_runs = []\n",
    "\n",
    "for (match, inning), group in df.groupby(['match_id', 'innings']):\n",
    "    group = group.sort_values('runs_scored').reset_index(drop=True)  # ensure proper order\n",
    "    \n",
    "    for i in range(len(group)):\n",
    "        if i == 0:\n",
    "            partnership_runs.append(group['runs_scored'].iloc[i])\n",
    "        else:\n",
    "            prev_fow = group['last_fow'].iloc[i - 1]\n",
    "            prev_fow_val = prev_fow if pd.notna(prev_fow) else 0\n",
    "            runs = group['runs_scored'].iloc[i] - prev_fow_val\n",
    "            partnership_runs.append(runs)\n"
   ]
  },
  {
   "cell_type": "code",
   "execution_count": 35,
   "id": "dc441e54",
   "metadata": {
    "scrolled": true
   },
   "outputs": [],
   "source": [
    "df['partnership_runs'] = partnership_runs"
   ]
  },
  {
   "cell_type": "code",
   "execution_count": 42,
   "id": "76bd6143",
   "metadata": {},
   "outputs": [
    {
     "data": {
      "text/plain": [
       "(1056601, 50)"
      ]
     },
     "execution_count": 42,
     "metadata": {},
     "output_type": "execute_result"
    }
   ],
   "source": [
    "df.shape"
   ]
  },
  {
   "cell_type": "markdown",
   "id": "14fb567c",
   "metadata": {},
   "source": [
    "### creation of striker_runs, non_striker_runs"
   ]
  },
  {
   "cell_type": "code",
   "execution_count": 41,
   "id": "77219a6c",
   "metadata": {
    "scrolled": false
   },
   "outputs": [
    {
     "data": {
      "text/html": [
       "<div>\n",
       "<style scoped>\n",
       "    .dataframe tbody tr th:only-of-type {\n",
       "        vertical-align: middle;\n",
       "    }\n",
       "\n",
       "    .dataframe tbody tr th {\n",
       "        vertical-align: top;\n",
       "    }\n",
       "\n",
       "    .dataframe thead th {\n",
       "        text-align: right;\n",
       "    }\n",
       "</style>\n",
       "<table border=\"1\" class=\"dataframe\">\n",
       "  <thead>\n",
       "    <tr style=\"text-align: right;\">\n",
       "      <th></th>\n",
       "      <th>match_id</th>\n",
       "      <th>season</th>\n",
       "      <th>start_date</th>\n",
       "      <th>venue</th>\n",
       "      <th>innings</th>\n",
       "      <th>ball</th>\n",
       "      <th>batting_team</th>\n",
       "      <th>bowling_team</th>\n",
       "      <th>striker</th>\n",
       "      <th>non_striker</th>\n",
       "      <th>bowler</th>\n",
       "      <th>runs_off_bat</th>\n",
       "      <th>extras</th>\n",
       "      <th>wides</th>\n",
       "      <th>noballs</th>\n",
       "      <th>byes</th>\n",
       "      <th>legbyes</th>\n",
       "      <th>penalty</th>\n",
       "      <th>wicket_type</th>\n",
       "      <th>player_dismissed</th>\n",
       "      <th>other_wicket_type</th>\n",
       "      <th>other_player_dismissed</th>\n",
       "      <th>year</th>\n",
       "      <th>legality</th>\n",
       "      <th>bowler_wicket</th>\n",
       "      <th>islegal</th>\n",
       "      <th>isDotforBatter</th>\n",
       "      <th>isOne</th>\n",
       "      <th>isTwo</th>\n",
       "      <th>isThree</th>\n",
       "      <th>isStrikeRotation</th>\n",
       "      <th>isFour</th>\n",
       "      <th>isSix</th>\n",
       "      <th>isBowlerWicket</th>\n",
       "      <th>is_striker_Out</th>\n",
       "      <th>is_nonstriker_Out</th>\n",
       "      <th>isWicket</th>\n",
       "      <th>total_runs</th>\n",
       "      <th>runs_scored</th>\n",
       "      <th>wickets_down</th>\n",
       "      <th>legal_balls_bowled</th>\n",
       "      <th>lbb_fl</th>\n",
       "      <th>run_rate</th>\n",
       "      <th>target</th>\n",
       "      <th>legal_balls_remaining</th>\n",
       "      <th>runs_remaining</th>\n",
       "      <th>reqd_run_rate</th>\n",
       "      <th>last_fow_run_rate</th>\n",
       "      <th>last_fow</th>\n",
       "      <th>partnership_runs</th>\n",
       "    </tr>\n",
       "  </thead>\n",
       "  <tbody>\n",
       "    <tr>\n",
       "      <th>682074</th>\n",
       "      <td>1383480</td>\n",
       "      <td>2023/24</td>\n",
       "      <td>2023-10-19</td>\n",
       "      <td>JSCA International Stadium Complex, Ranchi</td>\n",
       "      <td>1</td>\n",
       "      <td>17.4</td>\n",
       "      <td>Gujarat</td>\n",
       "      <td>Goa</td>\n",
       "      <td>RV Patel</td>\n",
       "      <td>Saurav Chauhan</td>\n",
       "      <td>SP Tari</td>\n",
       "      <td>4</td>\n",
       "      <td>0</td>\n",
       "      <td>0.0</td>\n",
       "      <td>0.0</td>\n",
       "      <td>0.0</td>\n",
       "      <td>0.0</td>\n",
       "      <td>0.0</td>\n",
       "      <td></td>\n",
       "      <td></td>\n",
       "      <td></td>\n",
       "      <td></td>\n",
       "      <td>2023</td>\n",
       "      <td>True</td>\n",
       "      <td>False</td>\n",
       "      <td>1</td>\n",
       "      <td>0</td>\n",
       "      <td>0</td>\n",
       "      <td>0</td>\n",
       "      <td>0</td>\n",
       "      <td>0</td>\n",
       "      <td>1</td>\n",
       "      <td>0</td>\n",
       "      <td>0</td>\n",
       "      <td>0</td>\n",
       "      <td>0</td>\n",
       "      <td>0</td>\n",
       "      <td>4</td>\n",
       "      <td>180</td>\n",
       "      <td>5</td>\n",
       "      <td>106</td>\n",
       "      <td>True</td>\n",
       "      <td>10.188679</td>\n",
       "      <td>NaN</td>\n",
       "      <td>14</td>\n",
       "      <td>NaN</td>\n",
       "      <td>NaN</td>\n",
       "      <td>NaN</td>\n",
       "      <td>NaN</td>\n",
       "      <td>83.0</td>\n",
       "    </tr>\n",
       "  </tbody>\n",
       "</table>\n",
       "</div>"
      ],
      "text/plain": [
       "        match_id   season  start_date  \\\n",
       "682074   1383480  2023/24  2023-10-19   \n",
       "\n",
       "                                             venue  innings  ball  \\\n",
       "682074  JSCA International Stadium Complex, Ranchi        1  17.4   \n",
       "\n",
       "       batting_team bowling_team   striker     non_striker   bowler  \\\n",
       "682074      Gujarat          Goa  RV Patel  Saurav Chauhan  SP Tari   \n",
       "\n",
       "        runs_off_bat  extras  wides  noballs  byes  legbyes  penalty  \\\n",
       "682074             4       0    0.0      0.0   0.0      0.0      0.0   \n",
       "\n",
       "       wicket_type player_dismissed other_wicket_type other_player_dismissed  \\\n",
       "682074                                                                         \n",
       "\n",
       "        year  legality  bowler_wicket  islegal  isDotforBatter  isOne  isTwo  \\\n",
       "682074  2023      True          False        1               0      0      0   \n",
       "\n",
       "        isThree  isStrikeRotation  isFour  isSix  isBowlerWicket  \\\n",
       "682074        0                 0       1      0               0   \n",
       "\n",
       "        is_striker_Out  is_nonstriker_Out  isWicket  total_runs  runs_scored  \\\n",
       "682074               0                  0         0           4          180   \n",
       "\n",
       "        wickets_down  legal_balls_bowled  lbb_fl   run_rate  target  \\\n",
       "682074             5                 106    True  10.188679     NaN   \n",
       "\n",
       "        legal_balls_remaining  runs_remaining  reqd_run_rate  \\\n",
       "682074                     14             NaN            NaN   \n",
       "\n",
       "        last_fow_run_rate  last_fow  partnership_runs  \n",
       "682074                NaN       NaN              83.0  "
      ]
     },
     "execution_count": 41,
     "metadata": {},
     "output_type": "execute_result"
    }
   ],
   "source": [
    "df.sample(1)"
   ]
  },
  {
   "cell_type": "code",
   "execution_count": null,
   "id": "fb423ac8",
   "metadata": {},
   "outputs": [],
   "source": []
  },
  {
   "cell_type": "code",
   "execution_count": 43,
   "id": "e524197d",
   "metadata": {},
   "outputs": [
    {
     "data": {
      "text/plain": [
       "0"
      ]
     },
     "execution_count": 43,
     "metadata": {},
     "output_type": "execute_result"
    }
   ],
   "source": [
    "df['lbb_fl'] = 6*(df['ball']+1)>df['legal_balls_bowled']\n",
    "\n",
    "df.shape[0]-df['lbb_fl'].sum()"
   ]
  },
  {
   "cell_type": "code",
   "execution_count": 44,
   "id": "ff7e1c1a",
   "metadata": {
    "scrolled": true
   },
   "outputs": [
    {
     "data": {
      "text/html": [
       "<div>\n",
       "<style scoped>\n",
       "    .dataframe tbody tr th:only-of-type {\n",
       "        vertical-align: middle;\n",
       "    }\n",
       "\n",
       "    .dataframe tbody tr th {\n",
       "        vertical-align: top;\n",
       "    }\n",
       "\n",
       "    .dataframe thead th {\n",
       "        text-align: right;\n",
       "    }\n",
       "</style>\n",
       "<table border=\"1\" class=\"dataframe\">\n",
       "  <thead>\n",
       "    <tr style=\"text-align: right;\">\n",
       "      <th></th>\n",
       "      <th>match_id</th>\n",
       "      <th>season</th>\n",
       "      <th>start_date</th>\n",
       "      <th>venue</th>\n",
       "      <th>innings</th>\n",
       "      <th>ball</th>\n",
       "      <th>batting_team</th>\n",
       "      <th>bowling_team</th>\n",
       "      <th>striker</th>\n",
       "      <th>non_striker</th>\n",
       "      <th>bowler</th>\n",
       "      <th>runs_off_bat</th>\n",
       "      <th>extras</th>\n",
       "      <th>wides</th>\n",
       "      <th>noballs</th>\n",
       "      <th>byes</th>\n",
       "      <th>legbyes</th>\n",
       "      <th>penalty</th>\n",
       "      <th>wicket_type</th>\n",
       "      <th>player_dismissed</th>\n",
       "      <th>other_wicket_type</th>\n",
       "      <th>other_player_dismissed</th>\n",
       "      <th>year</th>\n",
       "      <th>legality</th>\n",
       "      <th>bowler_wicket</th>\n",
       "      <th>islegal</th>\n",
       "      <th>isDotforBatter</th>\n",
       "      <th>isOne</th>\n",
       "      <th>isTwo</th>\n",
       "      <th>isThree</th>\n",
       "      <th>isStrikeRotation</th>\n",
       "      <th>isFour</th>\n",
       "      <th>isSix</th>\n",
       "      <th>isBowlerWicket</th>\n",
       "      <th>is_striker_Out</th>\n",
       "      <th>is_nonstriker_Out</th>\n",
       "      <th>isWicket</th>\n",
       "      <th>total_runs</th>\n",
       "      <th>runs_scored</th>\n",
       "      <th>wickets_down</th>\n",
       "      <th>legal_balls_bowled</th>\n",
       "      <th>lbb_fl</th>\n",
       "      <th>run_rate</th>\n",
       "      <th>target</th>\n",
       "      <th>legal_balls_remaining</th>\n",
       "      <th>runs_remaining</th>\n",
       "      <th>reqd_run_rate</th>\n",
       "      <th>last_fow_run_rate</th>\n",
       "      <th>last_fow</th>\n",
       "      <th>partnership_runs</th>\n",
       "    </tr>\n",
       "  </thead>\n",
       "  <tbody>\n",
       "  </tbody>\n",
       "</table>\n",
       "</div>"
      ],
      "text/plain": [
       "Empty DataFrame\n",
       "Columns: [match_id, season, start_date, venue, innings, ball, batting_team, bowling_team, striker, non_striker, bowler, runs_off_bat, extras, wides, noballs, byes, legbyes, penalty, wicket_type, player_dismissed, other_wicket_type, other_player_dismissed, year, legality, bowler_wicket, islegal, isDotforBatter, isOne, isTwo, isThree, isStrikeRotation, isFour, isSix, isBowlerWicket, is_striker_Out, is_nonstriker_Out, isWicket, total_runs, runs_scored, wickets_down, legal_balls_bowled, lbb_fl, run_rate, target, legal_balls_remaining, runs_remaining, reqd_run_rate, last_fow_run_rate, last_fow, partnership_runs]\n",
       "Index: []"
      ]
     },
     "execution_count": 44,
     "metadata": {},
     "output_type": "execute_result"
    }
   ],
   "source": [
    "df[df.lbb_fl==0].head(10)"
   ]
  },
  {
   "cell_type": "code",
   "execution_count": 45,
   "id": "48cea1bb",
   "metadata": {
    "scrolled": true
   },
   "outputs": [
    {
     "name": "stderr",
     "output_type": "stream",
     "text": [
      "<timed exec>:13: UserWarning: Boolean Series key will be reindexed to match DataFrame index.\n",
      "<timed exec>:15: UserWarning: Boolean Series key will be reindexed to match DataFrame index.\n"
     ]
    },
    {
     "name": "stdout",
     "output_type": "stream",
     "text": [
      "CPU times: user 19min 7s, sys: 4.03 s, total: 19min 11s\n",
      "Wall time: 19min 5s\n"
     ]
    }
   ],
   "source": [
    "%%time\n",
    "\n",
    "striker_runs = []\n",
    "non_striker_runs = []\n",
    "i = 0\n",
    "\n",
    "\n",
    "for match in df.match_id.unique():\n",
    "    i = i+1\n",
    "    df_part = df[df.match_id==match]\n",
    "    for inning in df_part.innings.unique():\n",
    "        first_loc = df_part[df_part.innings==inning].index[0]\n",
    "\n",
    "        for row in (df_part[df_part.innings==inning].index):\n",
    "            s_r = df_part[df_part.innings==inning][df_part.striker==df_part.striker.loc[row]].loc[first_loc:row]\\\n",
    "                                                    .runs_off_bat.sum()\n",
    "            n_s_r = df_part[df_part.innings==inning][df_part.striker==df_part.non_striker.loc[row]].loc[first_loc:row]\\\n",
    "                                                    .runs_off_bat.sum()\n",
    "            striker_runs.append(s_r)\n",
    "            non_striker_runs.append(n_s_r)"
   ]
  },
  {
   "cell_type": "code",
   "execution_count": 46,
   "id": "ca118990",
   "metadata": {},
   "outputs": [],
   "source": [
    "df['striker_runs'] = striker_runs\n",
    "df['non_striker_runs'] = non_striker_runs"
   ]
  },
  {
   "cell_type": "code",
   "execution_count": 47,
   "id": "9b92abd4",
   "metadata": {},
   "outputs": [
    {
     "data": {
      "text/plain": [
       "1019113"
      ]
     },
     "execution_count": 47,
     "metadata": {},
     "output_type": "execute_result"
    }
   ],
   "source": [
    "df['isno'] = (df.noballs>0)\n",
    "\n",
    "df['is_faced_by_batter'] = (df.islegal==1) | (df.isno==True)\n",
    "\n",
    "\n",
    "df['is_faced_by_batter'].sum()"
   ]
  },
  {
   "cell_type": "code",
   "execution_count": 48,
   "id": "fd53ffb8",
   "metadata": {},
   "outputs": [],
   "source": [
    "df.to_csv('/Users/roumyadas/Desktop/Data/t20_cricket_data/Data/created_data/intermediate.csv',\n",
    "             index=None)"
   ]
  },
  {
   "cell_type": "markdown",
   "id": "0aea93fc",
   "metadata": {},
   "source": [
    "df = pd.read_csv('/Users/roumyadas/Desktop/Data/t20_cricket_data/Data/created_data/intermediate.csv')"
   ]
  },
  {
   "cell_type": "code",
   "execution_count": 49,
   "id": "c2bacf9b",
   "metadata": {},
   "outputs": [
    {
     "name": "stderr",
     "output_type": "stream",
     "text": [
      "<timed exec>:13: UserWarning: Boolean Series key will be reindexed to match DataFrame index.\n",
      "<timed exec>:15: UserWarning: Boolean Series key will be reindexed to match DataFrame index.\n"
     ]
    },
    {
     "name": "stdout",
     "output_type": "stream",
     "text": [
      "CPU times: user 19min 11s, sys: 4.09 s, total: 19min 15s\n",
      "Wall time: 19min 10s\n"
     ]
    }
   ],
   "source": [
    "%%time\n",
    "\n",
    "striker_balls = []\n",
    "non_striker_balls = []\n",
    "i = 0\n",
    "\n",
    "\n",
    "for match in df.match_id.unique():\n",
    "    i = i+1\n",
    "    df_part = df[df.match_id==match]\n",
    "    for inning in df_part.innings.unique():\n",
    "        first_loc = df_part[df_part.innings==inning].index[0]\n",
    "\n",
    "        for row in (df_part[df_part.innings==inning].index):\n",
    "            s_b = df_part[df_part.innings==inning][df_part.striker==df_part.striker.loc[row]].loc[first_loc:row]\\\n",
    "                                                    .is_faced_by_batter.sum()\n",
    "            n_s_b = df_part[df_part.innings==inning][df_part.striker==df_part.non_striker.loc[row]].loc[first_loc:row]\\\n",
    "                                                    .is_faced_by_batter.sum()\n",
    "            striker_balls.append(s_b)\n",
    "            non_striker_balls.append(n_s_b)\n",
    "\n",
    "i\n",
    "\n",
    "df['striker_balls'] = striker_balls\n",
    "df['non_striker_balls'] = non_striker_balls\n",
    "\n",
    "#df['striker_SR'] = "
   ]
  },
  {
   "cell_type": "code",
   "execution_count": null,
   "id": "1be518b9",
   "metadata": {},
   "outputs": [],
   "source": []
  },
  {
   "cell_type": "markdown",
   "id": "89865801",
   "metadata": {},
   "source": [
    "### creation of last_fow_run_rate, "
   ]
  },
  {
   "cell_type": "code",
   "execution_count": 50,
   "id": "cbac6815",
   "metadata": {},
   "outputs": [
    {
     "data": {
      "text/plain": [
       "(1056601, 56)"
      ]
     },
     "execution_count": 50,
     "metadata": {},
     "output_type": "execute_result"
    }
   ],
   "source": [
    "df.shape"
   ]
  },
  {
   "cell_type": "code",
   "execution_count": 51,
   "id": "09bb69e5",
   "metadata": {},
   "outputs": [
    {
     "data": {
      "text/plain": [
       "Index(['match_id', 'season', 'start_date', 'venue', 'innings', 'ball',\n",
       "       'batting_team', 'bowling_team', 'striker', 'non_striker', 'bowler',\n",
       "       'runs_off_bat', 'extras', 'wides', 'noballs', 'byes', 'legbyes',\n",
       "       'penalty', 'wicket_type', 'player_dismissed', 'other_wicket_type',\n",
       "       'other_player_dismissed', 'year', 'legality', 'bowler_wicket',\n",
       "       'islegal', 'isDotforBatter', 'isOne', 'isTwo', 'isThree',\n",
       "       'isStrikeRotation', 'isFour', 'isSix', 'isBowlerWicket',\n",
       "       'is_striker_Out', 'is_nonstriker_Out', 'isWicket', 'total_runs',\n",
       "       'runs_scored', 'wickets_down', 'legal_balls_bowled', 'lbb_fl',\n",
       "       'run_rate', 'target', 'legal_balls_remaining', 'runs_remaining',\n",
       "       'reqd_run_rate', 'last_fow_run_rate', 'last_fow', 'partnership_runs',\n",
       "       'striker_runs', 'non_striker_runs', 'isno', 'is_faced_by_batter',\n",
       "       'striker_balls', 'non_striker_balls'],\n",
       "      dtype='object')"
      ]
     },
     "execution_count": 51,
     "metadata": {},
     "output_type": "execute_result"
    }
   ],
   "source": [
    "df.columns"
   ]
  },
  {
   "cell_type": "code",
   "execution_count": 52,
   "id": "30f548f9",
   "metadata": {},
   "outputs": [],
   "source": [
    "# Initialize the 'last_fow_run_rate' column with NaN\n",
    "df['last_fow_run_rate'] = np.nan\n",
    "\n",
    "# Initialize variables to keep track of the last innings and match_id\n",
    "current_innings = None\n",
    "current_match_id = None\n",
    "\n",
    "# Iterate through the DataFrame rows\n",
    "for index, row in df.iterrows():\n",
    "    match_id = row['match_id']\n",
    "    innings = row['innings']\n",
    "    is_wicket = row['isWicket']\n",
    "    run_rate = row['run_rate']\n",
    "\n",
    "    # Check if innings or match_id has changed\n",
    "    if innings != current_innings or match_id != current_match_id:\n",
    "        df.at[index, 'last_fow_run_rate'] = np.nan  # Reset 'last_fow_run_rate' to NaN\n",
    "        current_innings = innings  # Update current_innings\n",
    "        current_match_id = match_id  # Update current_match_id\n",
    "\n",
    "    # Update 'last_fow_run_rate' whenever a wicket falls (isWicket == 1)\n",
    "    if is_wicket == 1:\n",
    "        df.at[index, 'last_fow_run_rate'] = run_rate\n",
    "\n",
    "# Now, 'last_fow_run_rate' should start with NaN, update whenever a wicket falls, and reset to NaN every innings and match\n"
   ]
  },
  {
   "cell_type": "code",
   "execution_count": 53,
   "id": "c176f61b",
   "metadata": {},
   "outputs": [],
   "source": [
    "# Sort the DataFrame by 'match_id', 'innings' for forward filling\n",
    "df.sort_values(by=['match_id', 'start_date', 'innings', 'ball'], inplace=True)\n",
    "\n",
    "# Group by 'match_id' and 'innings' and forward-fill NaN values within each group\n",
    "df['last_fow_run_rate'] = df.groupby(['match_id', 'innings'])['last_fow_run_rate'].fillna(method='ffill')\n",
    "\n",
    "# Reset the DataFrame index\n",
    "df.reset_index(drop=True, inplace=True)\n"
   ]
  },
  {
   "cell_type": "markdown",
   "id": "7dd1846f",
   "metadata": {},
   "source": [
    "#### correcting the last_fow in some cases"
   ]
  },
  {
   "cell_type": "code",
   "execution_count": 54,
   "id": "a8e96dc3",
   "metadata": {},
   "outputs": [],
   "source": [
    "\n",
    "# Sort the DataFrame by 'match_id', 'innings' for forward filling\n",
    "df.sort_values(by=['match_id', 'start_date', 'innings', 'ball'], inplace=True)\n",
    "\n",
    "# Group by 'match_id' and 'innings' and forward-fill NaN values within each group\n",
    "df['last_fow'] = df.groupby(['match_id', 'innings'])['last_fow'].fillna(method='ffill')\n",
    "\n",
    "# Reset the DataFrame index\n",
    "df.reset_index(drop=True, inplace=True)\n"
   ]
  },
  {
   "cell_type": "code",
   "execution_count": 55,
   "id": "3b9f449b",
   "metadata": {},
   "outputs": [
    {
     "data": {
      "text/plain": [
       "(1056601, 56)"
      ]
     },
     "execution_count": 55,
     "metadata": {},
     "output_type": "execute_result"
    }
   ],
   "source": [
    "df.shape"
   ]
  },
  {
   "cell_type": "code",
   "execution_count": 56,
   "id": "92b73e8a",
   "metadata": {},
   "outputs": [],
   "source": [
    "df = df.sort_values(by = ['match_id', 'start_date', 'innings', 'ball'])"
   ]
  },
  {
   "cell_type": "markdown",
   "id": "30664a77",
   "metadata": {},
   "source": [
    "df.tail(600)"
   ]
  },
  {
   "cell_type": "code",
   "execution_count": 57,
   "id": "bec21e0c",
   "metadata": {},
   "outputs": [
    {
     "data": {
      "text/plain": [
       "Index(['match_id', 'season', 'start_date', 'venue', 'innings', 'ball',\n",
       "       'batting_team', 'bowling_team', 'striker', 'non_striker', 'bowler',\n",
       "       'runs_off_bat', 'extras', 'wides', 'noballs', 'byes', 'legbyes',\n",
       "       'penalty', 'wicket_type', 'player_dismissed', 'other_wicket_type',\n",
       "       'other_player_dismissed', 'year', 'legality', 'bowler_wicket',\n",
       "       'islegal', 'isDotforBatter', 'isOne', 'isTwo', 'isThree',\n",
       "       'isStrikeRotation', 'isFour', 'isSix', 'isBowlerWicket',\n",
       "       'is_striker_Out', 'is_nonstriker_Out', 'isWicket', 'total_runs',\n",
       "       'runs_scored', 'wickets_down', 'legal_balls_bowled', 'lbb_fl',\n",
       "       'run_rate', 'target', 'legal_balls_remaining', 'runs_remaining',\n",
       "       'reqd_run_rate', 'last_fow_run_rate', 'last_fow', 'partnership_runs',\n",
       "       'striker_runs', 'non_striker_runs', 'isno', 'is_faced_by_batter',\n",
       "       'striker_balls', 'non_striker_balls'],\n",
       "      dtype='object')"
      ]
     },
     "execution_count": 57,
     "metadata": {},
     "output_type": "execute_result"
    }
   ],
   "source": [
    "df.columns"
   ]
  },
  {
   "cell_type": "markdown",
   "id": "406c98bc",
   "metadata": {},
   "source": [
    "## next part of work :: seggregation and filtering "
   ]
  },
  {
   "cell_type": "code",
   "execution_count": 58,
   "id": "ba71b55d",
   "metadata": {
    "scrolled": true
   },
   "outputs": [
    {
     "data": {
      "text/html": [
       "<div>\n",
       "<style scoped>\n",
       "    .dataframe tbody tr th:only-of-type {\n",
       "        vertical-align: middle;\n",
       "    }\n",
       "\n",
       "    .dataframe tbody tr th {\n",
       "        vertical-align: top;\n",
       "    }\n",
       "\n",
       "    .dataframe thead th {\n",
       "        text-align: right;\n",
       "    }\n",
       "</style>\n",
       "<table border=\"1\" class=\"dataframe\">\n",
       "  <thead>\n",
       "    <tr style=\"text-align: right;\">\n",
       "      <th></th>\n",
       "      <th>match_id</th>\n",
       "      <th>season</th>\n",
       "      <th>start_date</th>\n",
       "      <th>venue</th>\n",
       "      <th>innings</th>\n",
       "      <th>ball</th>\n",
       "      <th>batting_team</th>\n",
       "      <th>bowling_team</th>\n",
       "      <th>striker</th>\n",
       "      <th>non_striker</th>\n",
       "      <th>bowler</th>\n",
       "      <th>runs_off_bat</th>\n",
       "      <th>extras</th>\n",
       "      <th>wides</th>\n",
       "      <th>noballs</th>\n",
       "      <th>byes</th>\n",
       "      <th>legbyes</th>\n",
       "      <th>penalty</th>\n",
       "      <th>wicket_type</th>\n",
       "      <th>player_dismissed</th>\n",
       "      <th>other_wicket_type</th>\n",
       "      <th>other_player_dismissed</th>\n",
       "      <th>year</th>\n",
       "      <th>legality</th>\n",
       "      <th>bowler_wicket</th>\n",
       "      <th>islegal</th>\n",
       "      <th>isDotforBatter</th>\n",
       "      <th>isOne</th>\n",
       "      <th>isTwo</th>\n",
       "      <th>isThree</th>\n",
       "      <th>isStrikeRotation</th>\n",
       "      <th>isFour</th>\n",
       "      <th>isSix</th>\n",
       "      <th>isBowlerWicket</th>\n",
       "      <th>is_striker_Out</th>\n",
       "      <th>is_nonstriker_Out</th>\n",
       "      <th>isWicket</th>\n",
       "      <th>total_runs</th>\n",
       "      <th>runs_scored</th>\n",
       "      <th>wickets_down</th>\n",
       "      <th>legal_balls_bowled</th>\n",
       "      <th>lbb_fl</th>\n",
       "      <th>run_rate</th>\n",
       "      <th>target</th>\n",
       "      <th>legal_balls_remaining</th>\n",
       "      <th>runs_remaining</th>\n",
       "      <th>reqd_run_rate</th>\n",
       "      <th>last_fow_run_rate</th>\n",
       "      <th>last_fow</th>\n",
       "      <th>partnership_runs</th>\n",
       "      <th>striker_runs</th>\n",
       "      <th>non_striker_runs</th>\n",
       "      <th>isno</th>\n",
       "      <th>is_faced_by_batter</th>\n",
       "      <th>striker_balls</th>\n",
       "      <th>non_striker_balls</th>\n",
       "    </tr>\n",
       "  </thead>\n",
       "  <tbody>\n",
       "    <tr>\n",
       "      <th>616977</th>\n",
       "      <td>1369568</td>\n",
       "      <td>2023</td>\n",
       "      <td>2023-08-27</td>\n",
       "      <td>Warner Park, Basseterre, St Kitts</td>\n",
       "      <td>2</td>\n",
       "      <td>1.3</td>\n",
       "      <td>Jamaica Tallawahs</td>\n",
       "      <td>Guyana Amazon Warriors</td>\n",
       "      <td>BA King</td>\n",
       "      <td>KSA McKenzie</td>\n",
       "      <td>R Shepherd</td>\n",
       "      <td>0</td>\n",
       "      <td>0</td>\n",
       "      <td>0.0</td>\n",
       "      <td>0.0</td>\n",
       "      <td>0.0</td>\n",
       "      <td>0.0</td>\n",
       "      <td>0.0</td>\n",
       "      <td>caught</td>\n",
       "      <td>BA King</td>\n",
       "      <td></td>\n",
       "      <td></td>\n",
       "      <td>2023</td>\n",
       "      <td>True</td>\n",
       "      <td>True</td>\n",
       "      <td>1</td>\n",
       "      <td>1</td>\n",
       "      <td>0</td>\n",
       "      <td>0</td>\n",
       "      <td>0</td>\n",
       "      <td>0</td>\n",
       "      <td>0</td>\n",
       "      <td>0</td>\n",
       "      <td>1</td>\n",
       "      <td>1</td>\n",
       "      <td>0</td>\n",
       "      <td>1</td>\n",
       "      <td>0</td>\n",
       "      <td>1</td>\n",
       "      <td>1</td>\n",
       "      <td>9</td>\n",
       "      <td>True</td>\n",
       "      <td>0.666667</td>\n",
       "      <td>211.0</td>\n",
       "      <td>111</td>\n",
       "      <td>210.0</td>\n",
       "      <td>11.351351</td>\n",
       "      <td>0.666667</td>\n",
       "      <td>1.0</td>\n",
       "      <td>47.0</td>\n",
       "      <td>1</td>\n",
       "      <td>0</td>\n",
       "      <td>False</td>\n",
       "      <td>True</td>\n",
       "      <td>6</td>\n",
       "      <td>3</td>\n",
       "    </tr>\n",
       "  </tbody>\n",
       "</table>\n",
       "</div>"
      ],
      "text/plain": [
       "        match_id season  start_date                              venue  \\\n",
       "616977   1369568   2023  2023-08-27  Warner Park, Basseterre, St Kitts   \n",
       "\n",
       "        innings  ball       batting_team            bowling_team  striker  \\\n",
       "616977        2   1.3  Jamaica Tallawahs  Guyana Amazon Warriors  BA King   \n",
       "\n",
       "         non_striker      bowler  runs_off_bat  extras  wides  noballs  byes  \\\n",
       "616977  KSA McKenzie  R Shepherd             0       0    0.0      0.0   0.0   \n",
       "\n",
       "        legbyes  penalty wicket_type player_dismissed other_wicket_type  \\\n",
       "616977      0.0      0.0      caught          BA King                     \n",
       "\n",
       "       other_player_dismissed  year  legality  bowler_wicket  islegal  \\\n",
       "616977                         2023      True           True        1   \n",
       "\n",
       "        isDotforBatter  isOne  isTwo  isThree  isStrikeRotation  isFour  \\\n",
       "616977               1      0      0        0                 0       0   \n",
       "\n",
       "        isSix  isBowlerWicket  is_striker_Out  is_nonstriker_Out  isWicket  \\\n",
       "616977      0               1               1                  0         1   \n",
       "\n",
       "        total_runs  runs_scored  wickets_down  legal_balls_bowled  lbb_fl  \\\n",
       "616977           0            1             1                   9    True   \n",
       "\n",
       "        run_rate  target  legal_balls_remaining  runs_remaining  \\\n",
       "616977  0.666667   211.0                    111           210.0   \n",
       "\n",
       "        reqd_run_rate  last_fow_run_rate  last_fow  partnership_runs  \\\n",
       "616977      11.351351           0.666667       1.0              47.0   \n",
       "\n",
       "        striker_runs  non_striker_runs   isno  is_faced_by_batter  \\\n",
       "616977             1                 0  False                True   \n",
       "\n",
       "        striker_balls  non_striker_balls  \n",
       "616977              6                  3  "
      ]
     },
     "execution_count": 58,
     "metadata": {},
     "output_type": "execute_result"
    }
   ],
   "source": [
    "df.sample(n=1)"
   ]
  },
  {
   "cell_type": "markdown",
   "id": "a87aaec6",
   "metadata": {},
   "source": [
    "### innings division"
   ]
  },
  {
   "cell_type": "code",
   "execution_count": 59,
   "id": "cc01b064",
   "metadata": {},
   "outputs": [],
   "source": [
    "df_1 = df[df.innings==1]\n",
    "df_2 = df[df.innings==2]"
   ]
  },
  {
   "cell_type": "code",
   "execution_count": 60,
   "id": "0a8808f4",
   "metadata": {},
   "outputs": [
    {
     "data": {
      "text/plain": [
       "((558081, 56), (498520, 56))"
      ]
     },
     "execution_count": 60,
     "metadata": {},
     "output_type": "execute_result"
    }
   ],
   "source": [
    "df_1.shape, df_2.shape"
   ]
  },
  {
   "cell_type": "markdown",
   "id": "9e9ba633",
   "metadata": {},
   "source": [
    "### working with both innings"
   ]
  },
  {
   "cell_type": "markdown",
   "id": "86450611",
   "metadata": {},
   "source": [
    "#### creation of fours_hit, sixes_hit"
   ]
  },
  {
   "cell_type": "code",
   "execution_count": 61,
   "id": "600b2c11",
   "metadata": {
    "scrolled": true
   },
   "outputs": [
    {
     "name": "stderr",
     "output_type": "stream",
     "text": [
      "/Users/roumyadas/anaconda3/lib/python3.8/site-packages/pandas/util/_decorators.py:311: SettingWithCopyWarning: \n",
      "A value is trying to be set on a copy of a slice from a DataFrame\n",
      "\n",
      "See the caveats in the documentation: https://pandas.pydata.org/pandas-docs/stable/user_guide/indexing.html#returning-a-view-versus-a-copy\n",
      "  return func(*args, **kwargs)\n",
      "/var/folders/68/nlclwstn1zd28pll4j60q7zw0000gn/T/ipykernel_15444/2831839755.py:5: SettingWithCopyWarning: \n",
      "A value is trying to be set on a copy of a slice from a DataFrame.\n",
      "Try using .loc[row_indexer,col_indexer] = value instead\n",
      "\n",
      "See the caveats in the documentation: https://pandas.pydata.org/pandas-docs/stable/user_guide/indexing.html#returning-a-view-versus-a-copy\n",
      "  df_1['fours'] = df_1.groupby(['match_id', 'innings'])['isFour'].cumsum()\n",
      "/var/folders/68/nlclwstn1zd28pll4j60q7zw0000gn/T/ipykernel_15444/2831839755.py:6: SettingWithCopyWarning: \n",
      "A value is trying to be set on a copy of a slice from a DataFrame.\n",
      "Try using .loc[row_indexer,col_indexer] = value instead\n",
      "\n",
      "See the caveats in the documentation: https://pandas.pydata.org/pandas-docs/stable/user_guide/indexing.html#returning-a-view-versus-a-copy\n",
      "  df_1['sixes'] = df_1.groupby(['match_id', 'innings'])['isSix'].cumsum()\n"
     ]
    }
   ],
   "source": [
    "# Sort the DataFrame by 'match_id', 'innings' for forward filling\n",
    "df_1.sort_values(by=['match_id', 'start_date', 'innings', 'ball'], inplace=True)\n",
    "\n",
    "# Group by 'match_id' and 'innings' and forward-fill NaN values within each group\n",
    "df_1['fours'] = df_1.groupby(['match_id', 'innings'])['isFour'].cumsum()\n",
    "df_1['sixes'] = df_1.groupby(['match_id', 'innings'])['isSix'].cumsum()\n",
    "\n",
    "# Reset the DataFrame index\n",
    "df_1.reset_index(drop=True, inplace=True)\n"
   ]
  },
  {
   "cell_type": "markdown",
   "id": "14b6d621",
   "metadata": {},
   "source": [
    "df_1.head(300)"
   ]
  },
  {
   "cell_type": "markdown",
   "id": "67632a9c",
   "metadata": {},
   "source": [
    "#### creation of fours_hit, sixes_hit"
   ]
  },
  {
   "cell_type": "code",
   "execution_count": 62,
   "id": "69b69033",
   "metadata": {},
   "outputs": [
    {
     "name": "stderr",
     "output_type": "stream",
     "text": [
      "/var/folders/68/nlclwstn1zd28pll4j60q7zw0000gn/T/ipykernel_15444/2393252262.py:5: SettingWithCopyWarning: \n",
      "A value is trying to be set on a copy of a slice from a DataFrame.\n",
      "Try using .loc[row_indexer,col_indexer] = value instead\n",
      "\n",
      "See the caveats in the documentation: https://pandas.pydata.org/pandas-docs/stable/user_guide/indexing.html#returning-a-view-versus-a-copy\n",
      "  df_2['fours'] = df_2.groupby(['match_id', 'innings'])['isFour'].cumsum()\n",
      "/var/folders/68/nlclwstn1zd28pll4j60q7zw0000gn/T/ipykernel_15444/2393252262.py:6: SettingWithCopyWarning: \n",
      "A value is trying to be set on a copy of a slice from a DataFrame.\n",
      "Try using .loc[row_indexer,col_indexer] = value instead\n",
      "\n",
      "See the caveats in the documentation: https://pandas.pydata.org/pandas-docs/stable/user_guide/indexing.html#returning-a-view-versus-a-copy\n",
      "  df_2['sixes'] = df_2.groupby(['match_id', 'innings'])['isSix'].cumsum()\n"
     ]
    }
   ],
   "source": [
    "# Sort the DataFrame by 'match_id', 'innings' for forward filling\n",
    "df_2.sort_values(by=['match_id', 'start_date', 'innings', 'ball'], inplace=True)\n",
    "\n",
    "# Group by 'match_id' and 'innings' and forward-fill NaN values within each group\n",
    "df_2['fours'] = df_2.groupby(['match_id', 'innings'])['isFour'].cumsum()\n",
    "df_2['sixes'] = df_2.groupby(['match_id', 'innings'])['isSix'].cumsum()\n",
    "\n",
    "# Reset the DataFrame index\n",
    "df_2.reset_index(drop=True, inplace=True)\n"
   ]
  },
  {
   "cell_type": "code",
   "execution_count": 63,
   "id": "6e9b18ab",
   "metadata": {},
   "outputs": [],
   "source": [
    "\n",
    "# Create a dictionary to store the maximum runs_scored for each match_id and innings\n",
    "max_runs_dict = {}\n",
    "\n",
    "# Iterate through the DataFrame to populate the max_runs_dict\n",
    "for index, row in df.iterrows():\n",
    "    match_id = row['match_id']\n",
    "    innings = row['innings']\n",
    "    runs_scored = row['runs_scored']\n",
    "    \n",
    "    if match_id not in max_runs_dict:\n",
    "        max_runs_dict[match_id] = {'innings_1_max': 0, 'innings_2_max': 0}\n",
    "    \n",
    "    if innings == 1 and runs_scored > max_runs_dict[match_id]['innings_1_max']:\n",
    "        max_runs_dict[match_id]['innings_1_max'] = runs_scored\n",
    "    elif innings == 2 and runs_scored > max_runs_dict[match_id]['innings_2_max']:\n",
    "        max_runs_dict[match_id]['innings_2_max'] = runs_scored\n",
    "\n",
    "# Create a function to determine the 'Win_FL' value based on max_runs_dict\n",
    "def calculate_win_fl(row):\n",
    "    match_id = row['match_id']\n",
    "    innings = row['innings']\n",
    "    \n",
    "    if innings == 1:\n",
    "        if max_runs_dict[match_id]['innings_1_max'] > max_runs_dict[match_id]['innings_2_max']:\n",
    "            return 1\n",
    "        elif max_runs_dict[match_id]['innings_1_max'] < max_runs_dict[match_id]['innings_2_max']:\n",
    "            return\n"
   ]
  },
  {
   "cell_type": "code",
   "execution_count": 64,
   "id": "74cb03af",
   "metadata": {},
   "outputs": [
    {
     "name": "stdout",
     "output_type": "stream",
     "text": [
      "CPU times: user 13.6 s, sys: 661 ms, total: 14.2 s\n",
      "Wall time: 14.5 s\n"
     ]
    },
    {
     "name": "stderr",
     "output_type": "stream",
     "text": [
      "<timed exec>:46: SettingWithCopyWarning: \n",
      "A value is trying to be set on a copy of a slice from a DataFrame.\n",
      "Try using .loc[row_indexer,col_indexer] = value instead\n",
      "\n",
      "See the caveats in the documentation: https://pandas.pydata.org/pandas-docs/stable/user_guide/indexing.html#returning-a-view-versus-a-copy\n",
      "<timed exec>:47: SettingWithCopyWarning: \n",
      "A value is trying to be set on a copy of a slice from a DataFrame.\n",
      "Try using .loc[row_indexer,col_indexer] = value instead\n",
      "\n",
      "See the caveats in the documentation: https://pandas.pydata.org/pandas-docs/stable/user_guide/indexing.html#returning-a-view-versus-a-copy\n"
     ]
    }
   ],
   "source": [
    "%%time\n",
    "\n",
    "# Initialize a dictionary to store player-to-number mappings for each match_id\n",
    "player_to_number = {}\n",
    "\n",
    "# Initialize a list to store player_number\n",
    "player_number = [1]\n",
    "\n",
    "# Function to update player-to-number mappings\n",
    "def update_player_mapping(player):\n",
    "    player_to_number[player] = player_number[0]\n",
    "    player_number[0] += 1\n",
    "\n",
    "# Lists to store batting positions for striker and non-striker\n",
    "striker_positions = []\n",
    "non_striker_positions = []\n",
    "\n",
    "# Initialize current match_id\n",
    "current_match_id = None\n",
    "\n",
    "# Iterate through DataFrame rows\n",
    "for index, row in df_1.iterrows():\n",
    "    #print(index)\n",
    "    \n",
    "    match_id = row['match_id']\n",
    "    striker = row['striker']\n",
    "    non_striker = row['non_striker']\n",
    "    \n",
    "    # Check if it's a new match_id\n",
    "    if current_match_id != match_id:\n",
    "        current_match_id = match_id\n",
    "        player_to_number.clear()\n",
    "        player_number[0] = 1\n",
    "    \n",
    "    # Check if striker has been encountered before in this match\n",
    "    if striker not in player_to_number:\n",
    "        update_player_mapping(striker)\n",
    "    \n",
    "    # Check if non-striker has been encountered before in this match\n",
    "    if non_striker not in player_to_number:\n",
    "        update_player_mapping(non_striker)\n",
    "    \n",
    "    # Append player numbers to the respective lists\n",
    "    striker_positions.append(player_to_number[striker])\n",
    "    non_striker_positions.append(player_to_number[non_striker])\n",
    "\n",
    "# Create new columns 'striker_batting_position' and 'non_striker_batting_position'\n",
    "df_1['striker_batting_position'] = striker_positions\n",
    "df_1['non_striker_batting_position'] = non_striker_positions\n",
    "\n",
    "# Now, 'df_1_mod' contains the desired columns with player numbering based on their first appearance in each match\n"
   ]
  },
  {
   "cell_type": "code",
   "execution_count": 65,
   "id": "9dbdf52c",
   "metadata": {},
   "outputs": [
    {
     "name": "stdout",
     "output_type": "stream",
     "text": [
      "CPU times: user 12.1 s, sys: 479 ms, total: 12.5 s\n",
      "Wall time: 12.7 s\n"
     ]
    },
    {
     "name": "stderr",
     "output_type": "stream",
     "text": [
      "<timed exec>:46: SettingWithCopyWarning: \n",
      "A value is trying to be set on a copy of a slice from a DataFrame.\n",
      "Try using .loc[row_indexer,col_indexer] = value instead\n",
      "\n",
      "See the caveats in the documentation: https://pandas.pydata.org/pandas-docs/stable/user_guide/indexing.html#returning-a-view-versus-a-copy\n",
      "<timed exec>:47: SettingWithCopyWarning: \n",
      "A value is trying to be set on a copy of a slice from a DataFrame.\n",
      "Try using .loc[row_indexer,col_indexer] = value instead\n",
      "\n",
      "See the caveats in the documentation: https://pandas.pydata.org/pandas-docs/stable/user_guide/indexing.html#returning-a-view-versus-a-copy\n"
     ]
    }
   ],
   "source": [
    "%%time\n",
    "\n",
    "# Initialize a dictionary to store player-to-number mappings for each match_id\n",
    "player_to_number = {}\n",
    "\n",
    "# Initialize a list to store player_number\n",
    "player_number = [1]\n",
    "\n",
    "# Function to update player-to-number mappings\n",
    "def update_player_mapping(player):\n",
    "    player_to_number[player] = player_number[0]\n",
    "    player_number[0] += 1\n",
    "\n",
    "# Lists to store batting positions for striker and non-striker\n",
    "striker_positions = []\n",
    "non_striker_positions = []\n",
    "\n",
    "# Initialize current match_id\n",
    "current_match_id = None\n",
    "\n",
    "# Iterate through DataFrame rows\n",
    "for index, row in df_2.iterrows():\n",
    "   \n",
    "    \n",
    "    match_id = row['match_id']\n",
    "    striker = row['striker']\n",
    "    non_striker = row['non_striker']\n",
    "    \n",
    "    # Check if it's a new match_id\n",
    "    if current_match_id != match_id:\n",
    "        current_match_id = match_id\n",
    "        player_to_number.clear()\n",
    "        player_number[0] = 1\n",
    "    \n",
    "    # Check if striker has been encountered before in this match\n",
    "    if striker not in player_to_number:\n",
    "        update_player_mapping(striker)\n",
    "    \n",
    "    # Check if non-striker has been encountered before in this match\n",
    "    if non_striker not in player_to_number:\n",
    "        update_player_mapping(non_striker)\n",
    "    \n",
    "    # Append player numbers to the respective lists\n",
    "    striker_positions.append(player_to_number[striker])\n",
    "    non_striker_positions.append(player_to_number[non_striker])\n",
    "\n",
    "# Create new columns 'striker_batting_position' and 'non_striker_batting_position'\n",
    "df_2['striker_batting_position'] = striker_positions\n",
    "df_2['non_striker_batting_position'] = non_striker_positions\n",
    "\n",
    "# Now, 'df_2_mod' contains the desired columns with player numbering based on their first appearance in each match\n"
   ]
  },
  {
   "cell_type": "code",
   "execution_count": null,
   "id": "12c48503",
   "metadata": {},
   "outputs": [],
   "source": []
  },
  {
   "cell_type": "code",
   "execution_count": 66,
   "id": "ca4a6f0a",
   "metadata": {
    "scrolled": true
   },
   "outputs": [
    {
     "data": {
      "text/plain": [
       "(1056601, 56)"
      ]
     },
     "execution_count": 66,
     "metadata": {},
     "output_type": "execute_result"
    }
   ],
   "source": [
    "df.shape"
   ]
  },
  {
   "cell_type": "code",
   "execution_count": 67,
   "id": "68face5c",
   "metadata": {},
   "outputs": [],
   "source": [
    "total_runs_df = df.pivot_table(index=['match_id'], columns='innings', values='runs_scored',\\\n",
    "                               aggfunc='max').reset_index(drop=False)\n",
    "\n",
    "total_runs_df.columns = ['match_id', 'inn_1_total', 'inn_2_total']"
   ]
  },
  {
   "cell_type": "code",
   "execution_count": 68,
   "id": "ea3454c1",
   "metadata": {},
   "outputs": [
    {
     "data": {
      "text/plain": [
       "(4573, 3)"
      ]
     },
     "execution_count": 68,
     "metadata": {},
     "output_type": "execute_result"
    }
   ],
   "source": [
    "total_runs_df.shape"
   ]
  },
  {
   "cell_type": "code",
   "execution_count": 69,
   "id": "88e8db5f",
   "metadata": {},
   "outputs": [],
   "source": [
    "total_runs_df['inn_1_win_fl'] = 0\n",
    "\n",
    "total_runs_df.loc[total_runs_df.inn_1_total>total_runs_df.inn_2_total, 'inn_1_win_fl'] = 1\n",
    "total_runs_df.loc[total_runs_df.inn_1_total==total_runs_df.inn_2_total, 'inn_1_win_fl'] = 0.5\n",
    "\n"
   ]
  },
  {
   "cell_type": "code",
   "execution_count": 70,
   "id": "4d38cc98",
   "metadata": {},
   "outputs": [],
   "source": [
    "total_runs_df['inn_2_win_fl'] = 1 - total_runs_df['inn_1_win_fl']"
   ]
  },
  {
   "cell_type": "markdown",
   "id": "ec25c758",
   "metadata": {},
   "source": [
    "df_1.to_csv('/Users/roumyadas/Desktop/Data/t20_cricket_data/Data/created_data/inn_1_i.csv',\n",
    "             index=None)\n",
    "\n",
    "df_2.to_csv('/Users/roumyadas/Desktop/Data/t20_cricket_data/Data/created_data/inn_2_i.csv',\n",
    "             index=None)"
   ]
  },
  {
   "cell_type": "code",
   "execution_count": 71,
   "id": "8afe229c",
   "metadata": {},
   "outputs": [],
   "source": [
    "df_1.to_csv('/Users/roumyadas/Desktop/Data/t20_cricket_data/Data/created_data/inn_1.csv',\n",
    "             index=None)\n",
    "\n",
    "df_2.to_csv('/Users/roumyadas/Desktop/Data/t20_cricket_data/Data/created_data/inn_2.csv',\n",
    "             index=None)"
   ]
  },
  {
   "cell_type": "markdown",
   "id": "175663da",
   "metadata": {},
   "source": [
    "df[(df.batting_team=='India')&(df.bowling_team=='South Africa')].tail()"
   ]
  },
  {
   "cell_type": "code",
   "execution_count": 72,
   "id": "03314416",
   "metadata": {},
   "outputs": [
    {
     "name": "stderr",
     "output_type": "stream",
     "text": [
      "/var/folders/68/nlclwstn1zd28pll4j60q7zw0000gn/T/ipykernel_15444/1081569298.py:1: UserWarning: Boolean Series key will be reindexed to match DataFrame index.\n",
      "  df[df.striker=='Tilak Varma'][df.batting_team=='India'].start_date.value_counts()\n"
     ]
    },
    {
     "data": {
      "text/plain": [
       "2024-11-13    59\n",
       "2025-01-25    57\n",
       "2024-11-15    52\n",
       "2023-08-06    45\n",
       "2023-08-08    38\n",
       "2023-11-28    28\n",
       "2023-10-06    27\n",
       "2024-01-11    23\n",
       "2024-11-10    22\n",
       "2023-08-03    22\n",
       "2023-08-13    19\n",
       "2024-11-08    18\n",
       "2025-01-22    16\n",
       "2025-01-28    15\n",
       "2025-02-02    15\n",
       "2023-11-23    10\n",
       "2023-10-03    10\n",
       "2023-08-12     6\n",
       "2023-11-26     3\n",
       "2023-08-20     2\n",
       "2023-12-14     1\n",
       "2025-01-31     1\n",
       "Name: start_date, dtype: int64"
      ]
     },
     "execution_count": 72,
     "metadata": {},
     "output_type": "execute_result"
    }
   ],
   "source": [
    "df[df.striker=='Tilak Varma'][df.batting_team=='India'].start_date.value_counts()"
   ]
  },
  {
   "cell_type": "code",
   "execution_count": 73,
   "id": "5e9c3c33",
   "metadata": {},
   "outputs": [
    {
     "data": {
      "text/plain": [
       "('2025-06-03', '2025-06-03')"
      ]
     },
     "execution_count": 73,
     "metadata": {},
     "output_type": "execute_result"
    }
   ],
   "source": [
    "df.start_date.max(), df_2.start_date.max()"
   ]
  },
  {
   "cell_type": "code",
   "execution_count": null,
   "id": "8ebabfea",
   "metadata": {},
   "outputs": [],
   "source": []
  },
  {
   "cell_type": "code",
   "execution_count": null,
   "id": "b1ccdd7d",
   "metadata": {},
   "outputs": [],
   "source": []
  }
 ],
 "metadata": {
  "kernelspec": {
   "display_name": "Python 3 (ipykernel)",
   "language": "python",
   "name": "python3"
  },
  "language_info": {
   "codemirror_mode": {
    "name": "ipython",
    "version": 3
   },
   "file_extension": ".py",
   "mimetype": "text/x-python",
   "name": "python",
   "nbconvert_exporter": "python",
   "pygments_lexer": "ipython3",
   "version": "3.8.12"
  }
 },
 "nbformat": 4,
 "nbformat_minor": 5
}
