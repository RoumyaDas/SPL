{
 "cells": [
  {
   "cell_type": "code",
   "execution_count": 19,
   "id": "be4130f6",
   "metadata": {},
   "outputs": [],
   "source": [
    "import pandas as pd\n",
    "import glob\n",
    "import numpy as np\n",
    "pd.set_option('display.max_columns', None)\n",
    "pd.set_option('display.max_rows', None)"
   ]
  },
  {
   "cell_type": "code",
   "execution_count": 20,
   "id": "b627ca01",
   "metadata": {},
   "outputs": [
    {
     "name": "stderr",
     "output_type": "stream",
     "text": [
      "/Users/roumyadas/anaconda3/lib/python3.8/site-packages/IPython/core/interactiveshell.py:3444: DtypeWarning: Columns (1,20,21) have mixed types.Specify dtype option on import or set low_memory=False.\n",
      "  exec(code_obj, self.user_global_ns, self.user_ns)\n"
     ]
    }
   ],
   "source": [
    "inn_1 = pd.read_csv('/Users/roumyadas/Desktop/Data/t20_cricket_data/Data/created_data/inn_1.csv')\n",
    "inn_2 = pd.read_csv('/Users/roumyadas/Desktop/Data/t20_cricket_data/Data/created_data/inn_2.csv')\n",
    "#inn_1_i = pd.read_csv('/Users/roumyadas/Desktop/Data/t20_cricket_data/Data/created_data/inn_1_i.csv')\n",
    "#inn_2_i = pd.read_csv('/Users/roumyadas/Desktop/Data/t20_cricket_data/Data/created_data/inn_2_i.csv')"
   ]
  },
  {
   "cell_type": "code",
   "execution_count": 21,
   "id": "bd066264",
   "metadata": {},
   "outputs": [],
   "source": [
    "columns = ['striker','non_striker','bowler']"
   ]
  },
  {
   "cell_type": "code",
   "execution_count": null,
   "id": "05e433d7",
   "metadata": {},
   "outputs": [],
   "source": []
  },
  {
   "cell_type": "code",
   "execution_count": 26,
   "id": "a75b8bc4",
   "metadata": {},
   "outputs": [],
   "source": [
    "player_list_S03 = pd.read_excel('/Users/roumyadas/Desktop/Data/t20_cricket_data/Data/created_data/player_list.xlsx',\n",
    "                           sheet_name='season_03')\n",
    "\n",
    "mod_list = player_list_S03['Func_Name'].unique()\n",
    "\n",
    "inn_1_mod = inn_1[inn_1.striker.isin(mod_list)]\n",
    "inn_2_mod = inn_2[inn_2.striker.isin(mod_list)]\n",
    "\n"
   ]
  },
  {
   "cell_type": "code",
   "execution_count": 27,
   "id": "66f847d5",
   "metadata": {},
   "outputs": [
    {
     "data": {
      "text/plain": [
       "2431"
      ]
     },
     "execution_count": 27,
     "metadata": {},
     "output_type": "execute_result"
    }
   ],
   "source": [
    "player_list = []\n",
    "dfs = [inn_1_mod, inn_2_mod]\n",
    "\n",
    "for df in dfs:\n",
    "    for col in columns:\n",
    "        ls = df[col].unique().tolist()\n",
    "        player_list.append(ls)\n",
    "    \n",
    "\n",
    "players_list = list(set(element for sublist in player_list for element in sublist))\n",
    "\n",
    "len(players_list)\n"
   ]
  },
  {
   "cell_type": "code",
   "execution_count": 6,
   "id": "7354f9eb",
   "metadata": {},
   "outputs": [],
   "source": [
    "player_list = pd.DataFrame()\n",
    "\n",
    "player_list['Player'] = pd.Series(players_list)"
   ]
  },
  {
   "cell_type": "code",
   "execution_count": 7,
   "id": "175869f3",
   "metadata": {},
   "outputs": [],
   "source": [
    "player_list.to_csv('/Users/roumyadas/Desktop/Data/t20_cricket_data/Data/created_data/player_list.csv', index=None)"
   ]
  },
  {
   "cell_type": "markdown",
   "id": "214385d8",
   "metadata": {},
   "source": [
    "inn_1[inn_1.batting_team.str.contains('engaluru')].tail(50)"
   ]
  },
  {
   "cell_type": "code",
   "execution_count": null,
   "id": "354dfd3c",
   "metadata": {},
   "outputs": [],
   "source": []
  },
  {
   "cell_type": "code",
   "execution_count": null,
   "id": "443824ba",
   "metadata": {},
   "outputs": [],
   "source": []
  },
  {
   "cell_type": "markdown",
   "id": "4e8837f7",
   "metadata": {},
   "source": [
    "## getting the subsets"
   ]
  },
  {
   "cell_type": "code",
   "execution_count": 8,
   "id": "118a7da9",
   "metadata": {
    "scrolled": true
   },
   "outputs": [],
   "source": [
    "player_list = pd.read_excel('/Users/roumyadas/Desktop/Data/t20_cricket_data/Data/created_data/player_list.xlsx',\n",
    "                           sheet_name='season_03')"
   ]
  },
  {
   "cell_type": "code",
   "execution_count": 9,
   "id": "c34109f2",
   "metadata": {},
   "outputs": [
    {
     "data": {
      "text/html": [
       "<div>\n",
       "<style scoped>\n",
       "    .dataframe tbody tr th:only-of-type {\n",
       "        vertical-align: middle;\n",
       "    }\n",
       "\n",
       "    .dataframe tbody tr th {\n",
       "        vertical-align: top;\n",
       "    }\n",
       "\n",
       "    .dataframe thead th {\n",
       "        text-align: right;\n",
       "    }\n",
       "</style>\n",
       "<table border=\"1\" class=\"dataframe\">\n",
       "  <thead>\n",
       "    <tr style=\"text-align: right;\">\n",
       "      <th></th>\n",
       "      <th>Set</th>\n",
       "      <th>Name</th>\n",
       "      <th>Country</th>\n",
       "      <th>Specialism</th>\n",
       "      <th>Procedure</th>\n",
       "      <th>Indian_FL</th>\n",
       "      <th>Overseas_FL</th>\n",
       "      <th>Price</th>\n",
       "      <th>Team_S03</th>\n",
       "      <th>Unnamed: 9</th>\n",
       "      <th>Func_Name</th>\n",
       "      <th>equality_indicator</th>\n",
       "      <th>Spin/Pace</th>\n",
       "      <th>played</th>\n",
       "    </tr>\n",
       "  </thead>\n",
       "  <tbody>\n",
       "    <tr>\n",
       "      <th>130</th>\n",
       "      <td>R</td>\n",
       "      <td>Tanush Kotian</td>\n",
       "      <td>India</td>\n",
       "      <td>ALL-ROUNDER</td>\n",
       "      <td>NaN</td>\n",
       "      <td>1</td>\n",
       "      <td>0</td>\n",
       "      <td>0.60</td>\n",
       "      <td>SRH</td>\n",
       "      <td>NaN</td>\n",
       "      <td>Tanush Kotian</td>\n",
       "      <td>1.0</td>\n",
       "      <td>Spin</td>\n",
       "      <td>NaN</td>\n",
       "    </tr>\n",
       "    <tr>\n",
       "      <th>131</th>\n",
       "      <td>R</td>\n",
       "      <td>Shams Mulani</td>\n",
       "      <td>India</td>\n",
       "      <td>ALL-ROUNDER</td>\n",
       "      <td>NaN</td>\n",
       "      <td>1</td>\n",
       "      <td>0</td>\n",
       "      <td>0.40</td>\n",
       "      <td>MI</td>\n",
       "      <td>NaN</td>\n",
       "      <td>SZ Mulani</td>\n",
       "      <td>0.0</td>\n",
       "      <td>Spin</td>\n",
       "      <td>NaN</td>\n",
       "    </tr>\n",
       "    <tr>\n",
       "      <th>132</th>\n",
       "      <td>R</td>\n",
       "      <td>Urvil Patel</td>\n",
       "      <td>India</td>\n",
       "      <td>WICKETKEEPER</td>\n",
       "      <td>NaN</td>\n",
       "      <td>1</td>\n",
       "      <td>0</td>\n",
       "      <td>3.00</td>\n",
       "      <td>DC</td>\n",
       "      <td>NaN</td>\n",
       "      <td>Urvil Patel</td>\n",
       "      <td>1.0</td>\n",
       "      <td>0</td>\n",
       "      <td>NaN</td>\n",
       "    </tr>\n",
       "    <tr>\n",
       "      <th>133</th>\n",
       "      <td>R</td>\n",
       "      <td>Ishan Porel</td>\n",
       "      <td>India</td>\n",
       "      <td>BOWLER</td>\n",
       "      <td>NaN</td>\n",
       "      <td>1</td>\n",
       "      <td>0</td>\n",
       "      <td>0.40</td>\n",
       "      <td>SRH</td>\n",
       "      <td>NaN</td>\n",
       "      <td>IC Porel</td>\n",
       "      <td>0.0</td>\n",
       "      <td>Pace</td>\n",
       "      <td>NaN</td>\n",
       "    </tr>\n",
       "    <tr>\n",
       "      <th>134</th>\n",
       "      <td>R</td>\n",
       "      <td>Sikandar Raza</td>\n",
       "      <td>Zimbabwe</td>\n",
       "      <td>ALL-ROUNDER</td>\n",
       "      <td>NaN</td>\n",
       "      <td>0</td>\n",
       "      <td>1</td>\n",
       "      <td>0.75</td>\n",
       "      <td>DC</td>\n",
       "      <td>NaN</td>\n",
       "      <td>Sikandar Raza</td>\n",
       "      <td>1.0</td>\n",
       "      <td>Spin</td>\n",
       "      <td>NaN</td>\n",
       "    </tr>\n",
       "  </tbody>\n",
       "</table>\n",
       "</div>"
      ],
      "text/plain": [
       "    Set           Name   Country   Specialism  Procedure  Indian_FL  \\\n",
       "130   R  Tanush Kotian     India   ALL-ROUNDER       NaN          1   \n",
       "131   R   Shams Mulani     India   ALL-ROUNDER       NaN          1   \n",
       "132   R    Urvil Patel     India  WICKETKEEPER       NaN          1   \n",
       "133   R    Ishan Porel     India        BOWLER       NaN          1   \n",
       "134   R  Sikandar Raza  Zimbabwe   ALL-ROUNDER       NaN          0   \n",
       "\n",
       "     Overseas_FL  Price Team_S03  Unnamed: 9      Func_Name  \\\n",
       "130            0   0.60      SRH         NaN  Tanush Kotian   \n",
       "131            0   0.40       MI         NaN      SZ Mulani   \n",
       "132            0   3.00       DC         NaN    Urvil Patel   \n",
       "133            0   0.40      SRH         NaN       IC Porel   \n",
       "134            1   0.75       DC         NaN  Sikandar Raza   \n",
       "\n",
       "     equality_indicator Spin/Pace  played  \n",
       "130                 1.0      Spin     NaN  \n",
       "131                 0.0      Spin     NaN  \n",
       "132                 1.0         0     NaN  \n",
       "133                 0.0      Pace     NaN  \n",
       "134                 1.0      Spin     NaN  "
      ]
     },
     "execution_count": 9,
     "metadata": {},
     "output_type": "execute_result"
    }
   ],
   "source": [
    "player_list.iloc[130:135]"
   ]
  },
  {
   "cell_type": "code",
   "execution_count": 10,
   "id": "961c0a32",
   "metadata": {},
   "outputs": [
    {
     "name": "stdout",
     "output_type": "stream",
     "text": [
      "<class 'list'>\n"
     ]
    },
    {
     "data": {
      "text/plain": [
       "247"
      ]
     },
     "execution_count": 10,
     "metadata": {},
     "output_type": "execute_result"
    }
   ],
   "source": [
    "players_list = player_list['Func_Name'].dropna().tolist()\n",
    "\n",
    "#players_list = players_list.remove('nan')\n",
    "\n",
    "print(type(players_list))\n",
    "\n",
    "len(players_list)"
   ]
  },
  {
   "cell_type": "code",
   "execution_count": 11,
   "id": "efd2004b",
   "metadata": {},
   "outputs": [
    {
     "data": {
      "text/plain": [
       "((558081, 60), (498520, 60))"
      ]
     },
     "execution_count": 11,
     "metadata": {},
     "output_type": "execute_result"
    }
   ],
   "source": [
    "inn_1.shape, inn_2.shape\n",
    "#, inn_1_i.shape, inn_2_i.shape"
   ]
  },
  {
   "cell_type": "code",
   "execution_count": 12,
   "id": "cac38e87",
   "metadata": {},
   "outputs": [
    {
     "name": "stdout",
     "output_type": "stream",
     "text": [
      "(192539, 60)\n",
      "(174644, 60)\n"
     ]
    }
   ],
   "source": [
    "dfs = [inn_1, inn_2]\n",
    "\n",
    "df_sub = pd.DataFrame()\n",
    "\n",
    "for df in dfs:\n",
    "    \n",
    "    \n",
    "    cond_1 = df.striker.isin(players_list)\n",
    "    cond_2 = df.non_striker.isin(players_list)\n",
    "    cond_3 = df.bowler.isin(players_list)\n",
    "    \n",
    "    fd = df[(cond_1)|(cond_2)|(cond_3)]\n",
    "    \n",
    "    df_sub = df_sub.append(fd)\n",
    "    \n",
    "    print(fd.shape)"
   ]
  },
  {
   "cell_type": "code",
   "execution_count": 13,
   "id": "a872d354",
   "metadata": {},
   "outputs": [
    {
     "data": {
      "text/plain": [
       "(367183, 60)"
      ]
     },
     "execution_count": 13,
     "metadata": {},
     "output_type": "execute_result"
    }
   ],
   "source": [
    "df_sub.shape"
   ]
  },
  {
   "cell_type": "code",
   "execution_count": 14,
   "id": "9d93409f",
   "metadata": {},
   "outputs": [],
   "source": [
    "df_sub.to_csv('/Users/roumyadas/Desktop/Data/t20_cricket_data/Data/created_data/t20_pl.csv', index=None)"
   ]
  },
  {
   "cell_type": "code",
   "execution_count": 15,
   "id": "e744ee87",
   "metadata": {},
   "outputs": [],
   "source": [
    "ground_map = {'M Chinnaswamy Stadium, Bangalore':'RCB',\n",
    "              'M.Chinnaswamy Stadium':'RCB',\n",
    "              'M Chinnaswamy Stadium, Bengaluru':'RCB',\n",
    "              \n",
    "              'MA Chidambaram Stadium, Chepauk':'CSK',\n",
    "              'MA Chidambaram Stadium, Chepauk, Chennai':'CSK',\n",
    "              'MA Chidambaram Stadium':'CSK',\n",
    "              \n",
    "              'Arun Jaitley Stadium':'DC',\n",
    "              'Arun Jaitley Stadium, Delhi':'DC',\n",
    "              \n",
    "              'Wankhede Stadium, Mumbai':'MI',\n",
    "              'Wankhede Stadium':'MI',\n",
    "              \n",
    "              \n",
    "              'Rajiv Gandhi International Stadium, Uppal, Hyderabad':'SRH',\n",
    "              'Rajiv Gandhi International Stadium, Uppal':'SRH',\n",
    "              'Rajiv Gandhi International Stadium':'SRH',\n",
    "              \n",
    "              'Bharat Ratna Shri Atal Bihari Vajpayee Ekana Cricket Stadium, Lucknow':'LSG',\n",
    "              'Bharat Ratna Shri Atal Bihari Vajpayee Ekana Cricket Stadium':'LSG',\n",
    "              \n",
    "              'Eden Gardens, Kolkata':'KKR',\n",
    "              'Eden Gardens':'KKR',\n",
    "              \n",
    "              'Narendra Modi Stadium, Ahmedabad':'GT',\n",
    "              'Narendra Modi Stadium':'GT',\n",
    "              \n",
    "              'Maharaja Yadavindra Singh International Cricket Stadium, Mullanpur':'PBKS',\n",
    "              \n",
    "              'Sawai Mansingh Stadium, Jaipur':'RR',\n",
    "              'Sawai Mansingh Stadium':'RR'\n",
    "             \n",
    "             }"
   ]
  },
  {
   "cell_type": "code",
   "execution_count": 16,
   "id": "6f3ea9d0",
   "metadata": {},
   "outputs": [],
   "source": [
    "#df_sub= pd.read_csv('/Users/roumyadas/Desktop/Data/t20_cricket_data/Data/created_data/t20_pl.csv')\n",
    "df_sub['venue'] = df_sub['venue'].replace(ground_map)\n",
    "\n",
    "df_sub.to_csv('/Users/roumyadas/Desktop/Data/t20_cricket_data/Data/created_data/t20_pl_g.csv', index=None)"
   ]
  },
  {
   "cell_type": "markdown",
   "id": "18df6b0d",
   "metadata": {},
   "source": [
    "df_sub[df_sub.striker.str.contains('Sanvir Singh')]"
   ]
  },
  {
   "cell_type": "code",
   "execution_count": 17,
   "id": "7117cfb8",
   "metadata": {},
   "outputs": [
    {
     "data": {
      "text/plain": [
       "Index(['match_id', 'season', 'start_date', 'venue', 'innings', 'ball',\n",
       "       'batting_team', 'bowling_team', 'striker', 'non_striker', 'bowler',\n",
       "       'runs_off_bat', 'extras', 'wides', 'noballs', 'byes', 'legbyes',\n",
       "       'penalty', 'wicket_type', 'player_dismissed', 'other_wicket_type',\n",
       "       'other_player_dismissed', 'year', 'legality', 'bowler_wicket',\n",
       "       'islegal', 'isDotforBatter', 'isOne', 'isTwo', 'isThree',\n",
       "       'isStrikeRotation', 'isFour', 'isSix', 'isBowlerWicket',\n",
       "       'is_striker_Out', 'is_nonstriker_Out', 'isWicket', 'total_runs',\n",
       "       'runs_scored', 'wickets_down', 'legal_balls_bowled', 'lbb_fl',\n",
       "       'run_rate', 'target', 'legal_balls_remaining', 'runs_remaining',\n",
       "       'reqd_run_rate', 'last_fow_run_rate', 'last_fow', 'partnership_runs',\n",
       "       'striker_runs', 'non_striker_runs', 'isno', 'is_faced_by_batter',\n",
       "       'striker_balls', 'non_striker_balls', 'fours', 'sixes',\n",
       "       'striker_batting_position', 'non_striker_batting_position'],\n",
       "      dtype='object')"
      ]
     },
     "execution_count": 17,
     "metadata": {},
     "output_type": "execute_result"
    }
   ],
   "source": [
    "df_sub.columns"
   ]
  },
  {
   "cell_type": "code",
   "execution_count": 18,
   "id": "ae2cc1ee",
   "metadata": {
    "scrolled": true
   },
   "outputs": [
    {
     "name": "stderr",
     "output_type": "stream",
     "text": [
      "/Users/roumyadas/anaconda3/lib/python3.8/site-packages/IPython/core/interactiveshell.py:3444: DtypeWarning: Columns (20,21,42) have mixed types.Specify dtype option on import or set low_memory=False.\n",
      "  exec(code_obj, self.user_global_ns, self.user_ns)\n"
     ]
    },
    {
     "data": {
      "text/plain": [
       "Index(['match_id', 'season', 'start_date', 'venue', 'innings', 'ball',\n",
       "       'batting_team', 'bowling_team', 'striker', 'non_striker', 'bowler',\n",
       "       'runs_off_bat', 'extras', 'wides', 'noballs', 'byes', 'legbyes',\n",
       "       'wicket_type', 'player_dismissed', 'legal_balls_bowled', 'wicket_event',\n",
       "       'fielder', 'legality', 'bowler_wicket', 'islegal', 'isDotforBatter',\n",
       "       'isOne', 'isTwo', 'isThree', 'isStrikeRotation', 'isFour', 'isSix',\n",
       "       'isBowlerWicket', 'is_striker_Out', 'is_nonstriker_Out', 'isWicket',\n",
       "       'total_runs', 'runs_scored', 'wickets_down', 'run_rate', 'last_fow',\n",
       "       'partnership_runs', 'isno', 'is_faced_by_batter', 'last_fow_run_rate',\n",
       "       'fours', 'sixes', 'striker_batting_position',\n",
       "       'non_striker_batting_position', 'runs_conceeded', 'isDotforbowler',\n",
       "       'legal_balls_remaining', 'target', 'runs_remaining', 'reqd_run_rate',\n",
       "       'pitch', 'toss', 'decision'],\n",
       "      dtype='object')"
      ]
     },
     "execution_count": 18,
     "metadata": {},
     "output_type": "execute_result"
    }
   ],
   "source": [
    "df_g = pd.read_csv('/Users/roumyadas/Desktop/IPL_Simulation/Season_03/Stats/df_combined_SPL.csv')\n",
    "\n",
    "df_g.columns"
   ]
  }
 ],
 "metadata": {
  "kernelspec": {
   "display_name": "Python 3 (ipykernel)",
   "language": "python",
   "name": "python3"
  },
  "language_info": {
   "codemirror_mode": {
    "name": "ipython",
    "version": 3
   },
   "file_extension": ".py",
   "mimetype": "text/x-python",
   "name": "python",
   "nbconvert_exporter": "python",
   "pygments_lexer": "ipython3",
   "version": "3.8.12"
  }
 },
 "nbformat": 4,
 "nbformat_minor": 5
}
