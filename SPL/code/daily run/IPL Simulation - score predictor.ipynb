{
 "cells": [
  {
   "cell_type": "code",
   "execution_count": 1,
   "id": "7f2e5efe",
   "metadata": {},
   "outputs": [],
   "source": [
    "import pandas as pd\n",
    "import glob\n",
    "import numpy as np\n",
    "pd.set_option('display.max_columns', None)\n",
    "pd.set_option('display.max_rows', None)"
   ]
  },
  {
   "cell_type": "code",
   "execution_count": 2,
   "id": "b0bbc42e",
   "metadata": {},
   "outputs": [],
   "source": [
    "df_1 = pd.read_csv('/Users/roumyadas/Desktop/IPL_Simulation/Stats_S01_vault/df_all_round_sim.csv')\n",
    "\n",
    "match_result = pd.read_excel('/Users/roumyadas/Desktop/IPL_Simulation/Fixtures/IPL_2024_schedule.xlsx',\n",
    "                            sheet_name='Season_01')\n",
    "\n",
    "match_result = match_result[['Date','Team One','Team Two','num','Spin:Pace']]"
   ]
  },
  {
   "cell_type": "code",
   "execution_count": 3,
   "id": "de09fd56",
   "metadata": {},
   "outputs": [],
   "source": [
    "df_1 = df_1[df_1['innings']==1].reset_index(drop=True)\n",
    "\n",
    "df_1.sort_values(by=['match_id','innings','ball'], inplace=True)"
   ]
  },
  {
   "cell_type": "code",
   "execution_count": 4,
   "id": "92fb8713",
   "metadata": {},
   "outputs": [
    {
     "data": {
      "text/plain": [
       "Index(['match_id', 'season', 'start_date', 'venue', 'innings', 'ball',\n",
       "       'batting_team', 'bowling_team', 'striker', 'non_striker', 'bowler',\n",
       "       'runs_off_bat', 'extras', 'wides', 'noballs', 'byes', 'legbyes',\n",
       "       'wicket_type', 'player_dismissed', 'legal_balls_bowled', 'legality',\n",
       "       'bowler_wicket', 'islegal', 'isDotforBatter', 'isOne', 'isTwo',\n",
       "       'isThree', 'isStrikeRotation', 'isFour', 'isSix', 'isBowlerWicket',\n",
       "       'is_striker_Out', 'is_nonstriker_Out', 'isWicket', 'total_runs',\n",
       "       'runs_scored', 'wickets_down', 'run_rate', 'last_fow',\n",
       "       'partnership_runs', 'isno', 'is_faced_by_batter', 'last_fow_run_rate',\n",
       "       'fours', 'sixes', 'striker_batting_position',\n",
       "       'non_striker_batting_position', 'runs_conceeded', 'isDotforbowler',\n",
       "       'legal_balls_remaining', 'target', 'runs_remaining', 'reqd_run_rate'],\n",
       "      dtype='object')"
      ]
     },
     "execution_count": 4,
     "metadata": {},
     "output_type": "execute_result"
    }
   ],
   "source": [
    "df_1.columns"
   ]
  },
  {
   "cell_type": "markdown",
   "id": "157a33a8",
   "metadata": {},
   "source": [
    "groupby_list = ['wicket_type']\n",
    "run_out_df = pd.DataFrame(df_1[df_1.wicket_type=='run out'].groupby('match_id')[groupby_list].count()).\\\n",
    "                reset_index(drop=False).sort_values(by='wicket_type')\n",
    "\n",
    "bat_team_df = pd.DataFrame(df_1[df_1.wicket_type=='run out'].groupby('match_id')['batting_team'].unique()).\\\n",
    "                reset_index(drop=False)\n",
    "\n",
    "bowl_team_df = pd.DataFrame(df_1[df_1.wicket_type=='run out'].groupby('match_id')['bowling_team'].unique()).\\\n",
    "                reset_index(drop=False)\n",
    "\n",
    "start_dt_df = pd.DataFrame(df_1[df_1.wicket_type=='run out'].groupby('match_id')['start_date'].unique()).\\\n",
    "                reset_index(drop=False)"
   ]
  },
  {
   "cell_type": "markdown",
   "id": "9969c8a4",
   "metadata": {
    "scrolled": true
   },
   "source": [
    "run_out_df_mod = run_out_df.merge(bat_team_df.merge(bowl_team_df.merge(start_dt_df, on='match_id'),\\\n",
    "                                                    on='match_id'), on='match_id')\n",
    "\n",
    "run_out_df_mod[run_out_df_mod.wicket_type>=4]"
   ]
  },
  {
   "cell_type": "code",
   "execution_count": 5,
   "id": "04fba785",
   "metadata": {},
   "outputs": [
    {
     "data": {
      "text/html": [
       "<div>\n",
       "<style scoped>\n",
       "    .dataframe tbody tr th:only-of-type {\n",
       "        vertical-align: middle;\n",
       "    }\n",
       "\n",
       "    .dataframe tbody tr th {\n",
       "        vertical-align: top;\n",
       "    }\n",
       "\n",
       "    .dataframe thead th {\n",
       "        text-align: right;\n",
       "    }\n",
       "</style>\n",
       "<table border=\"1\" class=\"dataframe\">\n",
       "  <thead>\n",
       "    <tr style=\"text-align: right;\">\n",
       "      <th></th>\n",
       "      <th>match_id</th>\n",
       "      <th>season</th>\n",
       "      <th>start_date</th>\n",
       "      <th>venue</th>\n",
       "      <th>innings</th>\n",
       "      <th>ball</th>\n",
       "      <th>batting_team</th>\n",
       "      <th>bowling_team</th>\n",
       "      <th>striker</th>\n",
       "      <th>non_striker</th>\n",
       "      <th>bowler</th>\n",
       "      <th>runs_off_bat</th>\n",
       "      <th>extras</th>\n",
       "      <th>wides</th>\n",
       "      <th>noballs</th>\n",
       "      <th>byes</th>\n",
       "      <th>legbyes</th>\n",
       "      <th>wicket_type</th>\n",
       "      <th>player_dismissed</th>\n",
       "      <th>legal_balls_bowled</th>\n",
       "      <th>legality</th>\n",
       "      <th>bowler_wicket</th>\n",
       "      <th>islegal</th>\n",
       "      <th>isDotforBatter</th>\n",
       "      <th>isOne</th>\n",
       "      <th>isTwo</th>\n",
       "      <th>isThree</th>\n",
       "      <th>isStrikeRotation</th>\n",
       "      <th>isFour</th>\n",
       "      <th>isSix</th>\n",
       "      <th>isBowlerWicket</th>\n",
       "      <th>is_striker_Out</th>\n",
       "      <th>is_nonstriker_Out</th>\n",
       "      <th>isWicket</th>\n",
       "      <th>total_runs</th>\n",
       "      <th>runs_scored</th>\n",
       "      <th>wickets_down</th>\n",
       "      <th>run_rate</th>\n",
       "      <th>last_fow</th>\n",
       "      <th>partnership_runs</th>\n",
       "      <th>isno</th>\n",
       "      <th>is_faced_by_batter</th>\n",
       "      <th>last_fow_run_rate</th>\n",
       "      <th>fours</th>\n",
       "      <th>sixes</th>\n",
       "      <th>striker_batting_position</th>\n",
       "      <th>non_striker_batting_position</th>\n",
       "      <th>runs_conceeded</th>\n",
       "      <th>isDotforbowler</th>\n",
       "      <th>legal_balls_remaining</th>\n",
       "      <th>target</th>\n",
       "      <th>runs_remaining</th>\n",
       "      <th>reqd_run_rate</th>\n",
       "    </tr>\n",
       "  </thead>\n",
       "  <tbody>\n",
       "    <tr>\n",
       "      <th>0</th>\n",
       "      <td>M001</td>\n",
       "      <td>2025</td>\n",
       "      <td>2025-01-30</td>\n",
       "      <td>DC</td>\n",
       "      <td>1</td>\n",
       "      <td>1</td>\n",
       "      <td>LSG</td>\n",
       "      <td>DC</td>\n",
       "      <td>Shubman Gill</td>\n",
       "      <td>WG Jacks</td>\n",
       "      <td>RA Jadeja</td>\n",
       "      <td>1</td>\n",
       "      <td>0</td>\n",
       "      <td>0</td>\n",
       "      <td>0</td>\n",
       "      <td>0</td>\n",
       "      <td>0</td>\n",
       "      <td>NaN</td>\n",
       "      <td>NaN</td>\n",
       "      <td>1</td>\n",
       "      <td>True</td>\n",
       "      <td>False</td>\n",
       "      <td>1</td>\n",
       "      <td>0</td>\n",
       "      <td>1</td>\n",
       "      <td>0</td>\n",
       "      <td>0</td>\n",
       "      <td>1</td>\n",
       "      <td>0</td>\n",
       "      <td>0</td>\n",
       "      <td>0</td>\n",
       "      <td>0</td>\n",
       "      <td>0</td>\n",
       "      <td>0</td>\n",
       "      <td>1</td>\n",
       "      <td>1</td>\n",
       "      <td>0</td>\n",
       "      <td>6.0</td>\n",
       "      <td>0.0</td>\n",
       "      <td>1.0</td>\n",
       "      <td>False</td>\n",
       "      <td>1</td>\n",
       "      <td>NaN</td>\n",
       "      <td>0</td>\n",
       "      <td>0</td>\n",
       "      <td>1</td>\n",
       "      <td>2</td>\n",
       "      <td>1</td>\n",
       "      <td>0</td>\n",
       "      <td>NaN</td>\n",
       "      <td>NaN</td>\n",
       "      <td>NaN</td>\n",
       "      <td>NaN</td>\n",
       "    </tr>\n",
       "    <tr>\n",
       "      <th>1</th>\n",
       "      <td>M001</td>\n",
       "      <td>2025</td>\n",
       "      <td>2025-01-30</td>\n",
       "      <td>DC</td>\n",
       "      <td>1</td>\n",
       "      <td>2</td>\n",
       "      <td>LSG</td>\n",
       "      <td>DC</td>\n",
       "      <td>WG Jacks</td>\n",
       "      <td>Shubman Gill</td>\n",
       "      <td>RA Jadeja</td>\n",
       "      <td>0</td>\n",
       "      <td>1</td>\n",
       "      <td>0</td>\n",
       "      <td>0</td>\n",
       "      <td>0</td>\n",
       "      <td>1</td>\n",
       "      <td>NaN</td>\n",
       "      <td>NaN</td>\n",
       "      <td>2</td>\n",
       "      <td>True</td>\n",
       "      <td>False</td>\n",
       "      <td>1</td>\n",
       "      <td>1</td>\n",
       "      <td>0</td>\n",
       "      <td>0</td>\n",
       "      <td>0</td>\n",
       "      <td>0</td>\n",
       "      <td>0</td>\n",
       "      <td>0</td>\n",
       "      <td>0</td>\n",
       "      <td>0</td>\n",
       "      <td>0</td>\n",
       "      <td>0</td>\n",
       "      <td>1</td>\n",
       "      <td>2</td>\n",
       "      <td>0</td>\n",
       "      <td>6.0</td>\n",
       "      <td>0.0</td>\n",
       "      <td>2.0</td>\n",
       "      <td>False</td>\n",
       "      <td>1</td>\n",
       "      <td>NaN</td>\n",
       "      <td>0</td>\n",
       "      <td>0</td>\n",
       "      <td>2</td>\n",
       "      <td>1</td>\n",
       "      <td>0</td>\n",
       "      <td>1</td>\n",
       "      <td>NaN</td>\n",
       "      <td>NaN</td>\n",
       "      <td>NaN</td>\n",
       "      <td>NaN</td>\n",
       "    </tr>\n",
       "    <tr>\n",
       "      <th>2</th>\n",
       "      <td>M001</td>\n",
       "      <td>2025</td>\n",
       "      <td>2025-01-30</td>\n",
       "      <td>DC</td>\n",
       "      <td>1</td>\n",
       "      <td>3</td>\n",
       "      <td>LSG</td>\n",
       "      <td>DC</td>\n",
       "      <td>Shubman Gill</td>\n",
       "      <td>WG Jacks</td>\n",
       "      <td>RA Jadeja</td>\n",
       "      <td>1</td>\n",
       "      <td>0</td>\n",
       "      <td>0</td>\n",
       "      <td>0</td>\n",
       "      <td>0</td>\n",
       "      <td>0</td>\n",
       "      <td>NaN</td>\n",
       "      <td>NaN</td>\n",
       "      <td>3</td>\n",
       "      <td>True</td>\n",
       "      <td>False</td>\n",
       "      <td>1</td>\n",
       "      <td>0</td>\n",
       "      <td>1</td>\n",
       "      <td>0</td>\n",
       "      <td>0</td>\n",
       "      <td>1</td>\n",
       "      <td>0</td>\n",
       "      <td>0</td>\n",
       "      <td>0</td>\n",
       "      <td>0</td>\n",
       "      <td>0</td>\n",
       "      <td>0</td>\n",
       "      <td>1</td>\n",
       "      <td>3</td>\n",
       "      <td>0</td>\n",
       "      <td>6.0</td>\n",
       "      <td>0.0</td>\n",
       "      <td>3.0</td>\n",
       "      <td>False</td>\n",
       "      <td>1</td>\n",
       "      <td>NaN</td>\n",
       "      <td>0</td>\n",
       "      <td>0</td>\n",
       "      <td>1</td>\n",
       "      <td>2</td>\n",
       "      <td>1</td>\n",
       "      <td>0</td>\n",
       "      <td>NaN</td>\n",
       "      <td>NaN</td>\n",
       "      <td>NaN</td>\n",
       "      <td>NaN</td>\n",
       "    </tr>\n",
       "    <tr>\n",
       "      <th>3</th>\n",
       "      <td>M001</td>\n",
       "      <td>2025</td>\n",
       "      <td>2025-01-30</td>\n",
       "      <td>DC</td>\n",
       "      <td>1</td>\n",
       "      <td>4</td>\n",
       "      <td>LSG</td>\n",
       "      <td>DC</td>\n",
       "      <td>WG Jacks</td>\n",
       "      <td>Shubman Gill</td>\n",
       "      <td>RA Jadeja</td>\n",
       "      <td>0</td>\n",
       "      <td>0</td>\n",
       "      <td>0</td>\n",
       "      <td>0</td>\n",
       "      <td>0</td>\n",
       "      <td>0</td>\n",
       "      <td>NaN</td>\n",
       "      <td>NaN</td>\n",
       "      <td>4</td>\n",
       "      <td>True</td>\n",
       "      <td>False</td>\n",
       "      <td>1</td>\n",
       "      <td>1</td>\n",
       "      <td>0</td>\n",
       "      <td>0</td>\n",
       "      <td>0</td>\n",
       "      <td>0</td>\n",
       "      <td>0</td>\n",
       "      <td>0</td>\n",
       "      <td>0</td>\n",
       "      <td>0</td>\n",
       "      <td>0</td>\n",
       "      <td>0</td>\n",
       "      <td>0</td>\n",
       "      <td>3</td>\n",
       "      <td>0</td>\n",
       "      <td>4.5</td>\n",
       "      <td>0.0</td>\n",
       "      <td>3.0</td>\n",
       "      <td>False</td>\n",
       "      <td>1</td>\n",
       "      <td>NaN</td>\n",
       "      <td>0</td>\n",
       "      <td>0</td>\n",
       "      <td>2</td>\n",
       "      <td>1</td>\n",
       "      <td>0</td>\n",
       "      <td>1</td>\n",
       "      <td>NaN</td>\n",
       "      <td>NaN</td>\n",
       "      <td>NaN</td>\n",
       "      <td>NaN</td>\n",
       "    </tr>\n",
       "    <tr>\n",
       "      <th>4</th>\n",
       "      <td>M001</td>\n",
       "      <td>2025</td>\n",
       "      <td>2025-01-30</td>\n",
       "      <td>DC</td>\n",
       "      <td>1</td>\n",
       "      <td>5</td>\n",
       "      <td>LSG</td>\n",
       "      <td>DC</td>\n",
       "      <td>WG Jacks</td>\n",
       "      <td>Shubman Gill</td>\n",
       "      <td>RA Jadeja</td>\n",
       "      <td>1</td>\n",
       "      <td>0</td>\n",
       "      <td>0</td>\n",
       "      <td>0</td>\n",
       "      <td>0</td>\n",
       "      <td>0</td>\n",
       "      <td>NaN</td>\n",
       "      <td>NaN</td>\n",
       "      <td>5</td>\n",
       "      <td>True</td>\n",
       "      <td>False</td>\n",
       "      <td>1</td>\n",
       "      <td>0</td>\n",
       "      <td>1</td>\n",
       "      <td>0</td>\n",
       "      <td>0</td>\n",
       "      <td>1</td>\n",
       "      <td>0</td>\n",
       "      <td>0</td>\n",
       "      <td>0</td>\n",
       "      <td>0</td>\n",
       "      <td>0</td>\n",
       "      <td>0</td>\n",
       "      <td>1</td>\n",
       "      <td>4</td>\n",
       "      <td>0</td>\n",
       "      <td>4.8</td>\n",
       "      <td>0.0</td>\n",
       "      <td>4.0</td>\n",
       "      <td>False</td>\n",
       "      <td>1</td>\n",
       "      <td>NaN</td>\n",
       "      <td>0</td>\n",
       "      <td>0</td>\n",
       "      <td>2</td>\n",
       "      <td>1</td>\n",
       "      <td>1</td>\n",
       "      <td>0</td>\n",
       "      <td>NaN</td>\n",
       "      <td>NaN</td>\n",
       "      <td>NaN</td>\n",
       "      <td>NaN</td>\n",
       "    </tr>\n",
       "  </tbody>\n",
       "</table>\n",
       "</div>"
      ],
      "text/plain": [
       "  match_id  season  start_date venue  innings  ball batting_team bowling_team  \\\n",
       "0     M001    2025  2025-01-30    DC        1     1          LSG           DC   \n",
       "1     M001    2025  2025-01-30    DC        1     2          LSG           DC   \n",
       "2     M001    2025  2025-01-30    DC        1     3          LSG           DC   \n",
       "3     M001    2025  2025-01-30    DC        1     4          LSG           DC   \n",
       "4     M001    2025  2025-01-30    DC        1     5          LSG           DC   \n",
       "\n",
       "        striker   non_striker     bowler  runs_off_bat  extras  wides  \\\n",
       "0  Shubman Gill      WG Jacks  RA Jadeja             1       0      0   \n",
       "1      WG Jacks  Shubman Gill  RA Jadeja             0       1      0   \n",
       "2  Shubman Gill      WG Jacks  RA Jadeja             1       0      0   \n",
       "3      WG Jacks  Shubman Gill  RA Jadeja             0       0      0   \n",
       "4      WG Jacks  Shubman Gill  RA Jadeja             1       0      0   \n",
       "\n",
       "   noballs  byes  legbyes wicket_type player_dismissed  legal_balls_bowled  \\\n",
       "0        0     0        0         NaN              NaN                   1   \n",
       "1        0     0        1         NaN              NaN                   2   \n",
       "2        0     0        0         NaN              NaN                   3   \n",
       "3        0     0        0         NaN              NaN                   4   \n",
       "4        0     0        0         NaN              NaN                   5   \n",
       "\n",
       "   legality  bowler_wicket  islegal  isDotforBatter  isOne  isTwo  isThree  \\\n",
       "0      True          False        1               0      1      0        0   \n",
       "1      True          False        1               1      0      0        0   \n",
       "2      True          False        1               0      1      0        0   \n",
       "3      True          False        1               1      0      0        0   \n",
       "4      True          False        1               0      1      0        0   \n",
       "\n",
       "   isStrikeRotation  isFour  isSix  isBowlerWicket  is_striker_Out  \\\n",
       "0                 1       0      0               0               0   \n",
       "1                 0       0      0               0               0   \n",
       "2                 1       0      0               0               0   \n",
       "3                 0       0      0               0               0   \n",
       "4                 1       0      0               0               0   \n",
       "\n",
       "   is_nonstriker_Out  isWicket  total_runs  runs_scored  wickets_down  \\\n",
       "0                  0         0           1            1             0   \n",
       "1                  0         0           1            2             0   \n",
       "2                  0         0           1            3             0   \n",
       "3                  0         0           0            3             0   \n",
       "4                  0         0           1            4             0   \n",
       "\n",
       "   run_rate  last_fow  partnership_runs   isno  is_faced_by_batter  \\\n",
       "0       6.0       0.0               1.0  False                   1   \n",
       "1       6.0       0.0               2.0  False                   1   \n",
       "2       6.0       0.0               3.0  False                   1   \n",
       "3       4.5       0.0               3.0  False                   1   \n",
       "4       4.8       0.0               4.0  False                   1   \n",
       "\n",
       "   last_fow_run_rate  fours  sixes  striker_batting_position  \\\n",
       "0                NaN      0      0                         1   \n",
       "1                NaN      0      0                         2   \n",
       "2                NaN      0      0                         1   \n",
       "3                NaN      0      0                         2   \n",
       "4                NaN      0      0                         2   \n",
       "\n",
       "   non_striker_batting_position  runs_conceeded  isDotforbowler  \\\n",
       "0                             2               1               0   \n",
       "1                             1               0               1   \n",
       "2                             2               1               0   \n",
       "3                             1               0               1   \n",
       "4                             1               1               0   \n",
       "\n",
       "   legal_balls_remaining  target  runs_remaining  reqd_run_rate  \n",
       "0                    NaN     NaN             NaN            NaN  \n",
       "1                    NaN     NaN             NaN            NaN  \n",
       "2                    NaN     NaN             NaN            NaN  \n",
       "3                    NaN     NaN             NaN            NaN  \n",
       "4                    NaN     NaN             NaN            NaN  "
      ]
     },
     "execution_count": 5,
     "metadata": {},
     "output_type": "execute_result"
    }
   ],
   "source": [
    "df_1.head()"
   ]
  },
  {
   "cell_type": "markdown",
   "id": "a056bc40",
   "metadata": {},
   "source": [
    "### removing the first 18 legal balls, as the prediction would be too unstable"
   ]
  },
  {
   "cell_type": "code",
   "execution_count": 6,
   "id": "42a8a7bf",
   "metadata": {},
   "outputs": [],
   "source": [
    "df_1 = df_1[df_1.legal_balls_bowled>=18+1]"
   ]
  },
  {
   "cell_type": "code",
   "execution_count": 7,
   "id": "fdc2a143",
   "metadata": {},
   "outputs": [
    {
     "data": {
      "text/plain": [
       "(7103, 53)"
      ]
     },
     "execution_count": 7,
     "metadata": {},
     "output_type": "execute_result"
    }
   ],
   "source": [
    "df_1.shape"
   ]
  },
  {
   "cell_type": "code",
   "execution_count": 8,
   "id": "b467d21d",
   "metadata": {},
   "outputs": [],
   "source": [
    "df_1_mod = df_1"
   ]
  },
  {
   "cell_type": "code",
   "execution_count": 9,
   "id": "9b414e3b",
   "metadata": {},
   "outputs": [
    {
     "data": {
      "text/html": [
       "<div>\n",
       "<style scoped>\n",
       "    .dataframe tbody tr th:only-of-type {\n",
       "        vertical-align: middle;\n",
       "    }\n",
       "\n",
       "    .dataframe tbody tr th {\n",
       "        vertical-align: top;\n",
       "    }\n",
       "\n",
       "    .dataframe thead th {\n",
       "        text-align: right;\n",
       "    }\n",
       "</style>\n",
       "<table border=\"1\" class=\"dataframe\">\n",
       "  <thead>\n",
       "    <tr style=\"text-align: right;\">\n",
       "      <th></th>\n",
       "      <th>match_id</th>\n",
       "      <th>season</th>\n",
       "      <th>start_date</th>\n",
       "      <th>venue</th>\n",
       "      <th>innings</th>\n",
       "      <th>ball</th>\n",
       "      <th>batting_team</th>\n",
       "      <th>bowling_team</th>\n",
       "      <th>striker</th>\n",
       "      <th>non_striker</th>\n",
       "      <th>bowler</th>\n",
       "      <th>runs_off_bat</th>\n",
       "      <th>extras</th>\n",
       "      <th>wides</th>\n",
       "      <th>noballs</th>\n",
       "      <th>byes</th>\n",
       "      <th>legbyes</th>\n",
       "      <th>wicket_type</th>\n",
       "      <th>player_dismissed</th>\n",
       "      <th>legal_balls_bowled</th>\n",
       "      <th>legality</th>\n",
       "      <th>bowler_wicket</th>\n",
       "      <th>islegal</th>\n",
       "      <th>isDotforBatter</th>\n",
       "      <th>isOne</th>\n",
       "      <th>isTwo</th>\n",
       "      <th>isThree</th>\n",
       "      <th>isStrikeRotation</th>\n",
       "      <th>isFour</th>\n",
       "      <th>isSix</th>\n",
       "      <th>isBowlerWicket</th>\n",
       "      <th>is_striker_Out</th>\n",
       "      <th>is_nonstriker_Out</th>\n",
       "      <th>isWicket</th>\n",
       "      <th>total_runs</th>\n",
       "      <th>runs_scored</th>\n",
       "      <th>wickets_down</th>\n",
       "      <th>run_rate</th>\n",
       "      <th>last_fow</th>\n",
       "      <th>partnership_runs</th>\n",
       "      <th>isno</th>\n",
       "      <th>is_faced_by_batter</th>\n",
       "      <th>last_fow_run_rate</th>\n",
       "      <th>fours</th>\n",
       "      <th>sixes</th>\n",
       "      <th>striker_batting_position</th>\n",
       "      <th>non_striker_batting_position</th>\n",
       "      <th>runs_conceeded</th>\n",
       "      <th>isDotforbowler</th>\n",
       "      <th>legal_balls_remaining</th>\n",
       "      <th>target</th>\n",
       "      <th>runs_remaining</th>\n",
       "      <th>reqd_run_rate</th>\n",
       "    </tr>\n",
       "  </thead>\n",
       "  <tbody>\n",
       "    <tr>\n",
       "      <th>369</th>\n",
       "      <td>M004</td>\n",
       "      <td>2025</td>\n",
       "      <td>2025-01-31</td>\n",
       "      <td>PBKS</td>\n",
       "      <td>1</td>\n",
       "      <td>22</td>\n",
       "      <td>SRH</td>\n",
       "      <td>PBKS</td>\n",
       "      <td>LS Livingstone</td>\n",
       "      <td>Priyansh Arya</td>\n",
       "      <td>Washington Sundar</td>\n",
       "      <td>1</td>\n",
       "      <td>0</td>\n",
       "      <td>0</td>\n",
       "      <td>0</td>\n",
       "      <td>0</td>\n",
       "      <td>0</td>\n",
       "      <td>NaN</td>\n",
       "      <td>NaN</td>\n",
       "      <td>22</td>\n",
       "      <td>True</td>\n",
       "      <td>False</td>\n",
       "      <td>1</td>\n",
       "      <td>0</td>\n",
       "      <td>1</td>\n",
       "      <td>0</td>\n",
       "      <td>0</td>\n",
       "      <td>1</td>\n",
       "      <td>0</td>\n",
       "      <td>0</td>\n",
       "      <td>0</td>\n",
       "      <td>0</td>\n",
       "      <td>0</td>\n",
       "      <td>0</td>\n",
       "      <td>1</td>\n",
       "      <td>30</td>\n",
       "      <td>1</td>\n",
       "      <td>8.181818</td>\n",
       "      <td>13.0</td>\n",
       "      <td>17.0</td>\n",
       "      <td>False</td>\n",
       "      <td>1</td>\n",
       "      <td>7.090909</td>\n",
       "      <td>2</td>\n",
       "      <td>1</td>\n",
       "      <td>3</td>\n",
       "      <td>2</td>\n",
       "      <td>1</td>\n",
       "      <td>0</td>\n",
       "      <td>NaN</td>\n",
       "      <td>NaN</td>\n",
       "      <td>NaN</td>\n",
       "      <td>NaN</td>\n",
       "    </tr>\n",
       "    <tr>\n",
       "      <th>1569</th>\n",
       "      <td>M014</td>\n",
       "      <td>2025</td>\n",
       "      <td>2025-02-05 00:00:00</td>\n",
       "      <td>KKR</td>\n",
       "      <td>1</td>\n",
       "      <td>23</td>\n",
       "      <td>KKR</td>\n",
       "      <td>RCB</td>\n",
       "      <td>AM Rahane</td>\n",
       "      <td>JC Buttler</td>\n",
       "      <td>Avesh Khan</td>\n",
       "      <td>4</td>\n",
       "      <td>0</td>\n",
       "      <td>0</td>\n",
       "      <td>0</td>\n",
       "      <td>0</td>\n",
       "      <td>0</td>\n",
       "      <td>NaN</td>\n",
       "      <td>NaN</td>\n",
       "      <td>23</td>\n",
       "      <td>True</td>\n",
       "      <td>False</td>\n",
       "      <td>1</td>\n",
       "      <td>0</td>\n",
       "      <td>0</td>\n",
       "      <td>0</td>\n",
       "      <td>0</td>\n",
       "      <td>0</td>\n",
       "      <td>1</td>\n",
       "      <td>0</td>\n",
       "      <td>0</td>\n",
       "      <td>0</td>\n",
       "      <td>0</td>\n",
       "      <td>0</td>\n",
       "      <td>4</td>\n",
       "      <td>42</td>\n",
       "      <td>1</td>\n",
       "      <td>10.956522</td>\n",
       "      <td>10.0</td>\n",
       "      <td>32.0</td>\n",
       "      <td>False</td>\n",
       "      <td>1</td>\n",
       "      <td>6.000000</td>\n",
       "      <td>6</td>\n",
       "      <td>1</td>\n",
       "      <td>3</td>\n",
       "      <td>1</td>\n",
       "      <td>4</td>\n",
       "      <td>0</td>\n",
       "      <td>NaN</td>\n",
       "      <td>NaN</td>\n",
       "      <td>NaN</td>\n",
       "      <td>NaN</td>\n",
       "    </tr>\n",
       "    <tr>\n",
       "      <th>903</th>\n",
       "      <td>M008</td>\n",
       "      <td>2025</td>\n",
       "      <td>2025-02-02 00:00:00</td>\n",
       "      <td>LSG</td>\n",
       "      <td>1</td>\n",
       "      <td>91</td>\n",
       "      <td>RR</td>\n",
       "      <td>LSG</td>\n",
       "      <td>GJ Maxwell</td>\n",
       "      <td>DA Miller</td>\n",
       "      <td>A Zampa</td>\n",
       "      <td>3</td>\n",
       "      <td>0</td>\n",
       "      <td>0</td>\n",
       "      <td>0</td>\n",
       "      <td>0</td>\n",
       "      <td>0</td>\n",
       "      <td>NaN</td>\n",
       "      <td>NaN</td>\n",
       "      <td>89</td>\n",
       "      <td>True</td>\n",
       "      <td>False</td>\n",
       "      <td>1</td>\n",
       "      <td>0</td>\n",
       "      <td>0</td>\n",
       "      <td>0</td>\n",
       "      <td>1</td>\n",
       "      <td>1</td>\n",
       "      <td>0</td>\n",
       "      <td>0</td>\n",
       "      <td>0</td>\n",
       "      <td>0</td>\n",
       "      <td>0</td>\n",
       "      <td>0</td>\n",
       "      <td>3</td>\n",
       "      <td>129</td>\n",
       "      <td>4</td>\n",
       "      <td>8.696629</td>\n",
       "      <td>125.0</td>\n",
       "      <td>4.0</td>\n",
       "      <td>False</td>\n",
       "      <td>1</td>\n",
       "      <td>8.620690</td>\n",
       "      <td>14</td>\n",
       "      <td>2</td>\n",
       "      <td>5</td>\n",
       "      <td>6</td>\n",
       "      <td>3</td>\n",
       "      <td>0</td>\n",
       "      <td>NaN</td>\n",
       "      <td>NaN</td>\n",
       "      <td>NaN</td>\n",
       "      <td>NaN</td>\n",
       "    </tr>\n",
       "    <tr>\n",
       "      <th>6667</th>\n",
       "      <td>M056</td>\n",
       "      <td>2025</td>\n",
       "      <td>2025-02-26 00:00:00</td>\n",
       "      <td>LSG</td>\n",
       "      <td>1</td>\n",
       "      <td>106</td>\n",
       "      <td>DC</td>\n",
       "      <td>LSG</td>\n",
       "      <td>PWH de Silva</td>\n",
       "      <td>Urvil Patel</td>\n",
       "      <td>A Nortje</td>\n",
       "      <td>6</td>\n",
       "      <td>0</td>\n",
       "      <td>0</td>\n",
       "      <td>0</td>\n",
       "      <td>0</td>\n",
       "      <td>0</td>\n",
       "      <td>NaN</td>\n",
       "      <td>NaN</td>\n",
       "      <td>103</td>\n",
       "      <td>True</td>\n",
       "      <td>False</td>\n",
       "      <td>1</td>\n",
       "      <td>0</td>\n",
       "      <td>0</td>\n",
       "      <td>0</td>\n",
       "      <td>0</td>\n",
       "      <td>0</td>\n",
       "      <td>0</td>\n",
       "      <td>1</td>\n",
       "      <td>0</td>\n",
       "      <td>0</td>\n",
       "      <td>0</td>\n",
       "      <td>0</td>\n",
       "      <td>6</td>\n",
       "      <td>175</td>\n",
       "      <td>6</td>\n",
       "      <td>10.194175</td>\n",
       "      <td>118.0</td>\n",
       "      <td>57.0</td>\n",
       "      <td>False</td>\n",
       "      <td>1</td>\n",
       "      <td>11.800000</td>\n",
       "      <td>15</td>\n",
       "      <td>8</td>\n",
       "      <td>8</td>\n",
       "      <td>4</td>\n",
       "      <td>6</td>\n",
       "      <td>0</td>\n",
       "      <td>NaN</td>\n",
       "      <td>NaN</td>\n",
       "      <td>NaN</td>\n",
       "      <td>NaN</td>\n",
       "    </tr>\n",
       "    <tr>\n",
       "      <th>5545</th>\n",
       "      <td>M047</td>\n",
       "      <td>2025</td>\n",
       "      <td>2025-02-22 00:00:00</td>\n",
       "      <td>RCB</td>\n",
       "      <td>1</td>\n",
       "      <td>59</td>\n",
       "      <td>PBKS</td>\n",
       "      <td>RCB</td>\n",
       "      <td>Q de Kock</td>\n",
       "      <td>RG Sharma</td>\n",
       "      <td>JJ Bumrah</td>\n",
       "      <td>1</td>\n",
       "      <td>0</td>\n",
       "      <td>0</td>\n",
       "      <td>0</td>\n",
       "      <td>0</td>\n",
       "      <td>0</td>\n",
       "      <td>NaN</td>\n",
       "      <td>NaN</td>\n",
       "      <td>58</td>\n",
       "      <td>True</td>\n",
       "      <td>False</td>\n",
       "      <td>1</td>\n",
       "      <td>0</td>\n",
       "      <td>1</td>\n",
       "      <td>0</td>\n",
       "      <td>0</td>\n",
       "      <td>1</td>\n",
       "      <td>0</td>\n",
       "      <td>0</td>\n",
       "      <td>0</td>\n",
       "      <td>0</td>\n",
       "      <td>0</td>\n",
       "      <td>0</td>\n",
       "      <td>1</td>\n",
       "      <td>96</td>\n",
       "      <td>1</td>\n",
       "      <td>9.931034</td>\n",
       "      <td>17.0</td>\n",
       "      <td>79.0</td>\n",
       "      <td>False</td>\n",
       "      <td>1</td>\n",
       "      <td>10.200000</td>\n",
       "      <td>13</td>\n",
       "      <td>2</td>\n",
       "      <td>2</td>\n",
       "      <td>3</td>\n",
       "      <td>1</td>\n",
       "      <td>0</td>\n",
       "      <td>NaN</td>\n",
       "      <td>NaN</td>\n",
       "      <td>NaN</td>\n",
       "      <td>NaN</td>\n",
       "    </tr>\n",
       "  </tbody>\n",
       "</table>\n",
       "</div>"
      ],
      "text/plain": [
       "     match_id  season           start_date venue  innings  ball batting_team  \\\n",
       "369      M004    2025           2025-01-31  PBKS        1    22          SRH   \n",
       "1569     M014    2025  2025-02-05 00:00:00   KKR        1    23          KKR   \n",
       "903      M008    2025  2025-02-02 00:00:00   LSG        1    91           RR   \n",
       "6667     M056    2025  2025-02-26 00:00:00   LSG        1   106           DC   \n",
       "5545     M047    2025  2025-02-22 00:00:00   RCB        1    59         PBKS   \n",
       "\n",
       "     bowling_team         striker    non_striker             bowler  \\\n",
       "369          PBKS  LS Livingstone  Priyansh Arya  Washington Sundar   \n",
       "1569          RCB       AM Rahane     JC Buttler         Avesh Khan   \n",
       "903           LSG      GJ Maxwell      DA Miller            A Zampa   \n",
       "6667          LSG    PWH de Silva    Urvil Patel           A Nortje   \n",
       "5545          RCB       Q de Kock      RG Sharma          JJ Bumrah   \n",
       "\n",
       "      runs_off_bat  extras  wides  noballs  byes  legbyes wicket_type  \\\n",
       "369              1       0      0        0     0        0         NaN   \n",
       "1569             4       0      0        0     0        0         NaN   \n",
       "903              3       0      0        0     0        0         NaN   \n",
       "6667             6       0      0        0     0        0         NaN   \n",
       "5545             1       0      0        0     0        0         NaN   \n",
       "\n",
       "     player_dismissed  legal_balls_bowled  legality  bowler_wicket  islegal  \\\n",
       "369               NaN                  22      True          False        1   \n",
       "1569              NaN                  23      True          False        1   \n",
       "903               NaN                  89      True          False        1   \n",
       "6667              NaN                 103      True          False        1   \n",
       "5545              NaN                  58      True          False        1   \n",
       "\n",
       "      isDotforBatter  isOne  isTwo  isThree  isStrikeRotation  isFour  isSix  \\\n",
       "369                0      1      0        0                 1       0      0   \n",
       "1569               0      0      0        0                 0       1      0   \n",
       "903                0      0      0        1                 1       0      0   \n",
       "6667               0      0      0        0                 0       0      1   \n",
       "5545               0      1      0        0                 1       0      0   \n",
       "\n",
       "      isBowlerWicket  is_striker_Out  is_nonstriker_Out  isWicket  total_runs  \\\n",
       "369                0               0                  0         0           1   \n",
       "1569               0               0                  0         0           4   \n",
       "903                0               0                  0         0           3   \n",
       "6667               0               0                  0         0           6   \n",
       "5545               0               0                  0         0           1   \n",
       "\n",
       "      runs_scored  wickets_down   run_rate  last_fow  partnership_runs   isno  \\\n",
       "369            30             1   8.181818      13.0              17.0  False   \n",
       "1569           42             1  10.956522      10.0              32.0  False   \n",
       "903           129             4   8.696629     125.0               4.0  False   \n",
       "6667          175             6  10.194175     118.0              57.0  False   \n",
       "5545           96             1   9.931034      17.0              79.0  False   \n",
       "\n",
       "      is_faced_by_batter  last_fow_run_rate  fours  sixes  \\\n",
       "369                    1           7.090909      2      1   \n",
       "1569                   1           6.000000      6      1   \n",
       "903                    1           8.620690     14      2   \n",
       "6667                   1          11.800000     15      8   \n",
       "5545                   1          10.200000     13      2   \n",
       "\n",
       "      striker_batting_position  non_striker_batting_position  runs_conceeded  \\\n",
       "369                          3                             2               1   \n",
       "1569                         3                             1               4   \n",
       "903                          5                             6               3   \n",
       "6667                         8                             4               6   \n",
       "5545                         2                             3               1   \n",
       "\n",
       "      isDotforbowler  legal_balls_remaining  target  runs_remaining  \\\n",
       "369                0                    NaN     NaN             NaN   \n",
       "1569               0                    NaN     NaN             NaN   \n",
       "903                0                    NaN     NaN             NaN   \n",
       "6667               0                    NaN     NaN             NaN   \n",
       "5545               0                    NaN     NaN             NaN   \n",
       "\n",
       "      reqd_run_rate  \n",
       "369             NaN  \n",
       "1569            NaN  \n",
       "903             NaN  \n",
       "6667            NaN  \n",
       "5545            NaN  "
      ]
     },
     "execution_count": 9,
     "metadata": {},
     "output_type": "execute_result"
    }
   ],
   "source": [
    "df_1_mod.sample(5)"
   ]
  },
  {
   "cell_type": "code",
   "execution_count": 10,
   "id": "7ad3518c",
   "metadata": {},
   "outputs": [
    {
     "data": {
      "text/plain": [
       "Index(['Date', 'Team One', 'Team Two', 'num', 'Spin:Pace'], dtype='object')"
      ]
     },
     "execution_count": 10,
     "metadata": {},
     "output_type": "execute_result"
    }
   ],
   "source": [
    "match_result.columns"
   ]
  },
  {
   "cell_type": "code",
   "execution_count": 11,
   "id": "5cb6343f",
   "metadata": {},
   "outputs": [],
   "source": [
    "df_1_mod['slider'] = 0\n",
    "for index, row in df_1_mod.iterrows():\n",
    "    match = row['match_id'].replace('M','').replace('0','')\n",
    "    match = int(match)\n",
    "    slider = match_result[match_result['num']==match]['Spin:Pace'].unique()[0]\n",
    "    df_1_mod.loc[index,'slider'] = slider"
   ]
  },
  {
   "cell_type": "code",
   "execution_count": null,
   "id": "af3ef052",
   "metadata": {},
   "outputs": [],
   "source": []
  },
  {
   "cell_type": "markdown",
   "id": "40bfb802",
   "metadata": {},
   "source": [
    "### MARKING OUT COLUMNS that are required for final score prediction"
   ]
  },
  {
   "cell_type": "code",
   "execution_count": 12,
   "id": "9d1c5c41",
   "metadata": {
    "scrolled": true
   },
   "outputs": [
    {
     "data": {
      "text/plain": [
       "Index(['match_id', 'season', 'start_date', 'venue', 'innings', 'ball',\n",
       "       'batting_team', 'bowling_team', 'striker', 'non_striker', 'bowler',\n",
       "       'runs_off_bat', 'extras', 'wides', 'noballs', 'byes', 'legbyes',\n",
       "       'wicket_type', 'player_dismissed', 'legal_balls_bowled', 'legality',\n",
       "       'bowler_wicket', 'islegal', 'isDotforBatter', 'isOne', 'isTwo',\n",
       "       'isThree', 'isStrikeRotation', 'isFour', 'isSix', 'isBowlerWicket',\n",
       "       'is_striker_Out', 'is_nonstriker_Out', 'isWicket', 'total_runs',\n",
       "       'runs_scored', 'wickets_down', 'run_rate', 'last_fow',\n",
       "       'partnership_runs', 'isno', 'is_faced_by_batter', 'last_fow_run_rate',\n",
       "       'fours', 'sixes', 'striker_batting_position',\n",
       "       'non_striker_batting_position', 'runs_conceeded', 'isDotforbowler',\n",
       "       'legal_balls_remaining', 'target', 'runs_remaining', 'reqd_run_rate',\n",
       "       'slider'],\n",
       "      dtype='object')"
      ]
     },
     "execution_count": 12,
     "metadata": {},
     "output_type": "execute_result"
    }
   ],
   "source": [
    "df_1_mod.columns"
   ]
  },
  {
   "cell_type": "markdown",
   "id": "53a34edb",
   "metadata": {},
   "source": [
    "df_1['fours'] = df_1.groupby(['match_id', 'innings'])['isFour'].cumsum()\n",
    "df_1['sixes'] = df_1.groupby(['match_id', 'innings'])['isSix'].cumsum()"
   ]
  },
  {
   "cell_type": "code",
   "execution_count": 13,
   "id": "cb4cb2cd",
   "metadata": {},
   "outputs": [],
   "source": [
    "cols_to_keep_for_runs_prediction = ['match_id','innings','runs_scored', \n",
    "                                    'wickets_down', 'legal_balls_bowled', 'run_rate',\n",
    "       'last_fow', 'partnership_runs',\n",
    "       'last_fow_run_rate', 'fours', 'sixes', \n",
    "                                    'striker_batting_position',\n",
    "       'non_striker_batting_position','slider']"
   ]
  },
  {
   "cell_type": "code",
   "execution_count": 14,
   "id": "ba7a9c35",
   "metadata": {
    "scrolled": true
   },
   "outputs": [],
   "source": [
    "df_1_final = df_1_mod[cols_to_keep_for_runs_prediction]"
   ]
  },
  {
   "cell_type": "code",
   "execution_count": 15,
   "id": "b3a2d6f0",
   "metadata": {},
   "outputs": [
    {
     "data": {
      "text/plain": [
       "(7103, 14)"
      ]
     },
     "execution_count": 15,
     "metadata": {},
     "output_type": "execute_result"
    }
   ],
   "source": [
    "df_1_final.shape"
   ]
  },
  {
   "cell_type": "code",
   "execution_count": 16,
   "id": "0a58fe44",
   "metadata": {},
   "outputs": [
    {
     "data": {
      "text/html": [
       "<div>\n",
       "<style scoped>\n",
       "    .dataframe tbody tr th:only-of-type {\n",
       "        vertical-align: middle;\n",
       "    }\n",
       "\n",
       "    .dataframe tbody tr th {\n",
       "        vertical-align: top;\n",
       "    }\n",
       "\n",
       "    .dataframe thead th {\n",
       "        text-align: right;\n",
       "    }\n",
       "</style>\n",
       "<table border=\"1\" class=\"dataframe\">\n",
       "  <thead>\n",
       "    <tr style=\"text-align: right;\">\n",
       "      <th></th>\n",
       "      <th>match_id</th>\n",
       "      <th>innings</th>\n",
       "      <th>runs_scored</th>\n",
       "      <th>wickets_down</th>\n",
       "      <th>legal_balls_bowled</th>\n",
       "      <th>run_rate</th>\n",
       "      <th>last_fow</th>\n",
       "      <th>partnership_runs</th>\n",
       "      <th>last_fow_run_rate</th>\n",
       "      <th>fours</th>\n",
       "      <th>sixes</th>\n",
       "      <th>striker_batting_position</th>\n",
       "      <th>non_striker_batting_position</th>\n",
       "      <th>slider</th>\n",
       "    </tr>\n",
       "  </thead>\n",
       "  <tbody>\n",
       "    <tr>\n",
       "      <th>2449</th>\n",
       "      <td>M021</td>\n",
       "      <td>1</td>\n",
       "      <td>60</td>\n",
       "      <td>1</td>\n",
       "      <td>38</td>\n",
       "      <td>9.473684</td>\n",
       "      <td>26.0</td>\n",
       "      <td>34.0</td>\n",
       "      <td>7.800000</td>\n",
       "      <td>8</td>\n",
       "      <td>2</td>\n",
       "      <td>3</td>\n",
       "      <td>1</td>\n",
       "      <td>0.479167</td>\n",
       "    </tr>\n",
       "    <tr>\n",
       "      <th>4709</th>\n",
       "      <td>M040</td>\n",
       "      <td>1</td>\n",
       "      <td>82</td>\n",
       "      <td>3</td>\n",
       "      <td>61</td>\n",
       "      <td>8.065574</td>\n",
       "      <td>64.0</td>\n",
       "      <td>18.0</td>\n",
       "      <td>8.930233</td>\n",
       "      <td>6</td>\n",
       "      <td>4</td>\n",
       "      <td>5</td>\n",
       "      <td>2</td>\n",
       "      <td>2.937500</td>\n",
       "    </tr>\n",
       "    <tr>\n",
       "      <th>6092</th>\n",
       "      <td>M052</td>\n",
       "      <td>1</td>\n",
       "      <td>26</td>\n",
       "      <td>2</td>\n",
       "      <td>20</td>\n",
       "      <td>7.800000</td>\n",
       "      <td>26.0</td>\n",
       "      <td>0.0</td>\n",
       "      <td>9.176471</td>\n",
       "      <td>4</td>\n",
       "      <td>0</td>\n",
       "      <td>3</td>\n",
       "      <td>4</td>\n",
       "      <td>0.479167</td>\n",
       "    </tr>\n",
       "    <tr>\n",
       "      <th>7376</th>\n",
       "      <td>M062</td>\n",
       "      <td>1</td>\n",
       "      <td>135</td>\n",
       "      <td>5</td>\n",
       "      <td>80</td>\n",
       "      <td>10.125000</td>\n",
       "      <td>107.0</td>\n",
       "      <td>28.0</td>\n",
       "      <td>10.190476</td>\n",
       "      <td>17</td>\n",
       "      <td>3</td>\n",
       "      <td>7</td>\n",
       "      <td>6</td>\n",
       "      <td>2.896528</td>\n",
       "    </tr>\n",
       "  </tbody>\n",
       "</table>\n",
       "</div>"
      ],
      "text/plain": [
       "     match_id  innings  runs_scored  wickets_down  legal_balls_bowled  \\\n",
       "2449     M021        1           60             1                  38   \n",
       "4709     M040        1           82             3                  61   \n",
       "6092     M052        1           26             2                  20   \n",
       "7376     M062        1          135             5                  80   \n",
       "\n",
       "       run_rate  last_fow  partnership_runs  last_fow_run_rate  fours  sixes  \\\n",
       "2449   9.473684      26.0              34.0           7.800000      8      2   \n",
       "4709   8.065574      64.0              18.0           8.930233      6      4   \n",
       "6092   7.800000      26.0               0.0           9.176471      4      0   \n",
       "7376  10.125000     107.0              28.0          10.190476     17      3   \n",
       "\n",
       "      striker_batting_position  non_striker_batting_position    slider  \n",
       "2449                         3                             1  0.479167  \n",
       "4709                         5                             2  2.937500  \n",
       "6092                         3                             4  0.479167  \n",
       "7376                         7                             6  2.896528  "
      ]
     },
     "execution_count": 16,
     "metadata": {},
     "output_type": "execute_result"
    }
   ],
   "source": [
    "df_1_final.sample(4)"
   ]
  },
  {
   "cell_type": "markdown",
   "id": "68950353",
   "metadata": {},
   "source": [
    "## proceeding with preprocessing"
   ]
  },
  {
   "cell_type": "markdown",
   "id": "15cd0ba6",
   "metadata": {},
   "source": [
    "### initials"
   ]
  },
  {
   "cell_type": "code",
   "execution_count": 17,
   "id": "be3a66f7",
   "metadata": {
    "scrolled": false
   },
   "outputs": [
    {
     "data": {
      "text/plain": [
       "(7103, 14)"
      ]
     },
     "execution_count": 17,
     "metadata": {},
     "output_type": "execute_result"
    }
   ],
   "source": [
    "df_1_final.shape"
   ]
  },
  {
   "cell_type": "code",
   "execution_count": 18,
   "id": "8ed2d1fc",
   "metadata": {},
   "outputs": [
    {
     "data": {
      "text/html": [
       "<div>\n",
       "<style scoped>\n",
       "    .dataframe tbody tr th:only-of-type {\n",
       "        vertical-align: middle;\n",
       "    }\n",
       "\n",
       "    .dataframe tbody tr th {\n",
       "        vertical-align: top;\n",
       "    }\n",
       "\n",
       "    .dataframe thead th {\n",
       "        text-align: right;\n",
       "    }\n",
       "</style>\n",
       "<table border=\"1\" class=\"dataframe\">\n",
       "  <thead>\n",
       "    <tr style=\"text-align: right;\">\n",
       "      <th></th>\n",
       "      <th>match_id</th>\n",
       "      <th>innings</th>\n",
       "      <th>runs_scored</th>\n",
       "      <th>wickets_down</th>\n",
       "      <th>legal_balls_bowled</th>\n",
       "      <th>run_rate</th>\n",
       "      <th>last_fow</th>\n",
       "      <th>partnership_runs</th>\n",
       "      <th>last_fow_run_rate</th>\n",
       "      <th>fours</th>\n",
       "      <th>sixes</th>\n",
       "      <th>striker_batting_position</th>\n",
       "      <th>non_striker_batting_position</th>\n",
       "      <th>slider</th>\n",
       "    </tr>\n",
       "  </thead>\n",
       "  <tbody>\n",
       "    <tr>\n",
       "      <th>4889</th>\n",
       "      <td>M042</td>\n",
       "      <td>1</td>\n",
       "      <td>156</td>\n",
       "      <td>3</td>\n",
       "      <td>115</td>\n",
       "      <td>8.139130</td>\n",
       "      <td>115.0</td>\n",
       "      <td>41.0</td>\n",
       "      <td>8.023256</td>\n",
       "      <td>10</td>\n",
       "      <td>8</td>\n",
       "      <td>5</td>\n",
       "      <td>4</td>\n",
       "      <td>0.479167</td>\n",
       "    </tr>\n",
       "    <tr>\n",
       "      <th>2852</th>\n",
       "      <td>M024</td>\n",
       "      <td>1</td>\n",
       "      <td>105</td>\n",
       "      <td>1</td>\n",
       "      <td>75</td>\n",
       "      <td>8.400000</td>\n",
       "      <td>39.0</td>\n",
       "      <td>66.0</td>\n",
       "      <td>6.882353</td>\n",
       "      <td>13</td>\n",
       "      <td>2</td>\n",
       "      <td>2</td>\n",
       "      <td>3</td>\n",
       "      <td>0.449275</td>\n",
       "    </tr>\n",
       "    <tr>\n",
       "      <th>7222</th>\n",
       "      <td>M061</td>\n",
       "      <td>1</td>\n",
       "      <td>83</td>\n",
       "      <td>2</td>\n",
       "      <td>53</td>\n",
       "      <td>9.396226</td>\n",
       "      <td>35.0</td>\n",
       "      <td>48.0</td>\n",
       "      <td>9.130435</td>\n",
       "      <td>8</td>\n",
       "      <td>3</td>\n",
       "      <td>4</td>\n",
       "      <td>1</td>\n",
       "      <td>3.347222</td>\n",
       "    </tr>\n",
       "    <tr>\n",
       "      <th>79</th>\n",
       "      <td>M001</td>\n",
       "      <td>1</td>\n",
       "      <td>103</td>\n",
       "      <td>1</td>\n",
       "      <td>80</td>\n",
       "      <td>7.725000</td>\n",
       "      <td>85.0</td>\n",
       "      <td>18.0</td>\n",
       "      <td>7.727273</td>\n",
       "      <td>12</td>\n",
       "      <td>1</td>\n",
       "      <td>3</td>\n",
       "      <td>1</td>\n",
       "      <td>2.732639</td>\n",
       "    </tr>\n",
       "    <tr>\n",
       "      <th>4918</th>\n",
       "      <td>M041</td>\n",
       "      <td>1</td>\n",
       "      <td>26</td>\n",
       "      <td>0</td>\n",
       "      <td>24</td>\n",
       "      <td>6.500000</td>\n",
       "      <td>0.0</td>\n",
       "      <td>26.0</td>\n",
       "      <td>NaN</td>\n",
       "      <td>1</td>\n",
       "      <td>0</td>\n",
       "      <td>1</td>\n",
       "      <td>2</td>\n",
       "      <td>3.019444</td>\n",
       "    </tr>\n",
       "  </tbody>\n",
       "</table>\n",
       "</div>"
      ],
      "text/plain": [
       "     match_id  innings  runs_scored  wickets_down  legal_balls_bowled  \\\n",
       "4889     M042        1          156             3                 115   \n",
       "2852     M024        1          105             1                  75   \n",
       "7222     M061        1           83             2                  53   \n",
       "79       M001        1          103             1                  80   \n",
       "4918     M041        1           26             0                  24   \n",
       "\n",
       "      run_rate  last_fow  partnership_runs  last_fow_run_rate  fours  sixes  \\\n",
       "4889  8.139130     115.0              41.0           8.023256     10      8   \n",
       "2852  8.400000      39.0              66.0           6.882353     13      2   \n",
       "7222  9.396226      35.0              48.0           9.130435      8      3   \n",
       "79    7.725000      85.0              18.0           7.727273     12      1   \n",
       "4918  6.500000       0.0              26.0                NaN      1      0   \n",
       "\n",
       "      striker_batting_position  non_striker_batting_position    slider  \n",
       "4889                         5                             4  0.479167  \n",
       "2852                         2                             3  0.449275  \n",
       "7222                         4                             1  3.347222  \n",
       "79                           3                             1  2.732639  \n",
       "4918                         1                             2  3.019444  "
      ]
     },
     "execution_count": 18,
     "metadata": {},
     "output_type": "execute_result"
    }
   ],
   "source": [
    "df_1_final.sample(5)"
   ]
  },
  {
   "cell_type": "markdown",
   "id": "ebb0c538",
   "metadata": {},
   "source": [
    "#### creation of final runs_scored"
   ]
  },
  {
   "cell_type": "code",
   "execution_count": 19,
   "id": "77406526",
   "metadata": {},
   "outputs": [],
   "source": [
    "max_runs = df_1_final.groupby('match_id')['runs_scored'].max().reset_index()\n",
    "\n",
    "# Merge this information into innings=2 rows of the original DataFrame\n",
    "df_1_final = df_1_final.merge(max_runs, on='match_id', suffixes=('', '_max'), how='left')"
   ]
  },
  {
   "cell_type": "code",
   "execution_count": 20,
   "id": "978e8ad6",
   "metadata": {},
   "outputs": [
    {
     "data": {
      "text/plain": [
       "count    7103.000000\n",
       "mean      176.991131\n",
       "std        21.357804\n",
       "min        93.000000\n",
       "25%       166.000000\n",
       "50%       179.000000\n",
       "75%       192.000000\n",
       "max       220.000000\n",
       "Name: runs_scored_max, dtype: float64"
      ]
     },
     "execution_count": 20,
     "metadata": {},
     "output_type": "execute_result"
    }
   ],
   "source": [
    "df_1_final.runs_scored_max.describe()"
   ]
  },
  {
   "cell_type": "code",
   "execution_count": 21,
   "id": "9e1c7593",
   "metadata": {},
   "outputs": [
    {
     "data": {
      "text/plain": [
       "70"
      ]
     },
     "execution_count": 21,
     "metadata": {},
     "output_type": "execute_result"
    }
   ],
   "source": [
    "df_1_final.match_id.nunique()"
   ]
  },
  {
   "cell_type": "markdown",
   "id": "669e8182",
   "metadata": {},
   "source": [
    "#### final filtration"
   ]
  },
  {
   "cell_type": "code",
   "execution_count": 22,
   "id": "db47b226",
   "metadata": {},
   "outputs": [],
   "source": [
    "max_balls = df_1_final.groupby('match_id')['legal_balls_bowled'].max().reset_index()\n",
    "max_wickets = df_1_final.groupby('match_id')['wickets_down'].max().reset_index()\n",
    "\n",
    "check_df_1 = max_balls.merge(max_wickets, on='match_id')"
   ]
  },
  {
   "cell_type": "code",
   "execution_count": 23,
   "id": "ed89bf1c",
   "metadata": {
    "scrolled": true
   },
   "outputs": [
    {
     "data": {
      "text/html": [
       "<div>\n",
       "<style scoped>\n",
       "    .dataframe tbody tr th:only-of-type {\n",
       "        vertical-align: middle;\n",
       "    }\n",
       "\n",
       "    .dataframe tbody tr th {\n",
       "        vertical-align: top;\n",
       "    }\n",
       "\n",
       "    .dataframe thead th {\n",
       "        text-align: right;\n",
       "    }\n",
       "</style>\n",
       "<table border=\"1\" class=\"dataframe\">\n",
       "  <thead>\n",
       "    <tr style=\"text-align: right;\">\n",
       "      <th></th>\n",
       "      <th>match_id</th>\n",
       "      <th>legal_balls_bowled</th>\n",
       "      <th>wickets_down</th>\n",
       "    </tr>\n",
       "  </thead>\n",
       "  <tbody>\n",
       "    <tr>\n",
       "      <th>21</th>\n",
       "      <td>M022</td>\n",
       "      <td>120</td>\n",
       "      <td>4</td>\n",
       "    </tr>\n",
       "    <tr>\n",
       "      <th>65</th>\n",
       "      <td>M066</td>\n",
       "      <td>120</td>\n",
       "      <td>2</td>\n",
       "    </tr>\n",
       "    <tr>\n",
       "      <th>47</th>\n",
       "      <td>M048</td>\n",
       "      <td>120</td>\n",
       "      <td>3</td>\n",
       "    </tr>\n",
       "    <tr>\n",
       "      <th>26</th>\n",
       "      <td>M027</td>\n",
       "      <td>120</td>\n",
       "      <td>2</td>\n",
       "    </tr>\n",
       "    <tr>\n",
       "      <th>12</th>\n",
       "      <td>M013</td>\n",
       "      <td>120</td>\n",
       "      <td>7</td>\n",
       "    </tr>\n",
       "  </tbody>\n",
       "</table>\n",
       "</div>"
      ],
      "text/plain": [
       "   match_id  legal_balls_bowled  wickets_down\n",
       "21     M022                 120             4\n",
       "65     M066                 120             2\n",
       "47     M048                 120             3\n",
       "26     M027                 120             2\n",
       "12     M013                 120             7"
      ]
     },
     "execution_count": 23,
     "metadata": {},
     "output_type": "execute_result"
    }
   ],
   "source": [
    "check_df_1.sample(5)"
   ]
  },
  {
   "cell_type": "code",
   "execution_count": 25,
   "id": "f77f650a",
   "metadata": {},
   "outputs": [
    {
     "data": {
      "text/plain": [
       "((7103, 15), 70)"
      ]
     },
     "execution_count": 25,
     "metadata": {},
     "output_type": "execute_result"
    }
   ],
   "source": [
    "df_1_final.shape, df_1_final.match_id.nunique()"
   ]
  },
  {
   "cell_type": "code",
   "execution_count": null,
   "id": "b55e4ef3",
   "metadata": {},
   "outputs": [],
   "source": []
  },
  {
   "cell_type": "markdown",
   "id": "7fc95d14",
   "metadata": {},
   "source": [
    "### type seggregation"
   ]
  },
  {
   "cell_type": "code",
   "execution_count": 27,
   "id": "69d04020",
   "metadata": {},
   "outputs": [
    {
     "data": {
      "text/plain": [
       "Index(['match_id', 'innings', 'runs_scored', 'wickets_down',\n",
       "       'legal_balls_bowled', 'run_rate', 'last_fow', 'partnership_runs',\n",
       "       'last_fow_run_rate', 'fours', 'sixes', 'striker_batting_position',\n",
       "       'non_striker_batting_position', 'slider', 'runs_scored_max'],\n",
       "      dtype='object')"
      ]
     },
     "execution_count": 27,
     "metadata": {},
     "output_type": "execute_result"
    }
   ],
   "source": [
    "df_1_final.columns"
   ]
  },
  {
   "cell_type": "code",
   "execution_count": 28,
   "id": "617e51fc",
   "metadata": {},
   "outputs": [],
   "source": [
    "numerical_features = ['wickets_down','striker_batting_position','non_striker_batting_position',\n",
    "                      'runs_scored','legal_balls_bowled', 'run_rate', \n",
    "                      'last_fow', 'partnership_runs',\n",
    "                      'last_fow_run_rate', 'fours',\n",
    "       'sixes','slider']\n",
    "\n",
    "response_numerical = ['runs_scored_max']"
   ]
  },
  {
   "cell_type": "markdown",
   "id": "ab55d5b9",
   "metadata": {},
   "source": [
    "### train-test split"
   ]
  },
  {
   "cell_type": "code",
   "execution_count": 29,
   "id": "08db4d47",
   "metadata": {},
   "outputs": [
    {
     "data": {
      "text/plain": [
       "70"
      ]
     },
     "execution_count": 29,
     "metadata": {},
     "output_type": "execute_result"
    }
   ],
   "source": [
    "df_1_final.match_id.nunique()"
   ]
  },
  {
   "cell_type": "code",
   "execution_count": 30,
   "id": "851db891",
   "metadata": {},
   "outputs": [],
   "source": [
    "import random\n",
    "#random.sample(list(df_1_final.match_id.unique()), 10)"
   ]
  },
  {
   "cell_type": "code",
   "execution_count": 31,
   "id": "8e4b1166",
   "metadata": {},
   "outputs": [
    {
     "name": "stdout",
     "output_type": "stream",
     "text": [
      "70\n"
     ]
    }
   ],
   "source": [
    "match_id_list = list(df_1_final.match_id.unique())\n",
    "print(len(match_id_list))\n",
    "test_match_ids = random.sample(match_id_list, 10)\n",
    "train_match_ids = [item for item in list(df_1_final.match_id.unique()) if item not in test_match_ids]\n"
   ]
  },
  {
   "cell_type": "code",
   "execution_count": 32,
   "id": "b0e624a9",
   "metadata": {},
   "outputs": [
    {
     "data": {
      "text/plain": [
       "(60, 10)"
      ]
     },
     "execution_count": 32,
     "metadata": {},
     "output_type": "execute_result"
    }
   ],
   "source": [
    "len(train_match_ids), len(test_match_ids)"
   ]
  },
  {
   "cell_type": "code",
   "execution_count": 33,
   "id": "aff337b9",
   "metadata": {},
   "outputs": [],
   "source": [
    "train_data = df_1_final[df_1_final.match_id.isin(train_match_ids)]\n",
    "test_data = df_1_final[df_1_final.match_id.isin(test_match_ids)]"
   ]
  },
  {
   "cell_type": "code",
   "execution_count": 34,
   "id": "10aa92bb",
   "metadata": {},
   "outputs": [
    {
     "data": {
      "text/plain": [
       "((6070, 15), (1033, 15))"
      ]
     },
     "execution_count": 34,
     "metadata": {},
     "output_type": "execute_result"
    }
   ],
   "source": [
    "train_data.shape, test_data.shape"
   ]
  },
  {
   "cell_type": "code",
   "execution_count": 36,
   "id": "e3ddd345",
   "metadata": {},
   "outputs": [],
   "source": [
    "X_train_numerical = train_data[numerical_features]\n",
    "Y_train_numerical = train_data[response_numerical]\n",
    "\n",
    "X_test_numerical = test_data[numerical_features]\n",
    "Y_test_numerical = test_data[response_numerical]"
   ]
  },
  {
   "cell_type": "code",
   "execution_count": null,
   "id": "e0b873da",
   "metadata": {},
   "outputs": [],
   "source": []
  },
  {
   "cell_type": "markdown",
   "id": "21a565fe",
   "metadata": {},
   "source": [
    "### concatting X_train and X_test"
   ]
  },
  {
   "cell_type": "code",
   "execution_count": 37,
   "id": "5f6e1441",
   "metadata": {},
   "outputs": [],
   "source": [
    "X_train = X_train_numerical\n",
    "X_test = X_test_numerical"
   ]
  },
  {
   "cell_type": "code",
   "execution_count": 38,
   "id": "7ca5a99e",
   "metadata": {},
   "outputs": [
    {
     "data": {
      "text/plain": [
       "((6070, 12), (1033, 12))"
      ]
     },
     "execution_count": 38,
     "metadata": {},
     "output_type": "execute_result"
    }
   ],
   "source": [
    "X_train.shape, X_test.shape"
   ]
  },
  {
   "cell_type": "code",
   "execution_count": 39,
   "id": "51128a9a",
   "metadata": {
    "scrolled": true
   },
   "outputs": [
    {
     "data": {
      "text/html": [
       "<div>\n",
       "<style scoped>\n",
       "    .dataframe tbody tr th:only-of-type {\n",
       "        vertical-align: middle;\n",
       "    }\n",
       "\n",
       "    .dataframe tbody tr th {\n",
       "        vertical-align: top;\n",
       "    }\n",
       "\n",
       "    .dataframe thead th {\n",
       "        text-align: right;\n",
       "    }\n",
       "</style>\n",
       "<table border=\"1\" class=\"dataframe\">\n",
       "  <thead>\n",
       "    <tr style=\"text-align: right;\">\n",
       "      <th></th>\n",
       "      <th>wickets_down</th>\n",
       "      <th>striker_batting_position</th>\n",
       "      <th>non_striker_batting_position</th>\n",
       "      <th>runs_scored</th>\n",
       "      <th>legal_balls_bowled</th>\n",
       "      <th>run_rate</th>\n",
       "      <th>last_fow</th>\n",
       "      <th>partnership_runs</th>\n",
       "      <th>last_fow_run_rate</th>\n",
       "      <th>fours</th>\n",
       "      <th>sixes</th>\n",
       "      <th>slider</th>\n",
       "    </tr>\n",
       "  </thead>\n",
       "  <tbody>\n",
       "    <tr>\n",
       "      <th>0</th>\n",
       "      <td>0</td>\n",
       "      <td>1</td>\n",
       "      <td>2</td>\n",
       "      <td>22</td>\n",
       "      <td>19</td>\n",
       "      <td>6.947368</td>\n",
       "      <td>0.0</td>\n",
       "      <td>22.0</td>\n",
       "      <td>NaN</td>\n",
       "      <td>1</td>\n",
       "      <td>0</td>\n",
       "      <td>2.732639</td>\n",
       "    </tr>\n",
       "    <tr>\n",
       "      <th>1</th>\n",
       "      <td>0</td>\n",
       "      <td>2</td>\n",
       "      <td>1</td>\n",
       "      <td>23</td>\n",
       "      <td>20</td>\n",
       "      <td>6.900000</td>\n",
       "      <td>0.0</td>\n",
       "      <td>23.0</td>\n",
       "      <td>NaN</td>\n",
       "      <td>1</td>\n",
       "      <td>0</td>\n",
       "      <td>2.732639</td>\n",
       "    </tr>\n",
       "    <tr>\n",
       "      <th>2</th>\n",
       "      <td>0</td>\n",
       "      <td>1</td>\n",
       "      <td>2</td>\n",
       "      <td>24</td>\n",
       "      <td>21</td>\n",
       "      <td>6.857143</td>\n",
       "      <td>0.0</td>\n",
       "      <td>24.0</td>\n",
       "      <td>NaN</td>\n",
       "      <td>1</td>\n",
       "      <td>0</td>\n",
       "      <td>2.732639</td>\n",
       "    </tr>\n",
       "    <tr>\n",
       "      <th>3</th>\n",
       "      <td>0</td>\n",
       "      <td>2</td>\n",
       "      <td>1</td>\n",
       "      <td>24</td>\n",
       "      <td>22</td>\n",
       "      <td>6.545455</td>\n",
       "      <td>0.0</td>\n",
       "      <td>24.0</td>\n",
       "      <td>NaN</td>\n",
       "      <td>1</td>\n",
       "      <td>0</td>\n",
       "      <td>2.732639</td>\n",
       "    </tr>\n",
       "    <tr>\n",
       "      <th>4</th>\n",
       "      <td>0</td>\n",
       "      <td>2</td>\n",
       "      <td>1</td>\n",
       "      <td>24</td>\n",
       "      <td>23</td>\n",
       "      <td>6.260870</td>\n",
       "      <td>0.0</td>\n",
       "      <td>24.0</td>\n",
       "      <td>NaN</td>\n",
       "      <td>1</td>\n",
       "      <td>0</td>\n",
       "      <td>2.732639</td>\n",
       "    </tr>\n",
       "    <tr>\n",
       "      <th>5</th>\n",
       "      <td>0</td>\n",
       "      <td>2</td>\n",
       "      <td>1</td>\n",
       "      <td>25</td>\n",
       "      <td>24</td>\n",
       "      <td>6.250000</td>\n",
       "      <td>0.0</td>\n",
       "      <td>25.0</td>\n",
       "      <td>NaN</td>\n",
       "      <td>1</td>\n",
       "      <td>0</td>\n",
       "      <td>2.732639</td>\n",
       "    </tr>\n",
       "    <tr>\n",
       "      <th>6</th>\n",
       "      <td>0</td>\n",
       "      <td>2</td>\n",
       "      <td>1</td>\n",
       "      <td>26</td>\n",
       "      <td>25</td>\n",
       "      <td>6.240000</td>\n",
       "      <td>0.0</td>\n",
       "      <td>26.0</td>\n",
       "      <td>NaN</td>\n",
       "      <td>1</td>\n",
       "      <td>0</td>\n",
       "      <td>2.732639</td>\n",
       "    </tr>\n",
       "    <tr>\n",
       "      <th>7</th>\n",
       "      <td>0</td>\n",
       "      <td>1</td>\n",
       "      <td>2</td>\n",
       "      <td>30</td>\n",
       "      <td>26</td>\n",
       "      <td>6.923077</td>\n",
       "      <td>0.0</td>\n",
       "      <td>30.0</td>\n",
       "      <td>NaN</td>\n",
       "      <td>2</td>\n",
       "      <td>0</td>\n",
       "      <td>2.732639</td>\n",
       "    </tr>\n",
       "    <tr>\n",
       "      <th>8</th>\n",
       "      <td>0</td>\n",
       "      <td>1</td>\n",
       "      <td>2</td>\n",
       "      <td>31</td>\n",
       "      <td>27</td>\n",
       "      <td>6.888889</td>\n",
       "      <td>0.0</td>\n",
       "      <td>31.0</td>\n",
       "      <td>NaN</td>\n",
       "      <td>2</td>\n",
       "      <td>0</td>\n",
       "      <td>2.732639</td>\n",
       "    </tr>\n",
       "    <tr>\n",
       "      <th>9</th>\n",
       "      <td>0</td>\n",
       "      <td>2</td>\n",
       "      <td>1</td>\n",
       "      <td>35</td>\n",
       "      <td>28</td>\n",
       "      <td>7.500000</td>\n",
       "      <td>0.0</td>\n",
       "      <td>35.0</td>\n",
       "      <td>NaN</td>\n",
       "      <td>3</td>\n",
       "      <td>0</td>\n",
       "      <td>2.732639</td>\n",
       "    </tr>\n",
       "  </tbody>\n",
       "</table>\n",
       "</div>"
      ],
      "text/plain": [
       "   wickets_down  striker_batting_position  non_striker_batting_position  \\\n",
       "0             0                         1                             2   \n",
       "1             0                         2                             1   \n",
       "2             0                         1                             2   \n",
       "3             0                         2                             1   \n",
       "4             0                         2                             1   \n",
       "5             0                         2                             1   \n",
       "6             0                         2                             1   \n",
       "7             0                         1                             2   \n",
       "8             0                         1                             2   \n",
       "9             0                         2                             1   \n",
       "\n",
       "   runs_scored  legal_balls_bowled  run_rate  last_fow  partnership_runs  \\\n",
       "0           22                  19  6.947368       0.0              22.0   \n",
       "1           23                  20  6.900000       0.0              23.0   \n",
       "2           24                  21  6.857143       0.0              24.0   \n",
       "3           24                  22  6.545455       0.0              24.0   \n",
       "4           24                  23  6.260870       0.0              24.0   \n",
       "5           25                  24  6.250000       0.0              25.0   \n",
       "6           26                  25  6.240000       0.0              26.0   \n",
       "7           30                  26  6.923077       0.0              30.0   \n",
       "8           31                  27  6.888889       0.0              31.0   \n",
       "9           35                  28  7.500000       0.0              35.0   \n",
       "\n",
       "   last_fow_run_rate  fours  sixes    slider  \n",
       "0                NaN      1      0  2.732639  \n",
       "1                NaN      1      0  2.732639  \n",
       "2                NaN      1      0  2.732639  \n",
       "3                NaN      1      0  2.732639  \n",
       "4                NaN      1      0  2.732639  \n",
       "5                NaN      1      0  2.732639  \n",
       "6                NaN      1      0  2.732639  \n",
       "7                NaN      2      0  2.732639  \n",
       "8                NaN      2      0  2.732639  \n",
       "9                NaN      3      0  2.732639  "
      ]
     },
     "execution_count": 39,
     "metadata": {},
     "output_type": "execute_result"
    }
   ],
   "source": [
    "X_train.head(10)"
   ]
  },
  {
   "cell_type": "code",
   "execution_count": 40,
   "id": "26fdf31a",
   "metadata": {},
   "outputs": [
    {
     "data": {
      "text/html": [
       "<div>\n",
       "<style scoped>\n",
       "    .dataframe tbody tr th:only-of-type {\n",
       "        vertical-align: middle;\n",
       "    }\n",
       "\n",
       "    .dataframe tbody tr th {\n",
       "        vertical-align: top;\n",
       "    }\n",
       "\n",
       "    .dataframe thead th {\n",
       "        text-align: right;\n",
       "    }\n",
       "</style>\n",
       "<table border=\"1\" class=\"dataframe\">\n",
       "  <thead>\n",
       "    <tr style=\"text-align: right;\">\n",
       "      <th></th>\n",
       "      <th>runs_scored_max</th>\n",
       "    </tr>\n",
       "  </thead>\n",
       "  <tbody>\n",
       "    <tr>\n",
       "      <th>0</th>\n",
       "      <td>168</td>\n",
       "    </tr>\n",
       "  </tbody>\n",
       "</table>\n",
       "</div>"
      ],
      "text/plain": [
       "   runs_scored_max\n",
       "0              168"
      ]
     },
     "execution_count": 40,
     "metadata": {},
     "output_type": "execute_result"
    }
   ],
   "source": [
    "Y_train_numerical.head(1)"
   ]
  },
  {
   "cell_type": "markdown",
   "id": "57c87c1d",
   "metadata": {},
   "source": [
    "X_train.to_csv('/Users/roumyadas/Desktop/Data/IPL 08-24 complete/X_train_v1_non_random.csv', index=None)\n",
    "#X_test.to_csv('/Users/roumyadas/Desktop/Data/OD_data/X_train_v1.csv', index=None)\n",
    "Y_train_numerical.to_csv('/Users/roumyadas/Desktop/Data/IPL 08-24 complete/Y_train_numerical_v1_non_random.csv', index=None)\n",
    "Y_train_categorical.to_csv('/Users/roumyadas/Desktop/Data/IPL 08-24 complete/Y_train_categorical_v1_non_random.csv', index=None)"
   ]
  },
  {
   "cell_type": "markdown",
   "id": "72100cff",
   "metadata": {},
   "source": [
    "X_train = X_train.sample(frac=1)\n",
    "X_test = X_test.sample(frac=1)"
   ]
  },
  {
   "cell_type": "markdown",
   "id": "92e7f71a",
   "metadata": {},
   "source": [
    "## TRAINING"
   ]
  },
  {
   "cell_type": "markdown",
   "id": "fb0f61f6",
   "metadata": {},
   "source": [
    "#notes::\n",
    "1. How can I push the predicted y (numerical) to always necessarily be greater than a certain variable in X?\n"
   ]
  },
  {
   "cell_type": "markdown",
   "id": "eca0518e",
   "metadata": {},
   "source": [
    "### training an XGB model on max_runs_scored"
   ]
  },
  {
   "cell_type": "code",
   "execution_count": 41,
   "id": "d1c715c1",
   "metadata": {},
   "outputs": [
    {
     "name": "stdout",
     "output_type": "stream",
     "text": [
      "   runs_scored_max\n",
      "0              168\n"
     ]
    },
    {
     "data": {
      "text/plain": [
       "(6070, 12)"
      ]
     },
     "execution_count": 41,
     "metadata": {},
     "output_type": "execute_result"
    }
   ],
   "source": [
    "print(Y_train_numerical.head(1))\n",
    "X_train.shape"
   ]
  },
  {
   "cell_type": "code",
   "execution_count": 45,
   "id": "5b1b3126",
   "metadata": {},
   "outputs": [],
   "source": [
    "X_train.loc[X_train['last_fow_run_rate'].isna(), 'last_fow'] = np.nan\n",
    "X_test.loc[X_test['last_fow_run_rate'].isna(), 'last_fow'] = np.nan"
   ]
  },
  {
   "cell_type": "markdown",
   "id": "f1788053",
   "metadata": {},
   "source": [
    "X_train.fillna(, inplace=True)"
   ]
  },
  {
   "cell_type": "code",
   "execution_count": 46,
   "id": "5d60c861",
   "metadata": {},
   "outputs": [
    {
     "data": {
      "text/html": [
       "<div>\n",
       "<style scoped>\n",
       "    .dataframe tbody tr th:only-of-type {\n",
       "        vertical-align: middle;\n",
       "    }\n",
       "\n",
       "    .dataframe tbody tr th {\n",
       "        vertical-align: top;\n",
       "    }\n",
       "\n",
       "    .dataframe thead th {\n",
       "        text-align: right;\n",
       "    }\n",
       "</style>\n",
       "<table border=\"1\" class=\"dataframe\">\n",
       "  <thead>\n",
       "    <tr style=\"text-align: right;\">\n",
       "      <th></th>\n",
       "      <th>wickets_down</th>\n",
       "      <th>striker_batting_position</th>\n",
       "      <th>non_striker_batting_position</th>\n",
       "      <th>runs_scored</th>\n",
       "      <th>legal_balls_bowled</th>\n",
       "      <th>run_rate</th>\n",
       "      <th>last_fow</th>\n",
       "      <th>partnership_runs</th>\n",
       "      <th>last_fow_run_rate</th>\n",
       "      <th>fours</th>\n",
       "      <th>sixes</th>\n",
       "      <th>slider</th>\n",
       "    </tr>\n",
       "  </thead>\n",
       "  <tbody>\n",
       "    <tr>\n",
       "      <th>3339</th>\n",
       "      <td>0</td>\n",
       "      <td>2</td>\n",
       "      <td>1</td>\n",
       "      <td>45</td>\n",
       "      <td>29</td>\n",
       "      <td>9.310345</td>\n",
       "      <td>NaN</td>\n",
       "      <td>45.0</td>\n",
       "      <td>NaN</td>\n",
       "      <td>6</td>\n",
       "      <td>0</td>\n",
       "      <td>0.888889</td>\n",
       "    </tr>\n",
       "    <tr>\n",
       "      <th>7001</th>\n",
       "      <td>0</td>\n",
       "      <td>1</td>\n",
       "      <td>2</td>\n",
       "      <td>34</td>\n",
       "      <td>22</td>\n",
       "      <td>9.272727</td>\n",
       "      <td>NaN</td>\n",
       "      <td>34.0</td>\n",
       "      <td>NaN</td>\n",
       "      <td>5</td>\n",
       "      <td>1</td>\n",
       "      <td>3.756944</td>\n",
       "    </tr>\n",
       "    <tr>\n",
       "      <th>510</th>\n",
       "      <td>0</td>\n",
       "      <td>1</td>\n",
       "      <td>2</td>\n",
       "      <td>36</td>\n",
       "      <td>30</td>\n",
       "      <td>7.200000</td>\n",
       "      <td>NaN</td>\n",
       "      <td>36.0</td>\n",
       "      <td>NaN</td>\n",
       "      <td>5</td>\n",
       "      <td>1</td>\n",
       "      <td>0.888889</td>\n",
       "    </tr>\n",
       "    <tr>\n",
       "      <th>4351</th>\n",
       "      <td>0</td>\n",
       "      <td>1</td>\n",
       "      <td>2</td>\n",
       "      <td>75</td>\n",
       "      <td>43</td>\n",
       "      <td>10.465116</td>\n",
       "      <td>NaN</td>\n",
       "      <td>75.0</td>\n",
       "      <td>NaN</td>\n",
       "      <td>10</td>\n",
       "      <td>1</td>\n",
       "      <td>2.527778</td>\n",
       "    </tr>\n",
       "    <tr>\n",
       "      <th>2661</th>\n",
       "      <td>0</td>\n",
       "      <td>1</td>\n",
       "      <td>2</td>\n",
       "      <td>47</td>\n",
       "      <td>30</td>\n",
       "      <td>9.400000</td>\n",
       "      <td>NaN</td>\n",
       "      <td>47.0</td>\n",
       "      <td>NaN</td>\n",
       "      <td>2</td>\n",
       "      <td>3</td>\n",
       "      <td>2.527778</td>\n",
       "    </tr>\n",
       "    <tr>\n",
       "      <th>5655</th>\n",
       "      <td>0</td>\n",
       "      <td>2</td>\n",
       "      <td>1</td>\n",
       "      <td>44</td>\n",
       "      <td>29</td>\n",
       "      <td>9.103448</td>\n",
       "      <td>NaN</td>\n",
       "      <td>44.0</td>\n",
       "      <td>NaN</td>\n",
       "      <td>4</td>\n",
       "      <td>2</td>\n",
       "      <td>0.479167</td>\n",
       "    </tr>\n",
       "    <tr>\n",
       "      <th>4337</th>\n",
       "      <td>0</td>\n",
       "      <td>2</td>\n",
       "      <td>1</td>\n",
       "      <td>50</td>\n",
       "      <td>29</td>\n",
       "      <td>10.344828</td>\n",
       "      <td>NaN</td>\n",
       "      <td>50.0</td>\n",
       "      <td>NaN</td>\n",
       "      <td>6</td>\n",
       "      <td>1</td>\n",
       "      <td>2.527778</td>\n",
       "    </tr>\n",
       "    <tr>\n",
       "      <th>1</th>\n",
       "      <td>0</td>\n",
       "      <td>2</td>\n",
       "      <td>1</td>\n",
       "      <td>23</td>\n",
       "      <td>20</td>\n",
       "      <td>6.900000</td>\n",
       "      <td>NaN</td>\n",
       "      <td>23.0</td>\n",
       "      <td>NaN</td>\n",
       "      <td>1</td>\n",
       "      <td>0</td>\n",
       "      <td>2.732639</td>\n",
       "    </tr>\n",
       "    <tr>\n",
       "      <th>5663</th>\n",
       "      <td>0</td>\n",
       "      <td>1</td>\n",
       "      <td>2</td>\n",
       "      <td>56</td>\n",
       "      <td>36</td>\n",
       "      <td>9.333333</td>\n",
       "      <td>NaN</td>\n",
       "      <td>56.0</td>\n",
       "      <td>NaN</td>\n",
       "      <td>6</td>\n",
       "      <td>2</td>\n",
       "      <td>0.479167</td>\n",
       "    </tr>\n",
       "    <tr>\n",
       "      <th>31</th>\n",
       "      <td>0</td>\n",
       "      <td>1</td>\n",
       "      <td>2</td>\n",
       "      <td>61</td>\n",
       "      <td>50</td>\n",
       "      <td>7.320000</td>\n",
       "      <td>NaN</td>\n",
       "      <td>61.0</td>\n",
       "      <td>NaN</td>\n",
       "      <td>7</td>\n",
       "      <td>0</td>\n",
       "      <td>2.732639</td>\n",
       "    </tr>\n",
       "  </tbody>\n",
       "</table>\n",
       "</div>"
      ],
      "text/plain": [
       "      wickets_down  striker_batting_position  non_striker_batting_position  \\\n",
       "3339             0                         2                             1   \n",
       "7001             0                         1                             2   \n",
       "510              0                         1                             2   \n",
       "4351             0                         1                             2   \n",
       "2661             0                         1                             2   \n",
       "5655             0                         2                             1   \n",
       "4337             0                         2                             1   \n",
       "1                0                         2                             1   \n",
       "5663             0                         1                             2   \n",
       "31               0                         1                             2   \n",
       "\n",
       "      runs_scored  legal_balls_bowled   run_rate  last_fow  partnership_runs  \\\n",
       "3339           45                  29   9.310345       NaN              45.0   \n",
       "7001           34                  22   9.272727       NaN              34.0   \n",
       "510            36                  30   7.200000       NaN              36.0   \n",
       "4351           75                  43  10.465116       NaN              75.0   \n",
       "2661           47                  30   9.400000       NaN              47.0   \n",
       "5655           44                  29   9.103448       NaN              44.0   \n",
       "4337           50                  29  10.344828       NaN              50.0   \n",
       "1              23                  20   6.900000       NaN              23.0   \n",
       "5663           56                  36   9.333333       NaN              56.0   \n",
       "31             61                  50   7.320000       NaN              61.0   \n",
       "\n",
       "      last_fow_run_rate  fours  sixes    slider  \n",
       "3339                NaN      6      0  0.888889  \n",
       "7001                NaN      5      1  3.756944  \n",
       "510                 NaN      5      1  0.888889  \n",
       "4351                NaN     10      1  2.527778  \n",
       "2661                NaN      2      3  2.527778  \n",
       "5655                NaN      4      2  0.479167  \n",
       "4337                NaN      6      1  2.527778  \n",
       "1                   NaN      1      0  2.732639  \n",
       "5663                NaN      6      2  0.479167  \n",
       "31                  NaN      7      0  2.732639  "
      ]
     },
     "execution_count": 46,
     "metadata": {},
     "output_type": "execute_result"
    }
   ],
   "source": [
    "rows_with_na = X_train[X_train.isna().any(axis=1)]\n",
    "\n",
    "# Sample 10 rows from the filtered DataFrame\n",
    "sampled_rows = rows_with_na.sample(10)\n",
    "\n",
    "# Print the sampled rows\n",
    "(sampled_rows)"
   ]
  },
  {
   "cell_type": "code",
   "execution_count": 47,
   "id": "289a1482",
   "metadata": {},
   "outputs": [
    {
     "name": "stdout",
     "output_type": "stream",
     "text": [
      "['last_fow', 'last_fow_run_rate']\n"
     ]
    }
   ],
   "source": [
    "columns_with_na = X_train.columns[X_train.isna().any()].tolist()\n",
    "\n",
    "# Print the list of columns with missing values\n",
    "print(columns_with_na)"
   ]
  },
  {
   "cell_type": "markdown",
   "id": "c7edc225",
   "metadata": {},
   "source": [
    "### filling na with -1"
   ]
  },
  {
   "cell_type": "code",
   "execution_count": 48,
   "id": "0c8af8df",
   "metadata": {},
   "outputs": [
    {
     "name": "stderr",
     "output_type": "stream",
     "text": [
      "/Users/roumyadas/anaconda3/lib/python3.8/site-packages/pandas/core/frame.py:5176: SettingWithCopyWarning: \n",
      "A value is trying to be set on a copy of a slice from a DataFrame\n",
      "\n",
      "See the caveats in the documentation: https://pandas.pydata.org/pandas-docs/stable/user_guide/indexing.html#returning-a-view-versus-a-copy\n",
      "  return super().fillna(\n"
     ]
    }
   ],
   "source": [
    "X_train.fillna(-1, inplace=True)\n",
    "X_test.fillna(-1, inplace=True)\n",
    "\n",
    "## filling na values with default -1"
   ]
  },
  {
   "cell_type": "markdown",
   "id": "57be4600",
   "metadata": {},
   "source": [
    "!pip install torch"
   ]
  },
  {
   "cell_type": "code",
   "execution_count": 50,
   "id": "4f0c6fad",
   "metadata": {},
   "outputs": [
    {
     "ename": "KeyboardInterrupt",
     "evalue": "",
     "output_type": "error",
     "traceback": [
      "\u001b[0;31m---------------------------------------------------------------------------\u001b[0m",
      "\u001b[0;31mKeyboardInterrupt\u001b[0m                         Traceback (most recent call last)",
      "\u001b[0;32m/var/folders/68/nlclwstn1zd28pll4j60q7zw0000gn/T/ipykernel_33814/2889199973.py\u001b[0m in \u001b[0;36m<module>\u001b[0;34m\u001b[0m\n\u001b[1;32m      1\u001b[0m \u001b[0;31m# import libraries\u001b[0m\u001b[0;34m\u001b[0m\u001b[0;34m\u001b[0m\u001b[0;34m\u001b[0m\u001b[0m\n\u001b[0;32m----> 2\u001b[0;31m \u001b[0;32mimport\u001b[0m \u001b[0mtorch\u001b[0m\u001b[0;34m\u001b[0m\u001b[0;34m\u001b[0m\u001b[0m\n\u001b[0m\u001b[1;32m      3\u001b[0m \u001b[0;32mimport\u001b[0m \u001b[0mtorch\u001b[0m\u001b[0;34m.\u001b[0m\u001b[0mnn\u001b[0m \u001b[0;32mas\u001b[0m \u001b[0mnn\u001b[0m\u001b[0;34m\u001b[0m\u001b[0;34m\u001b[0m\u001b[0m\n\u001b[1;32m      4\u001b[0m \u001b[0;32mimport\u001b[0m \u001b[0mnumpy\u001b[0m \u001b[0;32mas\u001b[0m \u001b[0mnp\u001b[0m\u001b[0;34m\u001b[0m\u001b[0;34m\u001b[0m\u001b[0m\n\u001b[1;32m      5\u001b[0m \u001b[0;32mimport\u001b[0m \u001b[0mmatplotlib\u001b[0m\u001b[0;34m.\u001b[0m\u001b[0mpyplot\u001b[0m \u001b[0;32mas\u001b[0m \u001b[0mplt\u001b[0m\u001b[0;34m\u001b[0m\u001b[0;34m\u001b[0m\u001b[0m\n",
      "\u001b[0;32m~/anaconda3/lib/python3.8/site-packages/torch/__init__.py\u001b[0m in \u001b[0;36m<module>\u001b[0;34m\u001b[0m\n\u001b[1;32m    235\u001b[0m     \u001b[0;32mif\u001b[0m \u001b[0mUSE_GLOBAL_DEPS\u001b[0m\u001b[0;34m:\u001b[0m\u001b[0;34m\u001b[0m\u001b[0;34m\u001b[0m\u001b[0m\n\u001b[1;32m    236\u001b[0m         \u001b[0m_load_global_deps\u001b[0m\u001b[0;34m(\u001b[0m\u001b[0;34m)\u001b[0m\u001b[0;34m\u001b[0m\u001b[0;34m\u001b[0m\u001b[0m\n\u001b[0;32m--> 237\u001b[0;31m     \u001b[0;32mfrom\u001b[0m \u001b[0mtorch\u001b[0m\u001b[0;34m.\u001b[0m\u001b[0m_C\u001b[0m \u001b[0;32mimport\u001b[0m \u001b[0;34m*\u001b[0m  \u001b[0;31m# noqa: F403\u001b[0m\u001b[0;34m\u001b[0m\u001b[0;34m\u001b[0m\u001b[0m\n\u001b[0m\u001b[1;32m    238\u001b[0m \u001b[0;34m\u001b[0m\u001b[0m\n\u001b[1;32m    239\u001b[0m \u001b[0;31m# Appease the type checker; ordinarily this binding is inserted by the\u001b[0m\u001b[0;34m\u001b[0m\u001b[0;34m\u001b[0m\u001b[0;34m\u001b[0m\u001b[0m\n",
      "\u001b[0;31mKeyboardInterrupt\u001b[0m: "
     ]
    }
   ],
   "source": [
    "# import libraries\n",
    "import torch\n",
    "import torch.nn as nn\n",
    "import numpy as np\n",
    "import matplotlib.pyplot as plt\n",
    "import matplotlib_inline.backend_inline\n",
    "matplotlib_inline.backend_inline.set_matplotlib_formats('svg')\n",
    "\n",
    "# libraries for partitioning and batching the data\n",
    "from sklearn.model_selection import train_test_split\n",
    "from torch.utils.data import DataLoader,TensorDataset"
   ]
  },
  {
   "cell_type": "code",
   "execution_count": 51,
   "id": "565dc064",
   "metadata": {},
   "outputs": [
    {
     "data": {
      "text/plain": [
       "pandas.core.frame.DataFrame"
      ]
     },
     "execution_count": 51,
     "metadata": {},
     "output_type": "execute_result"
    }
   ],
   "source": [
    "type(X_train)"
   ]
  },
  {
   "cell_type": "code",
   "execution_count": 52,
   "id": "96299fd7",
   "metadata": {
    "scrolled": true
   },
   "outputs": [
    {
     "name": "stderr",
     "output_type": "stream",
     "text": [
      "/var/folders/68/nlclwstn1zd28pll4j60q7zw0000gn/T/ipykernel_33814/4158863417.py:2: SettingWithCopyWarning: \n",
      "A value is trying to be set on a copy of a slice from a DataFrame.\n",
      "Try using .loc[row_indexer,col_indexer] = value instead\n",
      "\n",
      "See the caveats in the documentation: https://pandas.pydata.org/pandas-docs/stable/user_guide/indexing.html#returning-a-view-versus-a-copy\n",
      "  X_train[col] = X_train[col].astype(float)\n",
      "/var/folders/68/nlclwstn1zd28pll4j60q7zw0000gn/T/ipykernel_33814/4158863417.py:3: SettingWithCopyWarning: \n",
      "A value is trying to be set on a copy of a slice from a DataFrame.\n",
      "Try using .loc[row_indexer,col_indexer] = value instead\n",
      "\n",
      "See the caveats in the documentation: https://pandas.pydata.org/pandas-docs/stable/user_guide/indexing.html#returning-a-view-versus-a-copy\n",
      "  X_test[col] = X_test[col].astype(float)\n",
      "/var/folders/68/nlclwstn1zd28pll4j60q7zw0000gn/T/ipykernel_33814/4158863417.py:7: SettingWithCopyWarning: \n",
      "A value is trying to be set on a copy of a slice from a DataFrame.\n",
      "Try using .loc[row_indexer,col_indexer] = value instead\n",
      "\n",
      "See the caveats in the documentation: https://pandas.pydata.org/pandas-docs/stable/user_guide/indexing.html#returning-a-view-versus-a-copy\n",
      "  Y_train_numerical[col] = Y_train_numerical[col].astype(float)\n",
      "/var/folders/68/nlclwstn1zd28pll4j60q7zw0000gn/T/ipykernel_33814/4158863417.py:8: SettingWithCopyWarning: \n",
      "A value is trying to be set on a copy of a slice from a DataFrame.\n",
      "Try using .loc[row_indexer,col_indexer] = value instead\n",
      "\n",
      "See the caveats in the documentation: https://pandas.pydata.org/pandas-docs/stable/user_guide/indexing.html#returning-a-view-versus-a-copy\n",
      "  Y_test_numerical[col] = Y_test_numerical[col].astype(float)\n"
     ]
    }
   ],
   "source": [
    "for col in X_train.columns:\n",
    "    X_train[col] = X_train[col].astype(float)\n",
    "    X_test[col] = X_test[col].astype(float)\n",
    "\n",
    "\n",
    "for col in Y_train_numerical.columns:\n",
    "    Y_train_numerical[col] = Y_train_numerical[col].astype(float)\n",
    "    Y_test_numerical[col] = Y_test_numerical[col].astype(float)"
   ]
  },
  {
   "cell_type": "code",
   "execution_count": null,
   "id": "d1451f14",
   "metadata": {},
   "outputs": [],
   "source": []
  },
  {
   "cell_type": "markdown",
   "id": "ef838940",
   "metadata": {},
   "source": [
    "### training an LGBM model on Y_train_numerical"
   ]
  },
  {
   "cell_type": "code",
   "execution_count": 53,
   "id": "02d9ceb5",
   "metadata": {},
   "outputs": [
    {
     "data": {
      "text/plain": [
       "Index(['wickets_down', 'striker_batting_position',\n",
       "       'non_striker_batting_position', 'runs_scored', 'legal_balls_bowled',\n",
       "       'run_rate', 'last_fow', 'partnership_runs', 'last_fow_run_rate',\n",
       "       'fours', 'sixes', 'slider'],\n",
       "      dtype='object')"
      ]
     },
     "execution_count": 53,
     "metadata": {},
     "output_type": "execute_result"
    }
   ],
   "source": [
    "X_train.columns"
   ]
  },
  {
   "cell_type": "code",
   "execution_count": 54,
   "id": "c23a8c78",
   "metadata": {
    "scrolled": true
   },
   "outputs": [
    {
     "ename": "ValueError",
     "evalue": "Data must be 1-dimensional",
     "output_type": "error",
     "traceback": [
      "\u001b[0;31m---------------------------------------------------------------------------\u001b[0m",
      "\u001b[0;31mValueError\u001b[0m                                Traceback (most recent call last)",
      "\u001b[0;32m/var/folders/68/nlclwstn1zd28pll4j60q7zw0000gn/T/ipykernel_33814/750146848.py\u001b[0m in \u001b[0;36m<module>\u001b[0;34m\u001b[0m\n\u001b[1;32m     37\u001b[0m \u001b[0;31m# Train the LightGBM model with custom loss function\u001b[0m\u001b[0;34m\u001b[0m\u001b[0;34m\u001b[0m\u001b[0;34m\u001b[0m\u001b[0m\n\u001b[1;32m     38\u001b[0m \u001b[0mnum_round\u001b[0m \u001b[0;34m=\u001b[0m \u001b[0;36m100\u001b[0m  \u001b[0;31m# Number of boosting rounds (you can tune this)\u001b[0m\u001b[0;34m\u001b[0m\u001b[0;34m\u001b[0m\u001b[0m\n\u001b[0;32m---> 39\u001b[0;31m \u001b[0mbst\u001b[0m \u001b[0;34m=\u001b[0m \u001b[0mlgb\u001b[0m\u001b[0;34m.\u001b[0m\u001b[0mtrain\u001b[0m\u001b[0;34m(\u001b[0m\u001b[0mparams\u001b[0m\u001b[0;34m,\u001b[0m \u001b[0mtrain_data\u001b[0m\u001b[0;34m,\u001b[0m \u001b[0mnum_round\u001b[0m\u001b[0;34m,\u001b[0m \u001b[0mfobj\u001b[0m\u001b[0;34m=\u001b[0m\u001b[0;32mlambda\u001b[0m \u001b[0mpreds\u001b[0m\u001b[0;34m,\u001b[0m \u001b[0mtrain_data\u001b[0m\u001b[0;34m:\u001b[0m \u001b[0mcustom_loss\u001b[0m\u001b[0;34m(\u001b[0m\u001b[0mY_train_numerical\u001b[0m\u001b[0;34m.\u001b[0m\u001b[0mvalues\u001b[0m\u001b[0;34m,\u001b[0m \u001b[0mpreds\u001b[0m\u001b[0;34m,\u001b[0m \u001b[0mX_train\u001b[0m\u001b[0;34m)\u001b[0m\u001b[0;34m)\u001b[0m\u001b[0;34m\u001b[0m\u001b[0;34m\u001b[0m\u001b[0m\n\u001b[0m\u001b[1;32m     40\u001b[0m \u001b[0;34m\u001b[0m\u001b[0m\n\u001b[1;32m     41\u001b[0m \u001b[0;31m# Make predictions (you can replace X_valid with your test data)\u001b[0m\u001b[0;34m\u001b[0m\u001b[0;34m\u001b[0m\u001b[0;34m\u001b[0m\u001b[0m\n",
      "\u001b[0;32m~/anaconda3/lib/python3.8/site-packages/lightgbm/engine.py\u001b[0m in \u001b[0;36mtrain\u001b[0;34m(params, train_set, num_boost_round, valid_sets, valid_names, fobj, feval, init_model, feature_name, categorical_feature, early_stopping_rounds, evals_result, verbose_eval, learning_rates, keep_training_booster, callbacks)\u001b[0m\n\u001b[1;32m    247\u001b[0m                                     evaluation_result_list=None))\n\u001b[1;32m    248\u001b[0m \u001b[0;34m\u001b[0m\u001b[0m\n\u001b[0;32m--> 249\u001b[0;31m         \u001b[0mbooster\u001b[0m\u001b[0;34m.\u001b[0m\u001b[0mupdate\u001b[0m\u001b[0;34m(\u001b[0m\u001b[0mfobj\u001b[0m\u001b[0;34m=\u001b[0m\u001b[0mfobj\u001b[0m\u001b[0;34m)\u001b[0m\u001b[0;34m\u001b[0m\u001b[0;34m\u001b[0m\u001b[0m\n\u001b[0m\u001b[1;32m    250\u001b[0m \u001b[0;34m\u001b[0m\u001b[0m\n\u001b[1;32m    251\u001b[0m         \u001b[0mevaluation_result_list\u001b[0m \u001b[0;34m=\u001b[0m \u001b[0;34m[\u001b[0m\u001b[0;34m]\u001b[0m\u001b[0;34m\u001b[0m\u001b[0;34m\u001b[0m\u001b[0m\n",
      "\u001b[0;32m~/anaconda3/lib/python3.8/site-packages/lightgbm/basic.py\u001b[0m in \u001b[0;36mupdate\u001b[0;34m(self, train_set, fobj)\u001b[0m\n\u001b[1;32m   2649\u001b[0m             \u001b[0;32mif\u001b[0m \u001b[0;32mnot\u001b[0m \u001b[0mself\u001b[0m\u001b[0;34m.\u001b[0m\u001b[0m__set_objective_to_none\u001b[0m\u001b[0;34m:\u001b[0m\u001b[0;34m\u001b[0m\u001b[0;34m\u001b[0m\u001b[0m\n\u001b[1;32m   2650\u001b[0m                 \u001b[0mself\u001b[0m\u001b[0;34m.\u001b[0m\u001b[0mreset_parameter\u001b[0m\u001b[0;34m(\u001b[0m\u001b[0;34m{\u001b[0m\u001b[0;34m\"objective\"\u001b[0m\u001b[0;34m:\u001b[0m \u001b[0;34m\"none\"\u001b[0m\u001b[0;34m}\u001b[0m\u001b[0;34m)\u001b[0m\u001b[0;34m.\u001b[0m\u001b[0m__set_objective_to_none\u001b[0m \u001b[0;34m=\u001b[0m \u001b[0;32mTrue\u001b[0m\u001b[0;34m\u001b[0m\u001b[0;34m\u001b[0m\u001b[0m\n\u001b[0;32m-> 2651\u001b[0;31m             \u001b[0mgrad\u001b[0m\u001b[0;34m,\u001b[0m \u001b[0mhess\u001b[0m \u001b[0;34m=\u001b[0m \u001b[0mfobj\u001b[0m\u001b[0;34m(\u001b[0m\u001b[0mself\u001b[0m\u001b[0;34m.\u001b[0m\u001b[0m__inner_predict\u001b[0m\u001b[0;34m(\u001b[0m\u001b[0;36m0\u001b[0m\u001b[0;34m)\u001b[0m\u001b[0;34m,\u001b[0m \u001b[0mself\u001b[0m\u001b[0;34m.\u001b[0m\u001b[0mtrain_set\u001b[0m\u001b[0;34m)\u001b[0m\u001b[0;34m\u001b[0m\u001b[0;34m\u001b[0m\u001b[0m\n\u001b[0m\u001b[1;32m   2652\u001b[0m             \u001b[0;32mreturn\u001b[0m \u001b[0mself\u001b[0m\u001b[0;34m.\u001b[0m\u001b[0m__boost\u001b[0m\u001b[0;34m(\u001b[0m\u001b[0mgrad\u001b[0m\u001b[0;34m,\u001b[0m \u001b[0mhess\u001b[0m\u001b[0;34m)\u001b[0m\u001b[0;34m\u001b[0m\u001b[0;34m\u001b[0m\u001b[0m\n\u001b[1;32m   2653\u001b[0m \u001b[0;34m\u001b[0m\u001b[0m\n",
      "\u001b[0;32m/var/folders/68/nlclwstn1zd28pll4j60q7zw0000gn/T/ipykernel_33814/750146848.py\u001b[0m in \u001b[0;36m<lambda>\u001b[0;34m(preds, train_data)\u001b[0m\n\u001b[1;32m     37\u001b[0m \u001b[0;31m# Train the LightGBM model with custom loss function\u001b[0m\u001b[0;34m\u001b[0m\u001b[0;34m\u001b[0m\u001b[0;34m\u001b[0m\u001b[0m\n\u001b[1;32m     38\u001b[0m \u001b[0mnum_round\u001b[0m \u001b[0;34m=\u001b[0m \u001b[0;36m100\u001b[0m  \u001b[0;31m# Number of boosting rounds (you can tune this)\u001b[0m\u001b[0;34m\u001b[0m\u001b[0;34m\u001b[0m\u001b[0m\n\u001b[0;32m---> 39\u001b[0;31m \u001b[0mbst\u001b[0m \u001b[0;34m=\u001b[0m \u001b[0mlgb\u001b[0m\u001b[0;34m.\u001b[0m\u001b[0mtrain\u001b[0m\u001b[0;34m(\u001b[0m\u001b[0mparams\u001b[0m\u001b[0;34m,\u001b[0m \u001b[0mtrain_data\u001b[0m\u001b[0;34m,\u001b[0m \u001b[0mnum_round\u001b[0m\u001b[0;34m,\u001b[0m \u001b[0mfobj\u001b[0m\u001b[0;34m=\u001b[0m\u001b[0;32mlambda\u001b[0m \u001b[0mpreds\u001b[0m\u001b[0;34m,\u001b[0m \u001b[0mtrain_data\u001b[0m\u001b[0;34m:\u001b[0m \u001b[0mcustom_loss\u001b[0m\u001b[0;34m(\u001b[0m\u001b[0mY_train_numerical\u001b[0m\u001b[0;34m.\u001b[0m\u001b[0mvalues\u001b[0m\u001b[0;34m,\u001b[0m \u001b[0mpreds\u001b[0m\u001b[0;34m,\u001b[0m \u001b[0mX_train\u001b[0m\u001b[0;34m)\u001b[0m\u001b[0;34m)\u001b[0m\u001b[0;34m\u001b[0m\u001b[0;34m\u001b[0m\u001b[0m\n\u001b[0m\u001b[1;32m     40\u001b[0m \u001b[0;34m\u001b[0m\u001b[0m\n\u001b[1;32m     41\u001b[0m \u001b[0;31m# Make predictions (you can replace X_valid with your test data)\u001b[0m\u001b[0;34m\u001b[0m\u001b[0;34m\u001b[0m\u001b[0;34m\u001b[0m\u001b[0m\n",
      "\u001b[0;32m/var/folders/68/nlclwstn1zd28pll4j60q7zw0000gn/T/ipykernel_33814/750146848.py\u001b[0m in \u001b[0;36mcustom_loss\u001b[0;34m(y_true, y_pred, X)\u001b[0m\n\u001b[1;32m     17\u001b[0m     \u001b[0merror\u001b[0m \u001b[0;34m=\u001b[0m \u001b[0mnp\u001b[0m\u001b[0;34m.\u001b[0m\u001b[0mabs\u001b[0m\u001b[0;34m(\u001b[0m\u001b[0my_true\u001b[0m \u001b[0;34m-\u001b[0m \u001b[0my_pred\u001b[0m\u001b[0;34m)\u001b[0m\u001b[0;34m\u001b[0m\u001b[0;34m\u001b[0m\u001b[0m\n\u001b[1;32m     18\u001b[0m \u001b[0;34m\u001b[0m\u001b[0m\n\u001b[0;32m---> 19\u001b[0;31m     \u001b[0;32mreturn\u001b[0m \u001b[0mnp\u001b[0m\u001b[0;34m.\u001b[0m\u001b[0mmean\u001b[0m\u001b[0;34m(\u001b[0m\u001b[0merror\u001b[0m \u001b[0;34m+\u001b[0m \u001b[0mconstraint_penalty\u001b[0m\u001b[0;34m)\u001b[0m\u001b[0;34m\u001b[0m\u001b[0;34m\u001b[0m\u001b[0m\n\u001b[0m\u001b[1;32m     20\u001b[0m \u001b[0;34m\u001b[0m\u001b[0m\n\u001b[1;32m     21\u001b[0m \u001b[0;31m# Create LightGBM dataset\u001b[0m\u001b[0;34m\u001b[0m\u001b[0;34m\u001b[0m\u001b[0;34m\u001b[0m\u001b[0m\n",
      "\u001b[0;32m~/anaconda3/lib/python3.8/site-packages/pandas/core/generic.py\u001b[0m in \u001b[0;36m__array_ufunc__\u001b[0;34m(self, ufunc, method, *inputs, **kwargs)\u001b[0m\n\u001b[1;32m   2030\u001b[0m         \u001b[0mself\u001b[0m\u001b[0;34m,\u001b[0m \u001b[0mufunc\u001b[0m\u001b[0;34m:\u001b[0m \u001b[0mnp\u001b[0m\u001b[0;34m.\u001b[0m\u001b[0mufunc\u001b[0m\u001b[0;34m,\u001b[0m \u001b[0mmethod\u001b[0m\u001b[0;34m:\u001b[0m \u001b[0mstr\u001b[0m\u001b[0;34m,\u001b[0m \u001b[0;34m*\u001b[0m\u001b[0minputs\u001b[0m\u001b[0;34m:\u001b[0m \u001b[0mAny\u001b[0m\u001b[0;34m,\u001b[0m \u001b[0;34m**\u001b[0m\u001b[0mkwargs\u001b[0m\u001b[0;34m:\u001b[0m \u001b[0mAny\u001b[0m\u001b[0;34m\u001b[0m\u001b[0;34m\u001b[0m\u001b[0m\n\u001b[1;32m   2031\u001b[0m     ):\n\u001b[0;32m-> 2032\u001b[0;31m         \u001b[0;32mreturn\u001b[0m \u001b[0marraylike\u001b[0m\u001b[0;34m.\u001b[0m\u001b[0marray_ufunc\u001b[0m\u001b[0;34m(\u001b[0m\u001b[0mself\u001b[0m\u001b[0;34m,\u001b[0m \u001b[0mufunc\u001b[0m\u001b[0;34m,\u001b[0m \u001b[0mmethod\u001b[0m\u001b[0;34m,\u001b[0m \u001b[0;34m*\u001b[0m\u001b[0minputs\u001b[0m\u001b[0;34m,\u001b[0m \u001b[0;34m**\u001b[0m\u001b[0mkwargs\u001b[0m\u001b[0;34m)\u001b[0m\u001b[0;34m\u001b[0m\u001b[0;34m\u001b[0m\u001b[0m\n\u001b[0m\u001b[1;32m   2033\u001b[0m \u001b[0;34m\u001b[0m\u001b[0m\n\u001b[1;32m   2034\u001b[0m     \u001b[0;31m# ideally we would define this to avoid the getattr checks, but\u001b[0m\u001b[0;34m\u001b[0m\u001b[0;34m\u001b[0m\u001b[0;34m\u001b[0m\u001b[0m\n",
      "\u001b[0;32m~/anaconda3/lib/python3.8/site-packages/pandas/core/arraylike.py\u001b[0m in \u001b[0;36marray_ufunc\u001b[0;34m(self, ufunc, method, *inputs, **kwargs)\u001b[0m\n\u001b[1;32m    251\u001b[0m \u001b[0;34m\u001b[0m\u001b[0m\n\u001b[1;32m    252\u001b[0m     \u001b[0;31m# for binary ops, use our custom dunder methods\u001b[0m\u001b[0;34m\u001b[0m\u001b[0;34m\u001b[0m\u001b[0;34m\u001b[0m\u001b[0m\n\u001b[0;32m--> 253\u001b[0;31m     \u001b[0mresult\u001b[0m \u001b[0;34m=\u001b[0m \u001b[0mmaybe_dispatch_ufunc_to_dunder_op\u001b[0m\u001b[0;34m(\u001b[0m\u001b[0mself\u001b[0m\u001b[0;34m,\u001b[0m \u001b[0mufunc\u001b[0m\u001b[0;34m,\u001b[0m \u001b[0mmethod\u001b[0m\u001b[0;34m,\u001b[0m \u001b[0;34m*\u001b[0m\u001b[0minputs\u001b[0m\u001b[0;34m,\u001b[0m \u001b[0;34m**\u001b[0m\u001b[0mkwargs\u001b[0m\u001b[0;34m)\u001b[0m\u001b[0;34m\u001b[0m\u001b[0;34m\u001b[0m\u001b[0m\n\u001b[0m\u001b[1;32m    254\u001b[0m     \u001b[0;32mif\u001b[0m \u001b[0mresult\u001b[0m \u001b[0;32mis\u001b[0m \u001b[0;32mnot\u001b[0m \u001b[0mNotImplemented\u001b[0m\u001b[0;34m:\u001b[0m\u001b[0;34m\u001b[0m\u001b[0;34m\u001b[0m\u001b[0m\n\u001b[1;32m    255\u001b[0m         \u001b[0;32mreturn\u001b[0m \u001b[0mresult\u001b[0m\u001b[0;34m\u001b[0m\u001b[0;34m\u001b[0m\u001b[0m\n",
      "\u001b[0;32m~/anaconda3/lib/python3.8/site-packages/pandas/_libs/ops_dispatch.pyx\u001b[0m in \u001b[0;36mpandas._libs.ops_dispatch.maybe_dispatch_ufunc_to_dunder_op\u001b[0;34m()\u001b[0m\n",
      "\u001b[0;32m~/anaconda3/lib/python3.8/site-packages/pandas/core/ops/common.py\u001b[0m in \u001b[0;36mnew_method\u001b[0;34m(self, other)\u001b[0m\n\u001b[1;32m     67\u001b[0m         \u001b[0mother\u001b[0m \u001b[0;34m=\u001b[0m \u001b[0mitem_from_zerodim\u001b[0m\u001b[0;34m(\u001b[0m\u001b[0mother\u001b[0m\u001b[0;34m)\u001b[0m\u001b[0;34m\u001b[0m\u001b[0;34m\u001b[0m\u001b[0m\n\u001b[1;32m     68\u001b[0m \u001b[0;34m\u001b[0m\u001b[0m\n\u001b[0;32m---> 69\u001b[0;31m         \u001b[0;32mreturn\u001b[0m \u001b[0mmethod\u001b[0m\u001b[0;34m(\u001b[0m\u001b[0mself\u001b[0m\u001b[0;34m,\u001b[0m \u001b[0mother\u001b[0m\u001b[0;34m)\u001b[0m\u001b[0;34m\u001b[0m\u001b[0;34m\u001b[0m\u001b[0m\n\u001b[0m\u001b[1;32m     70\u001b[0m \u001b[0;34m\u001b[0m\u001b[0m\n\u001b[1;32m     71\u001b[0m     \u001b[0;32mreturn\u001b[0m \u001b[0mnew_method\u001b[0m\u001b[0;34m\u001b[0m\u001b[0;34m\u001b[0m\u001b[0m\n",
      "\u001b[0;32m~/anaconda3/lib/python3.8/site-packages/pandas/core/arraylike.py\u001b[0m in \u001b[0;36m__radd__\u001b[0;34m(self, other)\u001b[0m\n\u001b[1;32m     94\u001b[0m     \u001b[0;34m@\u001b[0m\u001b[0munpack_zerodim_and_defer\u001b[0m\u001b[0;34m(\u001b[0m\u001b[0;34m\"__radd__\"\u001b[0m\u001b[0;34m)\u001b[0m\u001b[0;34m\u001b[0m\u001b[0;34m\u001b[0m\u001b[0m\n\u001b[1;32m     95\u001b[0m     \u001b[0;32mdef\u001b[0m \u001b[0m__radd__\u001b[0m\u001b[0;34m(\u001b[0m\u001b[0mself\u001b[0m\u001b[0;34m,\u001b[0m \u001b[0mother\u001b[0m\u001b[0;34m)\u001b[0m\u001b[0;34m:\u001b[0m\u001b[0;34m\u001b[0m\u001b[0;34m\u001b[0m\u001b[0m\n\u001b[0;32m---> 96\u001b[0;31m         \u001b[0;32mreturn\u001b[0m \u001b[0mself\u001b[0m\u001b[0;34m.\u001b[0m\u001b[0m_arith_method\u001b[0m\u001b[0;34m(\u001b[0m\u001b[0mother\u001b[0m\u001b[0;34m,\u001b[0m \u001b[0mroperator\u001b[0m\u001b[0;34m.\u001b[0m\u001b[0mradd\u001b[0m\u001b[0;34m)\u001b[0m\u001b[0;34m\u001b[0m\u001b[0;34m\u001b[0m\u001b[0m\n\u001b[0m\u001b[1;32m     97\u001b[0m \u001b[0;34m\u001b[0m\u001b[0m\n\u001b[1;32m     98\u001b[0m     \u001b[0;34m@\u001b[0m\u001b[0munpack_zerodim_and_defer\u001b[0m\u001b[0;34m(\u001b[0m\u001b[0;34m\"__sub__\"\u001b[0m\u001b[0;34m)\u001b[0m\u001b[0;34m\u001b[0m\u001b[0;34m\u001b[0m\u001b[0m\n",
      "\u001b[0;32m~/anaconda3/lib/python3.8/site-packages/pandas/core/series.py\u001b[0m in \u001b[0;36m_arith_method\u001b[0;34m(self, other, op)\u001b[0m\n\u001b[1;32m   5526\u001b[0m             \u001b[0mresult\u001b[0m \u001b[0;34m=\u001b[0m \u001b[0mops\u001b[0m\u001b[0;34m.\u001b[0m\u001b[0marithmetic_op\u001b[0m\u001b[0;34m(\u001b[0m\u001b[0mlvalues\u001b[0m\u001b[0;34m,\u001b[0m \u001b[0mrvalues\u001b[0m\u001b[0;34m,\u001b[0m \u001b[0mop\u001b[0m\u001b[0;34m)\u001b[0m\u001b[0;34m\u001b[0m\u001b[0;34m\u001b[0m\u001b[0m\n\u001b[1;32m   5527\u001b[0m \u001b[0;34m\u001b[0m\u001b[0m\n\u001b[0;32m-> 5528\u001b[0;31m         \u001b[0;32mreturn\u001b[0m \u001b[0mself\u001b[0m\u001b[0;34m.\u001b[0m\u001b[0m_construct_result\u001b[0m\u001b[0;34m(\u001b[0m\u001b[0mresult\u001b[0m\u001b[0;34m,\u001b[0m \u001b[0mname\u001b[0m\u001b[0;34m=\u001b[0m\u001b[0mres_name\u001b[0m\u001b[0;34m)\u001b[0m\u001b[0;34m\u001b[0m\u001b[0;34m\u001b[0m\u001b[0m\n\u001b[0m\u001b[1;32m   5529\u001b[0m \u001b[0;34m\u001b[0m\u001b[0m\n\u001b[1;32m   5530\u001b[0m \u001b[0;34m\u001b[0m\u001b[0m\n",
      "\u001b[0;32m~/anaconda3/lib/python3.8/site-packages/pandas/core/series.py\u001b[0m in \u001b[0;36m_construct_result\u001b[0;34m(self, result, name)\u001b[0m\n\u001b[1;32m   2943\u001b[0m         \u001b[0;31m# We do not pass dtype to ensure that the Series constructor\u001b[0m\u001b[0;34m\u001b[0m\u001b[0;34m\u001b[0m\u001b[0;34m\u001b[0m\u001b[0m\n\u001b[1;32m   2944\u001b[0m         \u001b[0;31m#  does inference in the case where `result` has object-dtype.\u001b[0m\u001b[0;34m\u001b[0m\u001b[0;34m\u001b[0m\u001b[0;34m\u001b[0m\u001b[0m\n\u001b[0;32m-> 2945\u001b[0;31m         \u001b[0mout\u001b[0m \u001b[0;34m=\u001b[0m \u001b[0mself\u001b[0m\u001b[0;34m.\u001b[0m\u001b[0m_constructor\u001b[0m\u001b[0;34m(\u001b[0m\u001b[0mresult\u001b[0m\u001b[0;34m,\u001b[0m \u001b[0mindex\u001b[0m\u001b[0;34m=\u001b[0m\u001b[0mself\u001b[0m\u001b[0;34m.\u001b[0m\u001b[0mindex\u001b[0m\u001b[0;34m)\u001b[0m\u001b[0;34m\u001b[0m\u001b[0;34m\u001b[0m\u001b[0m\n\u001b[0m\u001b[1;32m   2946\u001b[0m         \u001b[0mout\u001b[0m \u001b[0;34m=\u001b[0m \u001b[0mout\u001b[0m\u001b[0;34m.\u001b[0m\u001b[0m__finalize__\u001b[0m\u001b[0;34m(\u001b[0m\u001b[0mself\u001b[0m\u001b[0;34m)\u001b[0m\u001b[0;34m\u001b[0m\u001b[0;34m\u001b[0m\u001b[0m\n\u001b[1;32m   2947\u001b[0m \u001b[0;34m\u001b[0m\u001b[0m\n",
      "\u001b[0;32m~/anaconda3/lib/python3.8/site-packages/pandas/core/series.py\u001b[0m in \u001b[0;36m__init__\u001b[0;34m(self, data, index, dtype, name, copy, fastpath)\u001b[0m\n\u001b[1;32m    437\u001b[0m                     \u001b[0mdata\u001b[0m \u001b[0;34m=\u001b[0m \u001b[0mdata\u001b[0m\u001b[0;34m.\u001b[0m\u001b[0mcopy\u001b[0m\u001b[0;34m(\u001b[0m\u001b[0;34m)\u001b[0m\u001b[0;34m\u001b[0m\u001b[0;34m\u001b[0m\u001b[0m\n\u001b[1;32m    438\u001b[0m             \u001b[0;32melse\u001b[0m\u001b[0;34m:\u001b[0m\u001b[0;34m\u001b[0m\u001b[0;34m\u001b[0m\u001b[0m\n\u001b[0;32m--> 439\u001b[0;31m                 \u001b[0mdata\u001b[0m \u001b[0;34m=\u001b[0m \u001b[0msanitize_array\u001b[0m\u001b[0;34m(\u001b[0m\u001b[0mdata\u001b[0m\u001b[0;34m,\u001b[0m \u001b[0mindex\u001b[0m\u001b[0;34m,\u001b[0m \u001b[0mdtype\u001b[0m\u001b[0;34m,\u001b[0m \u001b[0mcopy\u001b[0m\u001b[0;34m)\u001b[0m\u001b[0;34m\u001b[0m\u001b[0;34m\u001b[0m\u001b[0m\n\u001b[0m\u001b[1;32m    440\u001b[0m \u001b[0;34m\u001b[0m\u001b[0m\n\u001b[1;32m    441\u001b[0m                 \u001b[0mmanager\u001b[0m \u001b[0;34m=\u001b[0m \u001b[0mget_option\u001b[0m\u001b[0;34m(\u001b[0m\u001b[0;34m\"mode.data_manager\"\u001b[0m\u001b[0;34m)\u001b[0m\u001b[0;34m\u001b[0m\u001b[0;34m\u001b[0m\u001b[0m\n",
      "\u001b[0;32m~/anaconda3/lib/python3.8/site-packages/pandas/core/construction.py\u001b[0m in \u001b[0;36msanitize_array\u001b[0;34m(data, index, dtype, copy, raise_cast_failure, allow_2d)\u001b[0m\n\u001b[1;32m    574\u001b[0m                 \u001b[0msubarr\u001b[0m \u001b[0;34m=\u001b[0m \u001b[0mmaybe_infer_to_datetimelike\u001b[0m\u001b[0;34m(\u001b[0m\u001b[0msubarr\u001b[0m\u001b[0;34m)\u001b[0m\u001b[0;34m\u001b[0m\u001b[0;34m\u001b[0m\u001b[0m\n\u001b[1;32m    575\u001b[0m \u001b[0;34m\u001b[0m\u001b[0m\n\u001b[0;32m--> 576\u001b[0;31m     \u001b[0msubarr\u001b[0m \u001b[0;34m=\u001b[0m \u001b[0m_sanitize_ndim\u001b[0m\u001b[0;34m(\u001b[0m\u001b[0msubarr\u001b[0m\u001b[0;34m,\u001b[0m \u001b[0mdata\u001b[0m\u001b[0;34m,\u001b[0m \u001b[0mdtype\u001b[0m\u001b[0;34m,\u001b[0m \u001b[0mindex\u001b[0m\u001b[0;34m,\u001b[0m \u001b[0mallow_2d\u001b[0m\u001b[0;34m=\u001b[0m\u001b[0mallow_2d\u001b[0m\u001b[0;34m)\u001b[0m\u001b[0;34m\u001b[0m\u001b[0;34m\u001b[0m\u001b[0m\n\u001b[0m\u001b[1;32m    577\u001b[0m \u001b[0;34m\u001b[0m\u001b[0m\n\u001b[1;32m    578\u001b[0m     \u001b[0;32mif\u001b[0m \u001b[0misinstance\u001b[0m\u001b[0;34m(\u001b[0m\u001b[0msubarr\u001b[0m\u001b[0;34m,\u001b[0m \u001b[0mnp\u001b[0m\u001b[0;34m.\u001b[0m\u001b[0mndarray\u001b[0m\u001b[0;34m)\u001b[0m\u001b[0;34m:\u001b[0m\u001b[0;34m\u001b[0m\u001b[0;34m\u001b[0m\u001b[0m\n",
      "\u001b[0;32m~/anaconda3/lib/python3.8/site-packages/pandas/core/construction.py\u001b[0m in \u001b[0;36m_sanitize_ndim\u001b[0;34m(result, data, dtype, index, allow_2d)\u001b[0m\n\u001b[1;32m    625\u001b[0m             \u001b[0;32mif\u001b[0m \u001b[0mallow_2d\u001b[0m\u001b[0;34m:\u001b[0m\u001b[0;34m\u001b[0m\u001b[0;34m\u001b[0m\u001b[0m\n\u001b[1;32m    626\u001b[0m                 \u001b[0;32mreturn\u001b[0m \u001b[0mresult\u001b[0m\u001b[0;34m\u001b[0m\u001b[0;34m\u001b[0m\u001b[0m\n\u001b[0;32m--> 627\u001b[0;31m             \u001b[0;32mraise\u001b[0m \u001b[0mValueError\u001b[0m\u001b[0;34m(\u001b[0m\u001b[0;34m\"Data must be 1-dimensional\"\u001b[0m\u001b[0;34m)\u001b[0m\u001b[0;34m\u001b[0m\u001b[0;34m\u001b[0m\u001b[0m\n\u001b[0m\u001b[1;32m    628\u001b[0m         \u001b[0;32mif\u001b[0m \u001b[0mis_object_dtype\u001b[0m\u001b[0;34m(\u001b[0m\u001b[0mdtype\u001b[0m\u001b[0;34m)\u001b[0m \u001b[0;32mand\u001b[0m \u001b[0misinstance\u001b[0m\u001b[0;34m(\u001b[0m\u001b[0mdtype\u001b[0m\u001b[0;34m,\u001b[0m \u001b[0mExtensionDtype\u001b[0m\u001b[0;34m)\u001b[0m\u001b[0;34m:\u001b[0m\u001b[0;34m\u001b[0m\u001b[0;34m\u001b[0m\u001b[0m\n\u001b[1;32m    629\u001b[0m             \u001b[0;31m# i.e. PandasDtype(\"O\")\u001b[0m\u001b[0;34m\u001b[0m\u001b[0;34m\u001b[0m\u001b[0;34m\u001b[0m\u001b[0m\n",
      "\u001b[0;31mValueError\u001b[0m: Data must be 1-dimensional"
     ]
    }
   ],
   "source": [
    "import lightgbm as lgb\n",
    "import numpy as np\n",
    "from sklearn.model_selection import train_test_split\n",
    "\n",
    "# Assuming you have your data and target variable (Y_train_numerical) ready\n",
    "#X_train, X_valid, Y_train, Y_valid = train_test_split(X, Y_train_numerical, test_size=0.2, random_state=42)\n",
    "\n",
    "# Define the custom loss function\n",
    "def custom_loss(y_true, y_pred, X):\n",
    "    # Extract the 'runs_scored' column from X_train\n",
    "    runs_scored = X.runs_scored\n",
    "    \n",
    "    # Enforce the constraint that y_pred >= runs_scored\n",
    "    constraint_penalty = np.maximum(runs_scored - y_pred, 0)  # Penalize when y_pred < runs_scored\n",
    "    \n",
    "    # Calculate the mean absolute error\n",
    "    error = np.abs(y_true - y_pred)\n",
    "    \n",
    "    return np.mean(error + constraint_penalty)\n",
    "\n",
    "# Create LightGBM dataset\n",
    "train_data = lgb.Dataset(X_train, label=Y_train_numerical)\n",
    "\n",
    "# Define hyperparameters\n",
    "params = {\n",
    "    'objective': 'regression',  # Regression task\n",
    "    'metric': 'None',            # Set metric to 'None' when using a custom loss function\n",
    "    'boosting_type': 'gbdt',     # Gradient Boosting Decision Tree\n",
    "    'num_leaves': 31,            # Maximum number of leaves in one tree\n",
    "    'learning_rate': 0.05,       # Learning rate (you can tune this)\n",
    "    'feature_fraction': 0.9,     # Fraction of features to use in each iteration\n",
    "    'bagging_fraction': 0.2,     # Fraction of data to use in each iteration\n",
    "    'bagging_freq': 5,           # Frequency for bagging\n",
    "    'verbose': -1                # No output during training\n",
    "}\n",
    "\n",
    "# Train the LightGBM model with custom loss function\n",
    "num_round = 100  # Number of boosting rounds (you can tune this)\n",
    "bst = lgb.train(params, train_data, num_round, fobj=lambda preds, train_data: custom_loss(Y_train_numerical.values, preds, X_train))\n",
    "\n",
    "# Make predictions (you can replace X_valid with your test data)\n",
    "Y_pred = bst.predict(X_test, num_iteration=bst.best_iteration)\n",
    "\n",
    "# Evaluate the model with your custom loss function\n",
    "final_loss = custom_loss(Y_test_numerical, Y_pred, X_test)\n",
    "print(f\"Final Custom Loss: {final_loss}\")\n"
   ]
  },
  {
   "cell_type": "code",
   "execution_count": 82,
   "id": "9270d03a",
   "metadata": {
    "scrolled": true
   },
   "outputs": [],
   "source": [
    "import lightgbm as lgb\n",
    "\n",
    "# Create a LightGBM dataset for training\n",
    "train_data = lgb.Dataset(X_train, label=Y_train_numerical)\n",
    "\n",
    "# Define hyperparameters\n",
    "params = {\n",
    "    'objective': 'regression',  # Regression task\n",
    "    'metric': 'mse',           # MAE as the evaluation metric\n",
    "    'boosting_type': 'gbdt',    # Gradient Boosting Decision Tree\n",
    "    'num_leaves': 7,           # Maximum number of leaves in one tree\n",
    "    'learning_rate': 0.2,     # Learning rate (you can tune this)\n",
    "    'feature_fraction': 1,   # Fraction of features to use in each iteration\n",
    "    #'bagging_fraction': 0.75,   # Fraction of data to use in each iteration\n",
    "    'bagging_freq': 5,         # Frequency for bagging\n",
    "    'verbose': -1               # No output during training\n",
    "}\n",
    "\n",
    "# Train the LightGBM model\n",
    "num_round = int(15*2)  # Number of boosting rounds (you can tune this)\n",
    "bst = lgb.train(params, train_data, num_round)\n",
    "\n",
    "# Now, you have a trained LightGBM regression model in 'bst'\n"
   ]
  },
  {
   "cell_type": "code",
   "execution_count": 69,
   "id": "99010b36",
   "metadata": {},
   "outputs": [
    {
     "data": {
      "text/plain": [
       "<lightgbm.basic.Booster at 0x7f82983383d0>"
      ]
     },
     "execution_count": 69,
     "metadata": {},
     "output_type": "execute_result"
    }
   ],
   "source": [
    "bst"
   ]
  },
  {
   "cell_type": "markdown",
   "id": "c2be133a",
   "metadata": {},
   "source": [
    "#### notes ::\n",
    "1. learning_rate increase <-> overfitting increase\n",
    "2. mse to mae <-> not much difference\n",
    "3. feature_fraction <-> not much difference\n",
    "4. bagging_fraction <-> not much difference\n",
    "5. num_round increase <-> overfitting increase\n",
    "6. bagging_freq <-> not much difference"
   ]
  },
  {
   "cell_type": "markdown",
   "id": "c2e0f4b4",
   "metadata": {},
   "source": [
    "### visualizing performances by LGBM"
   ]
  },
  {
   "cell_type": "code",
   "execution_count": 83,
   "id": "a3de9c55",
   "metadata": {},
   "outputs": [
    {
     "name": "stdout",
     "output_type": "stream",
     "text": [
      "                           Metric  Training    Testing\n",
      "0  Root Mean Squared Error (RMSE)  3.136897   3.976321\n",
      "1       Mean Absolute Error (MAE)  6.865948  13.044998\n",
      "2                  R-squared (R2)  0.790223   0.365612\n",
      "3              Adjusted R-squared  0.789807   0.358148\n"
     ]
    }
   ],
   "source": [
    "#import lightgbm as lgb\n",
    "from sklearn.metrics import mean_squared_error, mean_absolute_error, r2_score\n",
    "#import pandas as pd\n",
    "\n",
    "# Assuming you already have 'bst' as the trained LightGBM model\n",
    "\n",
    "# Predict on the train, test set\n",
    "y_pred_train = bst.predict(X_train)\n",
    "y_pred_test = bst.predict(X_test)\n",
    "\n",
    "# Calculate performance metrics\n",
    "rmse_train = mean_squared_error(Y_train_numerical, y_pred_train, squared=False)  # MSE on training set\n",
    "rmse_test = mean_squared_error(Y_test_numerical, y_pred_test, squared=False)  # MSE on testing set\n",
    "mae_train = mean_absolute_error(Y_train_numerical, y_pred_train)  # MAE on training set\n",
    "mae_test = mean_absolute_error(Y_test_numerical, y_pred_test)  # MAE on testing set\n",
    "r2_test = r2_score(Y_test_numerical, y_pred_test) # R2 on testing set\n",
    "r2_train = r2_score(Y_train_numerical, y_pred_train) #R2 on training set\n",
    "\n",
    "# Calculate adjusted R2\n",
    "n_test = len(Y_test_numerical)\n",
    "p_test = X_test.shape[1]  # Number of features\n",
    "adjusted_r2_test = 1 - (1 - r2_test) * ((n_test - 1) / (n_test - p_test - 1))\n",
    "\n",
    "n_train = len(Y_train_numerical)\n",
    "p_train = X_train.shape[1]  # Number of features\n",
    "adjusted_r2_train = 1 - (1 - r2_train) * ((n_train - 1) / (n_train - p_train - 1))\n",
    "\n",
    "\n",
    "# Create a DataFrame for the comparison table\n",
    "results = pd.DataFrame({'Metric': ['Root Mean Squared Error (RMSE)', 'Mean Absolute Error (MAE)', 'R-squared (R2)', 'Adjusted R-squared'],\n",
    "                        'Training': [rmse_train**0.5, mae_train, r2_train, adjusted_r2_train],\n",
    "                        'Testing': [rmse_test**0.5, mae_test, r2_test, adjusted_r2_test]})\n",
    "\n",
    "# Print the comparison table\n",
    "print(results)\n"
   ]
  },
  {
   "cell_type": "code",
   "execution_count": null,
   "id": "7b95821c",
   "metadata": {},
   "outputs": [],
   "source": []
  },
  {
   "cell_type": "markdown",
   "id": "98ab0146",
   "metadata": {},
   "source": [
    "### cross-validation scores"
   ]
  },
  {
   "cell_type": "code",
   "execution_count": 35,
   "id": "1e1eae2a",
   "metadata": {
    "scrolled": true
   },
   "outputs": [
    {
     "name": "stdout",
     "output_type": "stream",
     "text": [
      "Cross-Validation Scores (MSE):\n",
      "[350.01339764 367.85591282 340.00108821 384.42971208 466.19433357]\n",
      "Mean MSE: 381.6988888628501\n",
      "Standard Deviation MSE: -44.9026558037606\n"
     ]
    }
   ],
   "source": [
    "import lightgbm as lgb\n",
    "import numpy as np\n",
    "from sklearn.model_selection import cross_val_score\n",
    "from lightgbm.sklearn import LGBMRegressor\n",
    "\n",
    "# Assuming you have 'bst' as the trained LightGBM model (Booster)\n",
    "\n",
    "# Convert the trained LightGBM Booster to a scikit-learn compatible LGBMRegressor\n",
    "lgbm_regressor = LGBMRegressor()\n",
    "\n",
    "# Perform cross-validation using the LGBMRegressor wrapper\n",
    "# You can specify the number of folds (cv parameter) as needed\n",
    "num_folds = 5  # Adjust this as desired\n",
    "\n",
    "# Perform cross-validation\n",
    "cv_scores = cross_val_score(lgbm_regressor, X_train, Y_train_numerical, cv=num_folds, scoring='neg_mean_squared_error')\n",
    "\n",
    "# Calculate the mean and standard deviation of the cross-validation scores\n",
    "mean_cv_score = np.mean(cv_scores)\n",
    "std_cv_score = np.std(cv_scores)\n",
    "\n",
    "# Convert the scores back to positive MSE\n",
    "cv_scores = -cv_scores\n",
    "mean_cv_score = -mean_cv_score\n",
    "std_cv_score = -std_cv_score\n",
    "\n",
    "# Print the cross-validation scores\n",
    "print(\"Cross-Validation Scores (MSE):\")\n",
    "print(cv_scores)\n",
    "print(f\"Mean MSE: {mean_cv_score}\")\n",
    "print(f\"Standard Deviation MSE: {std_cv_score}\")\n"
   ]
  },
  {
   "cell_type": "markdown",
   "id": "8ce82b27",
   "metadata": {},
   "source": [
    "### Gridsearch"
   ]
  },
  {
   "cell_type": "code",
   "execution_count": 49,
   "id": "4b6477e8",
   "metadata": {},
   "outputs": [
    {
     "name": "stdout",
     "output_type": "stream",
     "text": [
      "Best Hyperparameters: {'colsample_bytree': 0.75, 'learning_rate': 0.05, 'max_depth': 5, 'min_child_samples': 10, 'num_leaves': 25, 'subsample': 0.8}\n",
      "[LightGBM] [Warning] Auto-choosing row-wise multi-threading, the overhead of testing was 0.002882 seconds.\n",
      "You can set `force_row_wise=true` to remove the overhead.\n",
      "And if memory is not enough, you can set `force_col_wise=true`.\n",
      "[LightGBM] [Info] Total Bins 1742\n",
      "[LightGBM] [Info] Number of data points in the train set: 107408, number of used features: 21\n",
      "[LightGBM] [Info] Start training from score 166.739433\n",
      "MAE on Train Set: 12.715960621608804\n",
      "MAE on Test Set: 16.154722242230257\n"
     ]
    }
   ],
   "source": [
    "import lightgbm as lgb\n",
    "from sklearn.model_selection import GridSearchCV\n",
    "from sklearn.metrics import mean_absolute_error\n",
    "\n",
    "# Create LightGBM datasets for training and testing\n",
    "train_data = lgb.Dataset(X_train, label=Y_train_numerical)\n",
    "test_data = lgb.Dataset(X_test, label=Y_test_numerical, reference=train_data)\n",
    "\n",
    "# Define the parameter grid for grid search\n",
    "param_grid = {\n",
    "    'num_leaves': [15, 20, 25, 35],          # Maximum number of leaves in one tree\n",
    "    'learning_rate': [0.01, 0.05, 0.1],  # Learning rate\n",
    "   # 'feature_fraction': [0.7, 0.8, 0.9],  # Fraction of features to use in each iteration\n",
    "   # 'bagging_fraction': [0.7, 0.8, 0.9],  # Fraction of data to use in each iteration\n",
    "   # 'bagging_freq': [3, 5, 7],            # Frequency for bagging\n",
    "    'max_depth': [5, 10, 12],            # Maximum depth of the tree (-1 means no limit)\n",
    "   # 'min_data_in_leaf': [15, 20, 35],       # Minimum number of data points in a leaf\n",
    "   # 'lambda_l1': [0, 1, 5],                  # L1 regularization term on weights\n",
    "   # 'lambda_l2': [0, 1, 5],                  # L2 regularization term on weights\n",
    "   # 'min_gain_to_split': [0, 0.1, 0.2],      # Minimum gain to perform a split\n",
    "    'min_child_samples': [5, 10, 20],        # Minimum number of data points in a child (alias for min_data_in_leaf)\n",
    "    'subsample': [0.8, 0.9, 1.0],            # Subsample ratio of the training instances\n",
    "    'colsample_bytree': [0.75, 0.875, 1.0]\n",
    "\n",
    "}\n",
    "\n",
    "# Create the LightGBM model\n",
    "lgb_model = lgb.LGBMRegressor(objective='regression', metric='mae', boosting_type='gbdt', verbose=-1)\n",
    "\n",
    "# Create GridSearchCV object\n",
    "grid_search = GridSearchCV(lgb_model, param_grid, scoring='neg_mean_absolute_error', cv=3)\n",
    "\n",
    "# Perform grid search\n",
    "grid_search.fit(X_train, Y_train_numerical)\n",
    "\n",
    "# Get the best parameters and best estimator\n",
    "best_params = grid_search.best_params_\n",
    "best_estimator = grid_search.best_estimator_\n",
    "\n",
    "print(\"Best Hyperparameters:\", best_params)\n",
    "\n",
    "# Train the final model with the best parameters on the entire training set\n",
    "final_model = lgb.train(best_params, train_data, num_boost_round=100)\n",
    "\n",
    "# Make predictions on the train set\n",
    "y_pred_train = final_model.predict(X_train)\n",
    "\n",
    "# Evaluate the model on the train set\n",
    "mae_train = mean_absolute_error(Y_train_numerical, y_pred_train)\n",
    "print(\"MAE on Train Set:\", mae_train)\n",
    "\n",
    "# Make predictions on the test set\n",
    "y_pred_test = final_model.predict(X_test)\n",
    "\n",
    "# Evaluate the model on the test set\n",
    "mae_test = mean_absolute_error(Y_test_numerical, y_pred_test)\n",
    "print(\"MAE on Test Set:\", mae_test)\n"
   ]
  },
  {
   "cell_type": "code",
   "execution_count": null,
   "id": "642f2ad2",
   "metadata": {},
   "outputs": [],
   "source": []
  },
  {
   "cell_type": "code",
   "execution_count": null,
   "id": "65a36132",
   "metadata": {},
   "outputs": [],
   "source": []
  },
  {
   "cell_type": "code",
   "execution_count": null,
   "id": "f2ccd37b",
   "metadata": {},
   "outputs": [],
   "source": []
  },
  {
   "cell_type": "code",
   "execution_count": 51,
   "id": "cf19266e",
   "metadata": {},
   "outputs": [
    {
     "data": {
      "text/html": [
       "<div>\n",
       "<style scoped>\n",
       "    .dataframe tbody tr th:only-of-type {\n",
       "        vertical-align: middle;\n",
       "    }\n",
       "\n",
       "    .dataframe tbody tr th {\n",
       "        vertical-align: top;\n",
       "    }\n",
       "\n",
       "    .dataframe thead th {\n",
       "        text-align: right;\n",
       "    }\n",
       "</style>\n",
       "<table border=\"1\" class=\"dataframe\">\n",
       "  <thead>\n",
       "    <tr style=\"text-align: right;\">\n",
       "      <th></th>\n",
       "      <th>year</th>\n",
       "      <th>wickets_down</th>\n",
       "      <th>striker_batting_position</th>\n",
       "      <th>non_striker_batting_position</th>\n",
       "      <th>bowler_wkts</th>\n",
       "      <th>runs_scored</th>\n",
       "      <th>run_rate</th>\n",
       "      <th>last_fow</th>\n",
       "      <th>striker_runs</th>\n",
       "      <th>striker_balls</th>\n",
       "      <th>non_striker_runs</th>\n",
       "      <th>non_striker_balls</th>\n",
       "      <th>bowler_balls</th>\n",
       "      <th>bowler_runs</th>\n",
       "      <th>last_fow_run_rate</th>\n",
       "      <th>fours</th>\n",
       "      <th>sixes</th>\n",
       "      <th>last_18_legal_balls_run_rate</th>\n",
       "      <th>last_18_legal_balls_wickets</th>\n",
       "      <th>last_18_legal_balls_4s</th>\n",
       "      <th>last_18_legal_balls_6s</th>\n",
       "      <th>0</th>\n",
       "    </tr>\n",
       "  </thead>\n",
       "  <tbody>\n",
       "    <tr>\n",
       "      <th>0</th>\n",
       "      <td>2024</td>\n",
       "      <td>6</td>\n",
       "      <td>7</td>\n",
       "      <td>8</td>\n",
       "      <td>0</td>\n",
       "      <td>204</td>\n",
       "      <td>10.551724</td>\n",
       "      <td>178.0</td>\n",
       "      <td>12</td>\n",
       "      <td>6</td>\n",
       "      <td>12</td>\n",
       "      <td>7</td>\n",
       "      <td>8</td>\n",
       "      <td>20.0</td>\n",
       "      <td>10.368932</td>\n",
       "      <td>15</td>\n",
       "      <td>13</td>\n",
       "      <td>11.333333</td>\n",
       "      <td>3.0</td>\n",
       "      <td>3.0</td>\n",
       "      <td>2.0</td>\n",
       "      <td>213.313775</td>\n",
       "    </tr>\n",
       "    <tr>\n",
       "      <th>1</th>\n",
       "      <td>2024</td>\n",
       "      <td>6</td>\n",
       "      <td>7</td>\n",
       "      <td>8</td>\n",
       "      <td>0</td>\n",
       "      <td>210</td>\n",
       "      <td>10.769231</td>\n",
       "      <td>178.0</td>\n",
       "      <td>18</td>\n",
       "      <td>7</td>\n",
       "      <td>12</td>\n",
       "      <td>7</td>\n",
       "      <td>9</td>\n",
       "      <td>26.0</td>\n",
       "      <td>10.368932</td>\n",
       "      <td>15</td>\n",
       "      <td>14</td>\n",
       "      <td>12.000000</td>\n",
       "      <td>3.0</td>\n",
       "      <td>2.0</td>\n",
       "      <td>3.0</td>\n",
       "      <td>216.905157</td>\n",
       "    </tr>\n",
       "    <tr>\n",
       "      <th>2</th>\n",
       "      <td>2024</td>\n",
       "      <td>6</td>\n",
       "      <td>7</td>\n",
       "      <td>8</td>\n",
       "      <td>0</td>\n",
       "      <td>214</td>\n",
       "      <td>10.881356</td>\n",
       "      <td>178.0</td>\n",
       "      <td>22</td>\n",
       "      <td>8</td>\n",
       "      <td>12</td>\n",
       "      <td>7</td>\n",
       "      <td>10</td>\n",
       "      <td>30.0</td>\n",
       "      <td>10.368932</td>\n",
       "      <td>16</td>\n",
       "      <td>14</td>\n",
       "      <td>12.000000</td>\n",
       "      <td>3.0</td>\n",
       "      <td>2.0</td>\n",
       "      <td>3.0</td>\n",
       "      <td>216.905157</td>\n",
       "    </tr>\n",
       "    <tr>\n",
       "      <th>3</th>\n",
       "      <td>2024</td>\n",
       "      <td>6</td>\n",
       "      <td>7</td>\n",
       "      <td>8</td>\n",
       "      <td>0</td>\n",
       "      <td>214</td>\n",
       "      <td>10.789916</td>\n",
       "      <td>178.0</td>\n",
       "      <td>22</td>\n",
       "      <td>9</td>\n",
       "      <td>12</td>\n",
       "      <td>7</td>\n",
       "      <td>11</td>\n",
       "      <td>30.0</td>\n",
       "      <td>10.368932</td>\n",
       "      <td>16</td>\n",
       "      <td>14</td>\n",
       "      <td>12.000000</td>\n",
       "      <td>2.0</td>\n",
       "      <td>2.0</td>\n",
       "      <td>3.0</td>\n",
       "      <td>216.975415</td>\n",
       "    </tr>\n",
       "    <tr>\n",
       "      <th>4</th>\n",
       "      <td>2024</td>\n",
       "      <td>6</td>\n",
       "      <td>7</td>\n",
       "      <td>8</td>\n",
       "      <td>0</td>\n",
       "      <td>214</td>\n",
       "      <td>10.700000</td>\n",
       "      <td>178.0</td>\n",
       "      <td>22</td>\n",
       "      <td>10</td>\n",
       "      <td>12</td>\n",
       "      <td>7</td>\n",
       "      <td>12</td>\n",
       "      <td>30.0</td>\n",
       "      <td>10.368932</td>\n",
       "      <td>16</td>\n",
       "      <td>14</td>\n",
       "      <td>12.000000</td>\n",
       "      <td>1.0</td>\n",
       "      <td>2.0</td>\n",
       "      <td>3.0</td>\n",
       "      <td>214.857647</td>\n",
       "    </tr>\n",
       "  </tbody>\n",
       "</table>\n",
       "</div>"
      ],
      "text/plain": [
       "   year  wickets_down  striker_batting_position  non_striker_batting_position  \\\n",
       "0  2024             6                         7                             8   \n",
       "1  2024             6                         7                             8   \n",
       "2  2024             6                         7                             8   \n",
       "3  2024             6                         7                             8   \n",
       "4  2024             6                         7                             8   \n",
       "\n",
       "   bowler_wkts  runs_scored   run_rate  last_fow  striker_runs  striker_balls  \\\n",
       "0            0          204  10.551724     178.0            12              6   \n",
       "1            0          210  10.769231     178.0            18              7   \n",
       "2            0          214  10.881356     178.0            22              8   \n",
       "3            0          214  10.789916     178.0            22              9   \n",
       "4            0          214  10.700000     178.0            22             10   \n",
       "\n",
       "   non_striker_runs  non_striker_balls  bowler_balls  bowler_runs  \\\n",
       "0                12                  7             8         20.0   \n",
       "1                12                  7             9         26.0   \n",
       "2                12                  7            10         30.0   \n",
       "3                12                  7            11         30.0   \n",
       "4                12                  7            12         30.0   \n",
       "\n",
       "   last_fow_run_rate  fours  sixes  last_18_legal_balls_run_rate  \\\n",
       "0          10.368932     15     13                     11.333333   \n",
       "1          10.368932     15     14                     12.000000   \n",
       "2          10.368932     16     14                     12.000000   \n",
       "3          10.368932     16     14                     12.000000   \n",
       "4          10.368932     16     14                     12.000000   \n",
       "\n",
       "   last_18_legal_balls_wickets  last_18_legal_balls_4s  \\\n",
       "0                          3.0                     3.0   \n",
       "1                          3.0                     2.0   \n",
       "2                          3.0                     2.0   \n",
       "3                          2.0                     2.0   \n",
       "4                          1.0                     2.0   \n",
       "\n",
       "   last_18_legal_balls_6s           0  \n",
       "0                     2.0  213.313775  \n",
       "1                     3.0  216.905157  \n",
       "2                     3.0  216.905157  \n",
       "3                     3.0  216.975415  \n",
       "4                     3.0  214.857647  "
      ]
     },
     "execution_count": 51,
     "metadata": {},
     "output_type": "execute_result"
    }
   ],
   "source": [
    "pd.concat([X_test.tail().reset_index(drop=True), pd.Series(final_model.predict(X_test.tail()))], axis=1)"
   ]
  },
  {
   "cell_type": "markdown",
   "id": "d0f9d6ec",
   "metadata": {},
   "source": [
    "### Feature importance"
   ]
  },
  {
   "cell_type": "code",
   "execution_count": 53,
   "id": "40ea609b",
   "metadata": {},
   "outputs": [
    {
     "data": {
      "image/png": "[encoded data removed]",
      "text/plain": [
       "<Figure size 720x432 with 1 Axes>"
      ]
     },
     "metadata": {
      "needs_background": "light"
     },
     "output_type": "display_data"
    }
   ],
   "source": [
    "import lightgbm as lgb\n",
    "import matplotlib.pyplot as plt\n",
    "import seaborn as sns\n",
    "\n",
    "# Assuming you have 'final_model' as the trained LightGBM model\n",
    "\n",
    "# Create a feature importance plot\n",
    "lgb.plotting.plot_importance(final_model,  figsize=(10, 6))\n",
    "plt.title(\"Feature Importance\")\n",
    "plt.show()\n"
   ]
  },
  {
   "cell_type": "code",
   "execution_count": 54,
   "id": "29880159",
   "metadata": {},
   "outputs": [
    {
     "data": {
      "text/plain": [
       "count    3144.000000\n",
       "mean        6.730307\n",
       "std         3.345799\n",
       "min        -1.000000\n",
       "25%         5.016393\n",
       "50%         7.000000\n",
       "75%         8.705882\n",
       "max        14.636364\n",
       "Name: last_fow_run_rate, dtype: float64"
      ]
     },
     "execution_count": 54,
     "metadata": {},
     "output_type": "execute_result"
    }
   ],
   "source": [
    "X_test.last_fow_run_rate.describe()"
   ]
  },
  {
   "cell_type": "markdown",
   "id": "61be0923",
   "metadata": {},
   "source": [
    "### prediction using LGB classifier"
   ]
  },
  {
   "cell_type": "code",
   "execution_count": null,
   "id": "636391a4",
   "metadata": {},
   "outputs": [],
   "source": [
    "# score :: 2023, 5, 7, 5, 231,222, 6.2432, 223, 8,  4, 42, 6.3412, 24, 5, 5.2, 1, 0,0"
   ]
  },
  {
   "cell_type": "code",
   "execution_count": null,
   "id": "315cd8cc",
   "metadata": {},
   "outputs": [],
   "source": [
    "#year_encoder = LabelEncoder().fit(X_train_categorical['year'])\n",
    "print(year_encoder.transform([2023]))\n",
    "print(wickets_down_encoder.transform([5]))\n",
    "print(striker_batting_position_encoder.transform([7]))\n",
    "print(non_striker_batting_position_encoder.transform([5]))\n",
    "\n",
    "\n",
    "#'wickets_down', 'striker_batting_position',\n",
    "#       'non_striker_batting_position', 'runs_scored', 'legal_balls_bowled',\n",
    "#       'run_rate', 'last_fow', 'partnership_runs', 'striker_runs',\n",
    "#       'non_striker_runs', 'last_fow_run_rate', 'last_30_legal_balls_run_rate',\n",
    "#'last_30_legal_balls_wickets'\n",
    "\n"
   ]
  },
  {
   "cell_type": "code",
   "execution_count": null,
   "id": "99b3948a",
   "metadata": {},
   "outputs": [],
   "source": [
    "to_be_predicted = np.array([21, 5, 6, 4, 231,222, 6.2432, 223, 8,  4, 42, 6.3412, 24, 5, 5.2, 1, 0,0]).reshape(1,-1)\n",
    "\n",
    "Y_encoder.inverse_transform(lgbm_classifier.predict(to_be_predicted))\n",
    "\n",
    "print(lgbm_classifier.predict_proba(to_be_predicted))"
   ]
  },
  {
   "cell_type": "code",
   "execution_count": null,
   "id": "5319cf8c",
   "metadata": {},
   "outputs": [],
   "source": []
  },
  {
   "cell_type": "markdown",
   "id": "f4953155",
   "metadata": {},
   "source": [
    "### training an CATBoost model on Y_train_numerical"
   ]
  },
  {
   "cell_type": "code",
   "execution_count": 38,
   "id": "b8d77d2b",
   "metadata": {},
   "outputs": [
    {
     "data": {
      "text/plain": [
       "Index(['year', 'wickets_down', 'striker_batting_position',\n",
       "       'non_striker_batting_position', 'bowler_wkts', 'runs_scored',\n",
       "       'run_rate', 'last_fow', 'striker_runs', 'striker_balls',\n",
       "       'non_striker_runs', 'non_striker_balls', 'bowler_balls', 'bowler_runs',\n",
       "       'last_fow_run_rate', 'fours', 'sixes', 'last_18_legal_balls_run_rate',\n",
       "       'last_18_legal_balls_wickets', 'last_18_legal_balls_4s',\n",
       "       'last_18_legal_balls_6s'],\n",
       "      dtype='object')"
      ]
     },
     "execution_count": 38,
     "metadata": {},
     "output_type": "execute_result"
    }
   ],
   "source": [
    "X_train.columns"
   ]
  },
  {
   "cell_type": "markdown",
   "id": "106b9ac9",
   "metadata": {
    "scrolled": true
   },
   "source": [
    "pip install catboost"
   ]
  },
  {
   "cell_type": "code",
   "execution_count": 40,
   "id": "a15dd95b",
   "metadata": {},
   "outputs": [
    {
     "ename": "ModuleNotFoundError",
     "evalue": "No module named 'catboost'",
     "output_type": "error",
     "traceback": [
      "\u001b[0;31m---------------------------------------------------------------------------\u001b[0m",
      "\u001b[0;31mModuleNotFoundError\u001b[0m                       Traceback (most recent call last)",
      "\u001b[0;32m/var/folders/68/nlclwstn1zd28pll4j60q7zw0000gn/T/ipykernel_5700/208794872.py\u001b[0m in \u001b[0;36m<module>\u001b[0;34m\u001b[0m\n\u001b[0;32m----> 1\u001b[0;31m \u001b[0;32mfrom\u001b[0m \u001b[0mcatboost\u001b[0m \u001b[0;32mimport\u001b[0m \u001b[0mCatBoostRegressor\u001b[0m\u001b[0;34m\u001b[0m\u001b[0;34m\u001b[0m\u001b[0m\n\u001b[0m",
      "\u001b[0;31mModuleNotFoundError\u001b[0m: No module named 'catboost'"
     ]
    }
   ],
   "source": [
    "from catboost import CatBoostRegressor"
   ]
  },
  {
   "cell_type": "code",
   "execution_count": null,
   "id": "713133e3",
   "metadata": {
    "scrolled": true
   },
   "outputs": [],
   "source": [
    "from catboost import CatBoostRegressor\n",
    "from sklearn.model_selection import train_test_split\n",
    "from sklearn.metrics import mean_squared_error\n",
    "\n",
    "\n",
    "# Create a CatBoost Regressor\n",
    "catboost_regressor = CatBoostRegressor(iterations=500, depth=6, \n",
    "                                       #learning_rate=0.1, \n",
    "                                       loss_function='RMSE')\n",
    "\n",
    "# Train the model\n",
    "catboost_regressor.fit(X_train, y_train, eval_set=(X_test, y_test), early_stopping_rounds=50, verbose=100)\n",
    "\n",
    "# Make predictions on the test set\n",
    "y_pred = catboost_regressor.predict(X_test)\n",
    "\n",
    "# Calculate Mean Squared Error on the test set\n",
    "mse = mean_squared_error(y_test, y_pred)\n",
    "\n",
    "print(f\"Mean Squared Error on Test Set: {mse}\")\n"
   ]
  },
  {
   "cell_type": "code",
   "execution_count": 215,
   "id": "2e60ca35",
   "metadata": {
    "scrolled": true
   },
   "outputs": [],
   "source": [
    "import lightgbm as lgb\n",
    "\n",
    "# Create a LightGBM dataset for training\n",
    "train_data = lgb.Dataset(X_train, label=Y_train_numerical)\n",
    "\n",
    "# Define hyperparameters\n",
    "params = {\n",
    "    'objective': 'regression',  # Regression task\n",
    "    'metric': 'mae',           # MAE as the evaluation metric\n",
    "    'boosting_type': 'gbdt',    # Gradient Boosting Decision Tree\n",
    "    'num_leaves': 31,           # Maximum number of leaves in one tree\n",
    "    'learning_rate': 0.05,     # Learning rate (you can tune this)\n",
    "    'feature_fraction': 0.9,   # Fraction of features to use in each iteration\n",
    "    'bagging_fraction': 0.2,   # Fraction of data to use in each iteration\n",
    "    'bagging_freq': 5,         # Frequency for bagging\n",
    "    'verbose': -1               # No output during training\n",
    "}\n",
    "\n",
    "# Train the LightGBM model\n",
    "num_round = 100  # Number of boosting rounds (you can tune this)\n",
    "bst = lgb.train(params, train_data, num_round)\n",
    "\n",
    "# Now, you have a trained LightGBM regression model in 'bst'\n"
   ]
  },
  {
   "cell_type": "code",
   "execution_count": null,
   "id": "0b3c90ef",
   "metadata": {},
   "outputs": [],
   "source": []
  },
  {
   "cell_type": "markdown",
   "id": "1b4c1bdf",
   "metadata": {},
   "source": [
    "### training an LGBM model on Y_train_categorical"
   ]
  },
  {
   "cell_type": "code",
   "execution_count": null,
   "id": "f5d1b898",
   "metadata": {},
   "outputs": [],
   "source": [
    "from sklearn.preprocessing import LabelEncoder\n",
    "\n",
    "# Initialize the label encoder\n",
    "label_encoder = LabelEncoder()\n",
    "\n",
    "# Fit the encoder on the target labels and transform them\n",
    "Y_encoder = label_encoder.fit(Y_train_categorical)\n",
    "\n",
    "Y_train_categorical_encoded = Y_encoder.transform(Y_train_categorical)\n"
   ]
  },
  {
   "cell_type": "code",
   "execution_count": null,
   "id": "c2618b7f",
   "metadata": {
    "scrolled": true
   },
   "outputs": [],
   "source": [
    "import lightgbm as lgb\n",
    "\n",
    "# Create an LGBM classification model with specified hyperparameters\n",
    "lgbm_classifier = lgb.LGBMClassifier(\n",
    "    boosting_type='gbdt',     # Gradient Boosting Decision Tree\n",
    "    num_leaves=31,            # Maximum number of leaves in one tree\n",
    "    max_depth=7,             # Maximum tree depth (-1 means no limit)\n",
    "    learning_rate=0.05,        # Learning rate (step size during optimization)\n",
    "    colsample_bytree= 0.5,   # Fraction of features to consider when building each tree\n",
    "    #n_estimators=100,         # Number of boosting rounds (trees)\n",
    "    subsample_for_bin=200,  # Number of samples for constructing bins\n",
    "    objective='multiclass',   # Objective function for multiclass classification\n",
    "    num_class=len(np.unique(Y_train_categorical_encoded)),  # Number of classes\n",
    "    random_state=42           # Random seed for reproducibility\n",
    ")\n",
    "\n",
    "n_estimators=100,  # Number of boosting rounds (trees)\n",
    "\n",
    "# Train the LGBM classification model on the training data\n",
    "lgbm_classifier.fit(X_train, Y_train_categorical_encoded)\n"
   ]
  },
  {
   "cell_type": "markdown",
   "id": "4bcf2eab",
   "metadata": {},
   "source": [
    "#### notes ::\n",
    "1. subsample_for_bin decrease <-> less overfitting\n",
    "2. max_depth decrease <-> worse fit, but no overfitting either\n",
    "3. learning_rate increse <-> overfitting increases"
   ]
  },
  {
   "cell_type": "markdown",
   "id": "81e6732e",
   "metadata": {},
   "source": [
    "### visualizing performances by LGBM classifier"
   ]
  },
  {
   "cell_type": "code",
   "execution_count": null,
   "id": "b29cfdf7",
   "metadata": {},
   "outputs": [],
   "source": [
    "Y_test_categorical_encoded = Y_encoder.transform(Y_test_categorical)"
   ]
  },
  {
   "cell_type": "code",
   "execution_count": null,
   "id": "23281bf7",
   "metadata": {
    "scrolled": true
   },
   "outputs": [],
   "source": [
    "from sklearn.metrics import accuracy_score, classification_report, confusion_matrix\n",
    "\n",
    "# Assuming you have 'lgbm_classifier' as the trained LightGBM classifier\n",
    "\n",
    "# Predict on the test set\n",
    "y_pred_encoded = lgbm_classifier.predict(X_test)\n",
    "\n",
    "# Decode the integer-encoded predictions back to original class labels\n",
    "#y_pred = Y_encoder.inverse_transform(y_pred_encoded)\n",
    "\n",
    "# Create a classification report\n",
    "classification_rep = classification_report(Y_test_categorical_encoded, y_pred_encoded)\n",
    "\n",
    "# Create a confusion matrix\n",
    "confusion = confusion_matrix(Y_test_categorical_encoded, y_pred_encoded)\n",
    "\n",
    "# Print the results\n",
    "\n",
    "print(\"\\nClassification Report:\")\n",
    "print(classification_rep)\n",
    "print(\"\\nConfusion Matrix:\")\n",
    "print(confusion)\n"
   ]
  },
  {
   "cell_type": "code",
   "execution_count": null,
   "id": "cbf51562",
   "metadata": {},
   "outputs": [],
   "source": [
    "print(classification_report(Y_train_categorical_encoded, lgbm_classifier.predict(X_train)))\n"
   ]
  },
  {
   "cell_type": "code",
   "execution_count": null,
   "id": "753ebd05",
   "metadata": {},
   "outputs": [],
   "source": []
  },
  {
   "cell_type": "code",
   "execution_count": null,
   "id": "09246929",
   "metadata": {},
   "outputs": [],
   "source": []
  },
  {
   "cell_type": "markdown",
   "id": "71a564cd",
   "metadata": {},
   "source": [
    "### Feature importance"
   ]
  },
  {
   "cell_type": "code",
   "execution_count": null,
   "id": "b348154b",
   "metadata": {},
   "outputs": [],
   "source": [
    "import lightgbm as lgb\n",
    "import matplotlib.pyplot as plt\n",
    "\n",
    "# Assuming you have 'lgbm_classifier' as the trained LightGBM classifier\n",
    "\n",
    "# Create a feature importance plot\n",
    "lgb.plot_importance(lgbm_classifier, figsize=(10, 6))\n",
    "plt.title(\"Feature Importance\")\n",
    "plt.show()\n"
   ]
  },
  {
   "cell_type": "code",
   "execution_count": null,
   "id": "f5f7af2a",
   "metadata": {},
   "outputs": [],
   "source": [
    "X_test.columns"
   ]
  },
  {
   "cell_type": "markdown",
   "id": "e3727e68",
   "metadata": {},
   "source": [
    "### prediction using LGBM"
   ]
  },
  {
   "cell_type": "code",
   "execution_count": null,
   "id": "8a91531f",
   "metadata": {},
   "outputs": [],
   "source": [
    "# score :: 2023, 5, 7, 5, 231,222, 6.2432, 223, 8,  4, 42, 6.3412, 24, 5, 5.2, 1, 0,0"
   ]
  },
  {
   "cell_type": "code",
   "execution_count": null,
   "id": "bd2e00da",
   "metadata": {},
   "outputs": [],
   "source": [
    "#year_encoder = LabelEncoder().fit(X_train_categorical['year'])\n",
    "print(year_encoder.transform([2023]))\n",
    "print(wickets_down_encoder.transform([5]))\n",
    "print(striker_batting_position_encoder.transform([7]))\n",
    "print(non_striker_batting_position_encoder.transform([5]))\n",
    "\n",
    "\n",
    "#'wickets_down', 'striker_batting_position',\n",
    "#       'non_striker_batting_position', 'runs_scored', 'legal_balls_bowled',\n",
    "#       'run_rate', 'last_fow', 'partnership_runs', 'striker_runs',\n",
    "#       'non_striker_runs', 'last_fow_run_rate', 'last_30_legal_balls_run_rate',\n",
    "#'last_30_legal_balls_wickets'\n",
    "\n"
   ]
  },
  {
   "cell_type": "code",
   "execution_count": null,
   "id": "a9c1e2e8",
   "metadata": {},
   "outputs": [],
   "source": [
    "to_be_predicted = np.array([21, 5, 6, 4, 231,222, 6.2432, 223, 8,  4, 42, 6.3412, 24, 5, 5.2, 1, 0,0]).reshape(1,-1)\n",
    "\n",
    "bst.predict(to_be_predicted)\n",
    "\n"
   ]
  },
  {
   "cell_type": "code",
   "execution_count": null,
   "id": "75a303f6",
   "metadata": {},
   "outputs": [],
   "source": []
  },
  {
   "cell_type": "markdown",
   "id": "0c9af681",
   "metadata": {},
   "source": [
    "## saving the models and encoders"
   ]
  },
  {
   "cell_type": "code",
   "execution_count": 55,
   "id": "5d7f3cdb",
   "metadata": {},
   "outputs": [
    {
     "data": {
      "text/plain": [
       "['IPL_regression_model.pkl']"
      ]
     },
     "execution_count": 55,
     "metadata": {},
     "output_type": "execute_result"
    }
   ],
   "source": [
    "import joblib\n",
    "\n",
    "# Save the regression model 'bst' to a file\n",
    "joblib.dump(final_model, 'IPL_regression_model.pkl')\n",
    "\n",
    "# Save the classification model 'lgbm_classifier' to a file\n",
    "#joblib.dump(lgbm_classifier, 'IPL_classification_model.pkl')\n"
   ]
  },
  {
   "cell_type": "code",
   "execution_count": null,
   "id": "b5e6b908",
   "metadata": {},
   "outputs": [],
   "source": []
  },
  {
   "cell_type": "markdown",
   "id": "3e74dc92",
   "metadata": {},
   "source": [
    "# ------------------------------------------------------------------------------------------\n",
    "# EXPERIMENTATION\n",
    "# ------------------------------------------------------------------------------------------"
   ]
  },
  {
   "cell_type": "markdown",
   "id": "4ddf3f9e",
   "metadata": {},
   "source": [
    "## adding the predicted column by previous LGBM model, and training a new model"
   ]
  },
  {
   "cell_type": "code",
   "execution_count": null,
   "id": "b1b0e860",
   "metadata": {},
   "outputs": [],
   "source": [
    "X_train.shape, X_test.shape"
   ]
  },
  {
   "cell_type": "code",
   "execution_count": null,
   "id": "89def903",
   "metadata": {},
   "outputs": [],
   "source": [
    "X_train_mod = X_train.copy()\n",
    "X_test_mod = X_test.copy()"
   ]
  },
  {
   "cell_type": "code",
   "execution_count": null,
   "id": "5b397877",
   "metadata": {},
   "outputs": [],
   "source": [
    "X_train_mod['LGB_1_pred'] = bst.predict(X_train)\n",
    "X_test_mod['LGB_1_pred'] = bst.predict(X_test)"
   ]
  },
  {
   "cell_type": "code",
   "execution_count": null,
   "id": "e4ed6004",
   "metadata": {},
   "outputs": [],
   "source": [
    "X_train_mod.shape"
   ]
  },
  {
   "cell_type": "markdown",
   "id": "c3f7bff8",
   "metadata": {},
   "source": [
    "### training a Random Forest model"
   ]
  },
  {
   "cell_type": "code",
   "execution_count": null,
   "id": "6cb3e80e",
   "metadata": {
    "scrolled": false
   },
   "outputs": [],
   "source": [
    "from sklearn.ensemble import RandomForestRegressor\n",
    "\n",
    "# Create a Random Forest regression model with specified hyperparameters\n",
    "rf_model = RandomForestRegressor(\n",
    "    n_estimators=100,  # Number of trees in the forest\n",
    "    max_depth=None,    # Maximum depth of the trees (None means no maximum)\n",
    "    min_samples_split=2,  # Minimum number of samples required to split a node\n",
    "    min_samples_leaf=1,   # Minimum number of samples required at each leaf node\n",
    "    max_features='auto',  # Number of features to consider when splitting\n",
    "    random_state=42      # Random seed for reproducibility\n",
    ")\n",
    "\n",
    "# Train the Random Forest model on the training data\n",
    "rf_model.fit(X_train_mod, Y_train_numerical)\n"
   ]
  },
  {
   "cell_type": "markdown",
   "id": "c6324118",
   "metadata": {},
   "source": [
    "#### notes ::\n",
    "1. learning_rate increase <-> overfitting increase\n",
    "2. mse to mae <-> not much difference\n",
    "3. feature_fraction <-> not much difference\n",
    "4. bagging_fraction <-> not much difference\n",
    "5. num_round increase <-> overfitting increase\n",
    "6. bagging_freq <-> not much difference"
   ]
  },
  {
   "cell_type": "markdown",
   "id": "1742ef1a",
   "metadata": {},
   "source": [
    "### visualizing performances by RF"
   ]
  },
  {
   "cell_type": "code",
   "execution_count": null,
   "id": "8c8e629f",
   "metadata": {},
   "outputs": [],
   "source": [
    "from sklearn.metrics import mean_squared_error, mean_absolute_error, r2_score\n",
    "import numpy as np\n",
    "\n",
    "# Assuming you have 'rf_model' as the trained Random Forest model\n",
    "# Make predictions on the test set\n",
    "y_pred = rf_model.predict(X_test_mod)\n",
    "\n",
    "# Calculate performance metrics for the test set\n",
    "test_rmse = np.sqrt(mean_squared_error(Y_test_numerical, y_pred))\n",
    "test_mae = mean_absolute_error(Y_test_numerical, y_pred)\n",
    "test_r2 = r2_score(Y_test_numerical, y_pred)\n",
    "\n",
    "# Calculate performance metrics for the training set\n",
    "train_pred = rf_model.predict(X_train_mod)\n",
    "train_rmse = np.sqrt(mean_squared_error(Y_train_numerical, train_pred))\n",
    "train_mae = mean_absolute_error(Y_train_numerical, train_pred)\n",
    "train_r2 = r2_score(Y_train_numerical, train_pred)\n",
    "\n",
    "# Create a comparison table\n",
    "comparison = {\n",
    "    'Metric': ['RMSE', 'MAE', 'R2'],\n",
    "    'Training Set': [train_rmse, train_mae, train_r2],\n",
    "    'Test Set': [test_rmse, test_mae, test_r2]\n",
    "}\n",
    "\n",
    "# Print the comparison table\n",
    "print(\"Performance Metrics Comparison:\")\n",
    "print(\"-----------------------------\")\n",
    "print(\"{:<10} {:<15} {:<15}\".format('Metric', 'Training Set', 'Test Set'))\n",
    "for i in range(len(comparison['Metric'])):\n",
    "    print(\"{:<10} {:<15.4f} {:<15.4f}\".format(comparison['Metric'][i], comparison['Training Set'][i], comparison['Test Set'][i]))\n"
   ]
  },
  {
   "cell_type": "markdown",
   "id": "a23ca3b8",
   "metadata": {},
   "source": [
    "## clearly, stacking and other ideas are overfitting"
   ]
  },
  {
   "cell_type": "code",
   "execution_count": null,
   "id": "2a2b7e1b",
   "metadata": {},
   "outputs": [],
   "source": []
  },
  {
   "cell_type": "code",
   "execution_count": null,
   "id": "8a313c05",
   "metadata": {},
   "outputs": [],
   "source": []
  },
  {
   "cell_type": "code",
   "execution_count": null,
   "id": "7b4e50ec",
   "metadata": {},
   "outputs": [],
   "source": []
  },
  {
   "cell_type": "code",
   "execution_count": null,
   "id": "a6e91d7c",
   "metadata": {},
   "outputs": [],
   "source": []
  },
  {
   "cell_type": "code",
   "execution_count": null,
   "id": "68280e8b",
   "metadata": {},
   "outputs": [],
   "source": []
  },
  {
   "cell_type": "code",
   "execution_count": null,
   "id": "9db624ab",
   "metadata": {},
   "outputs": [],
   "source": []
  },
  {
   "cell_type": "code",
   "execution_count": null,
   "id": "d30c527d",
   "metadata": {},
   "outputs": [],
   "source": []
  },
  {
   "cell_type": "code",
   "execution_count": null,
   "id": "61363059",
   "metadata": {},
   "outputs": [],
   "source": []
  },
  {
   "cell_type": "code",
   "execution_count": null,
   "id": "6fbe918d",
   "metadata": {},
   "outputs": [],
   "source": []
  },
  {
   "cell_type": "code",
   "execution_count": null,
   "id": "06616e83",
   "metadata": {},
   "outputs": [],
   "source": []
  },
  {
   "cell_type": "code",
   "execution_count": null,
   "id": "a070ffac",
   "metadata": {},
   "outputs": [],
   "source": []
  },
  {
   "cell_type": "code",
   "execution_count": null,
   "id": "b720690a",
   "metadata": {},
   "outputs": [],
   "source": []
  },
  {
   "cell_type": "markdown",
   "id": "584d2905",
   "metadata": {},
   "source": [
    "### stacking model"
   ]
  },
  {
   "cell_type": "code",
   "execution_count": 39,
   "id": "72765947",
   "metadata": {
    "scrolled": true
   },
   "outputs": [
    {
     "ename": "ValueError",
     "evalue": "Found input variables with inconsistent numbers of samples: [85926, 107408]",
     "output_type": "error",
     "traceback": [
      "\u001b[0;31m---------------------------------------------------------------------------\u001b[0m",
      "\u001b[0;31mValueError\u001b[0m                                Traceback (most recent call last)",
      "\u001b[0;32m/var/folders/68/nlclwstn1zd28pll4j60q7zw0000gn/T/ipykernel_48380/298932857.py\u001b[0m in \u001b[0;36m<module>\u001b[0;34m\u001b[0m\n\u001b[1;32m      7\u001b[0m \u001b[0;34m\u001b[0m\u001b[0m\n\u001b[1;32m      8\u001b[0m \u001b[0;31m# Assuming you have your features in X_train and labels in Y_train_numerical\u001b[0m\u001b[0;34m\u001b[0m\u001b[0;34m\u001b[0m\u001b[0;34m\u001b[0m\u001b[0m\n\u001b[0;32m----> 9\u001b[0;31m \u001b[0mX_train\u001b[0m\u001b[0;34m,\u001b[0m \u001b[0mX_val\u001b[0m\u001b[0;34m,\u001b[0m \u001b[0mY_train\u001b[0m\u001b[0;34m,\u001b[0m \u001b[0mY_val\u001b[0m \u001b[0;34m=\u001b[0m \u001b[0mtrain_test_split\u001b[0m\u001b[0;34m(\u001b[0m\u001b[0mX_train\u001b[0m\u001b[0;34m,\u001b[0m \u001b[0mY_train_numerical\u001b[0m\u001b[0;34m,\u001b[0m \u001b[0mtest_size\u001b[0m\u001b[0;34m=\u001b[0m\u001b[0;36m0.2\u001b[0m\u001b[0;34m,\u001b[0m \u001b[0mrandom_state\u001b[0m\u001b[0;34m=\u001b[0m\u001b[0;36m42\u001b[0m\u001b[0;34m)\u001b[0m\u001b[0;34m\u001b[0m\u001b[0;34m\u001b[0m\u001b[0m\n\u001b[0m\u001b[1;32m     10\u001b[0m \u001b[0;34m\u001b[0m\u001b[0m\n\u001b[1;32m     11\u001b[0m \u001b[0;31m# Define base models\u001b[0m\u001b[0;34m\u001b[0m\u001b[0;34m\u001b[0m\u001b[0;34m\u001b[0m\u001b[0m\n",
      "\u001b[0;32m~/anaconda3/lib/python3.8/site-packages/sklearn/model_selection/_split.py\u001b[0m in \u001b[0;36mtrain_test_split\u001b[0;34m(test_size, train_size, random_state, shuffle, stratify, *arrays)\u001b[0m\n\u001b[1;32m   2428\u001b[0m         \u001b[0;32mraise\u001b[0m \u001b[0mValueError\u001b[0m\u001b[0;34m(\u001b[0m\u001b[0;34m\"At least one array required as input\"\u001b[0m\u001b[0;34m)\u001b[0m\u001b[0;34m\u001b[0m\u001b[0;34m\u001b[0m\u001b[0m\n\u001b[1;32m   2429\u001b[0m \u001b[0;34m\u001b[0m\u001b[0m\n\u001b[0;32m-> 2430\u001b[0;31m     \u001b[0marrays\u001b[0m \u001b[0;34m=\u001b[0m \u001b[0mindexable\u001b[0m\u001b[0;34m(\u001b[0m\u001b[0;34m*\u001b[0m\u001b[0marrays\u001b[0m\u001b[0;34m)\u001b[0m\u001b[0;34m\u001b[0m\u001b[0;34m\u001b[0m\u001b[0m\n\u001b[0m\u001b[1;32m   2431\u001b[0m \u001b[0;34m\u001b[0m\u001b[0m\n\u001b[1;32m   2432\u001b[0m     \u001b[0mn_samples\u001b[0m \u001b[0;34m=\u001b[0m \u001b[0m_num_samples\u001b[0m\u001b[0;34m(\u001b[0m\u001b[0marrays\u001b[0m\u001b[0;34m[\u001b[0m\u001b[0;36m0\u001b[0m\u001b[0;34m]\u001b[0m\u001b[0;34m)\u001b[0m\u001b[0;34m\u001b[0m\u001b[0;34m\u001b[0m\u001b[0m\n",
      "\u001b[0;32m~/anaconda3/lib/python3.8/site-packages/sklearn/utils/validation.py\u001b[0m in \u001b[0;36mindexable\u001b[0;34m(*iterables)\u001b[0m\n\u001b[1;32m    431\u001b[0m \u001b[0;34m\u001b[0m\u001b[0m\n\u001b[1;32m    432\u001b[0m     \u001b[0mresult\u001b[0m \u001b[0;34m=\u001b[0m \u001b[0;34m[\u001b[0m\u001b[0m_make_indexable\u001b[0m\u001b[0;34m(\u001b[0m\u001b[0mX\u001b[0m\u001b[0;34m)\u001b[0m \u001b[0;32mfor\u001b[0m \u001b[0mX\u001b[0m \u001b[0;32min\u001b[0m \u001b[0miterables\u001b[0m\u001b[0;34m]\u001b[0m\u001b[0;34m\u001b[0m\u001b[0;34m\u001b[0m\u001b[0m\n\u001b[0;32m--> 433\u001b[0;31m     \u001b[0mcheck_consistent_length\u001b[0m\u001b[0;34m(\u001b[0m\u001b[0;34m*\u001b[0m\u001b[0mresult\u001b[0m\u001b[0;34m)\u001b[0m\u001b[0;34m\u001b[0m\u001b[0;34m\u001b[0m\u001b[0m\n\u001b[0m\u001b[1;32m    434\u001b[0m     \u001b[0;32mreturn\u001b[0m \u001b[0mresult\u001b[0m\u001b[0;34m\u001b[0m\u001b[0;34m\u001b[0m\u001b[0m\n\u001b[1;32m    435\u001b[0m \u001b[0;34m\u001b[0m\u001b[0m\n",
      "\u001b[0;32m~/anaconda3/lib/python3.8/site-packages/sklearn/utils/validation.py\u001b[0m in \u001b[0;36mcheck_consistent_length\u001b[0;34m(*arrays)\u001b[0m\n\u001b[1;32m    385\u001b[0m     \u001b[0muniques\u001b[0m \u001b[0;34m=\u001b[0m \u001b[0mnp\u001b[0m\u001b[0;34m.\u001b[0m\u001b[0munique\u001b[0m\u001b[0;34m(\u001b[0m\u001b[0mlengths\u001b[0m\u001b[0;34m)\u001b[0m\u001b[0;34m\u001b[0m\u001b[0;34m\u001b[0m\u001b[0m\n\u001b[1;32m    386\u001b[0m     \u001b[0;32mif\u001b[0m \u001b[0mlen\u001b[0m\u001b[0;34m(\u001b[0m\u001b[0muniques\u001b[0m\u001b[0;34m)\u001b[0m \u001b[0;34m>\u001b[0m \u001b[0;36m1\u001b[0m\u001b[0;34m:\u001b[0m\u001b[0;34m\u001b[0m\u001b[0;34m\u001b[0m\u001b[0m\n\u001b[0;32m--> 387\u001b[0;31m         raise ValueError(\n\u001b[0m\u001b[1;32m    388\u001b[0m             \u001b[0;34m\"Found input variables with inconsistent numbers of samples: %r\"\u001b[0m\u001b[0;34m\u001b[0m\u001b[0;34m\u001b[0m\u001b[0m\n\u001b[1;32m    389\u001b[0m             \u001b[0;34m%\u001b[0m \u001b[0;34m[\u001b[0m\u001b[0mint\u001b[0m\u001b[0;34m(\u001b[0m\u001b[0ml\u001b[0m\u001b[0;34m)\u001b[0m \u001b[0;32mfor\u001b[0m \u001b[0ml\u001b[0m \u001b[0;32min\u001b[0m \u001b[0mlengths\u001b[0m\u001b[0;34m]\u001b[0m\u001b[0;34m\u001b[0m\u001b[0;34m\u001b[0m\u001b[0m\n",
      "\u001b[0;31mValueError\u001b[0m: Found input variables with inconsistent numbers of samples: [85926, 107408]"
     ]
    }
   ],
   "source": [
    "from sklearn.ensemble import RandomForestRegressor, GradientBoostingRegressor, StackingRegressor\n",
    "from sklearn.linear_model import LinearRegression\n",
    "from lightgbm import LGBMRegressor\n",
    "from sklearn.model_selection import train_test_split\n",
    "from sklearn.metrics import mean_squared_error, mean_absolute_error, r2_score\n",
    "from sklearn.model_selection import KFold\n",
    "\n",
    "# Assuming you have your features in X_train and labels in Y_train_numerical\n",
    "X_train, X_val, Y_train, Y_val = train_test_split(X_train, Y_train_numerical, test_size=0.2, random_state=42)\n",
    "\n",
    "# Define base models\n",
    "models = [\n",
    " #   ('linear', LinearRegression()),\n",
    "    ('rf', RandomForestRegressor(n_estimators=15, random_state=42)),\n",
    "    ('gb', GradientBoostingRegressor(n_estimators=15, random_state=42)),\n",
    "    ('lgbm', LGBMRegressor(n_estimators=15, random_state=42))\n",
    "]\n",
    "\n",
    "# Initialize the stacking model\n",
    "stacked_model = StackingRegressor(estimators=models, final_estimator=LinearRegression())\n",
    "\n",
    "# Fit the stacked model\n",
    "stacked_model.fit(X_train, Y_train)\n",
    "\n",
    "# Make predictions using the stacked model\n",
    "stacked_predictions = stacked_model.predict(X_val)\n",
    "\n",
    "# Calculate metrics\n",
    "rmse_stacked = np.sqrt(mean_squared_error(Y_val, stacked_predictions))\n",
    "mae_stacked = mean_absolute_error(Y_val, stacked_predictions)\n",
    "r2_stacked = r2_score(Y_val, stacked_predictions)\n",
    "\n",
    "# Calculate Adjusted R-squared\n",
    "n = len(Y_val)\n",
    "p = X_val.shape[1]\n",
    "adjusted_r2_stacked = 1 - (1 - r2_stacked) * ((n - 1) / (n - p - 1))\n",
    "\n",
    "print(f'Stacked Model RMSE: {rmse_stacked}')\n",
    "print(f'Stacked Model MAE: {mae_stacked}')\n",
    "print(f'Stacked Model R2: {r2_stacked}')\n",
    "print(f'Stacked Model Adjusted R2: {adjusted_r2_stacked}')\n"
   ]
  },
  {
   "cell_type": "code",
   "execution_count": null,
   "id": "d0a78884",
   "metadata": {},
   "outputs": [],
   "source": []
  },
  {
   "cell_type": "code",
   "execution_count": 37,
   "id": "827d5a9f",
   "metadata": {
    "scrolled": true
   },
   "outputs": [
    {
     "name": "stdout",
     "output_type": "stream",
     "text": [
      "Performance Metrics Comparison:\n",
      "-----------------------------\n",
      "Metric     Training Set    Test Set       \n",
      "RMSE       3.4757          24.5253        \n",
      "MAE        2.5075          17.9849        \n",
      "R2         0.9873          0.6476         \n"
     ]
    }
   ],
   "source": [
    "# Make predictions on the train set\n",
    "train_predictions = stacked_model.predict(X_train)\n",
    "\n",
    "# Calculate performance metrics for train set\n",
    "train_rmse = np.sqrt(mean_squared_error(Y_train, train_predictions))\n",
    "train_mae = mean_absolute_error(Y_train, train_predictions)\n",
    "train_r2 = r2_score(Y_train, train_predictions)\n",
    "\n",
    "\n",
    "\n",
    "# Make predictions on the test set\n",
    "test_predictions = stacked_model.predict(X_test)\n",
    "\n",
    "# Calculate performance metrics for test set\n",
    "test_rmse = np.sqrt(mean_squared_error(Y_test_numerical, test_predictions))\n",
    "test_mae = mean_absolute_error(Y_test_numerical, test_predictions)\n",
    "test_r2 = r2_score(Y_test_numerical, test_predictions)\n",
    "\n",
    "# Create a comparison table\n",
    "comparison = {\n",
    "    'Metric': ['RMSE', 'MAE', 'R2'],\n",
    "    'Training Set': [train_rmse, train_mae, train_r2],\n",
    "    'Test Set': [test_rmse, test_mae, test_r2]\n",
    "}\n",
    "\n",
    "# Print the comparison table\n",
    "print(\"Performance Metrics Comparison:\")\n",
    "print(\"-----------------------------\")\n",
    "print(\"{:<10} {:<15} {:<15}\".format('Metric', 'Training Set', 'Test Set'))\n",
    "for i in range(len(comparison['Metric'])):\n",
    "    print(\"{:<10} {:<15.4f} {:<15.4f}\".format(comparison['Metric'][i], comparison['Training Set'][i], comparison['Test Set'][i]))"
   ]
  },
  {
   "cell_type": "code",
   "execution_count": 38,
   "id": "ce7cb0ee",
   "metadata": {},
   "outputs": [
    {
     "name": "stdout",
     "output_type": "stream",
     "text": [
      "0.9872556293949574 0.6451837153900539\n"
     ]
    }
   ],
   "source": [
    "# Calculate Adjusted R-squared for train\n",
    "n = len(Y_train)\n",
    "p = X_train.shape[1]\n",
    "train_adjusted_r2 = 1 - (1 - train_r2) * ((n - 1) / (n - p - 1))\n",
    "\n",
    "# Calculate Adjusted R-squared for test\n",
    "n = len(Y_test_numerical)\n",
    "p = X_test.shape[1]\n",
    "test_adjusted_r2 = 1 - (1 - test_r2) * ((n - 1) / (n - p - 1))\n",
    "\n",
    "\n",
    "#adjusted_r2_train = 1 - (1 - train_r2) * ((n - 1) / (n - p - 1))\n",
    "print(train_adjusted_r2, test_adjusted_r2)"
   ]
  },
  {
   "cell_type": "code",
   "execution_count": null,
   "id": "db2b0d32",
   "metadata": {},
   "outputs": [],
   "source": []
  },
  {
   "cell_type": "markdown",
   "id": "429c8112",
   "metadata": {},
   "source": [
    "### hyperparameter tuning ::  randomizedsearchcv"
   ]
  },
  {
   "cell_type": "markdown",
   "id": "b3869703",
   "metadata": {},
   "source": [
    "#import xgboost as xgb\n",
    "import time\n",
    "from sklearn.model_selection import RandomizedSearchCV\n",
    "#import numpy as np\n",
    "\n",
    "####### Define the parameter grid for hyperparameter tuning\n",
    "param_grid = {\n",
    "    'objective': ['reg:squaredlogerror','reg:squarederror'], # objectives listed\n",
    "    'n_estimators': np.arange(300, 1000, 100),  # Number of trees in the ensemble\n",
    "    'learning_rate': [0.01, 0.1, 0.2, 0.3],  # Learning rate\n",
    "    'max_depth': np.arange(3, 10),  # Maximum depth of each tree\n",
    "    'min_child_weight': np.arange(1, 6),  # Minimum sum of instance weight (hessian) needed in a child\n",
    "    'subsample': [0.7, 0.8, 0.9, 1.0],  # Fraction of samples used for training each tree\n",
    "    'colsample_bytree': [0.7, 0.8, 0.9, 1.0],  # Fraction of features used for training each tree\n",
    "    'gamma': [0, 0.1, 0.2, 0.3, 0.4],  # Minimum loss reduction required to make a further partition on a leaf node\n",
    "    'reg_alpha': [0, 0.1, 0.2, 0.3],  # L1 regularization term on weights\n",
    "    'reg_lambda': [0, 0.1, 0.2, 0.3]  # L2 regularization term on weights\n",
    "}\n",
    "\n",
    "######## Create an XGBoost regressor\n",
    "xgb_model = xgb.XGBRegressor()\n",
    "\n",
    "\n",
    "t1 = time.time()\n",
    "######## Perform Randomized Search for hyperparameter tuning\n",
    "random_search = RandomizedSearchCV(xgb_model, param_distributions=param_grid, n_iter=2, \\\n",
    "                                   scoring='neg_mean_squared_error', cv=3, verbose=2, random_state=42, n_jobs=-1)\n",
    "\n",
    "######## Fit the Randomized Search to your training data\n",
    "random_search.fit(X_train, Y_train_numerical)\n",
    "\n",
    "t2 = time.time()\n",
    "######## Print the best hyperparameters and corresponding MSE score\n",
    "print(\"Best Hyperparameters:\")\n",
    "print(random_search.best_params_)\n",
    "print(\"Best MSE Score:\", -random_search.best_score_)\n",
    "print('seconds taken to search and fit: ', t2-t1)"
   ]
  },
  {
   "cell_type": "code",
   "execution_count": null,
   "id": "57793c05",
   "metadata": {},
   "outputs": [],
   "source": []
  },
  {
   "cell_type": "code",
   "execution_count": null,
   "id": "9855f44c",
   "metadata": {},
   "outputs": [],
   "source": []
  },
  {
   "cell_type": "code",
   "execution_count": null,
   "id": "ab9cf872",
   "metadata": {},
   "outputs": [],
   "source": []
  },
  {
   "cell_type": "markdown",
   "id": "1066c931",
   "metadata": {},
   "source": [
    "### visualizing the results"
   ]
  },
  {
   "cell_type": "code",
   "execution_count": null,
   "id": "994e66e5",
   "metadata": {},
   "outputs": [],
   "source": []
  },
  {
   "cell_type": "code",
   "execution_count": null,
   "id": "ab960683",
   "metadata": {
    "scrolled": true
   },
   "outputs": [],
   "source": [
    "\n",
    "from sklearn.metrics import mean_squared_error, mean_absolute_error, r2_score\n",
    "\n",
    "# Assuming you have already fitted the model to the training data (X_train, Y_train_numerical)\n",
    "# model = xgb.XGBRegressor(objective='reg:squarederror', eval_metric='rmse')\n",
    "# model.fit(X_train, Y_train_numerical)\n",
    "\n",
    "# Predict on the training set\n",
    "Y_train_numerical_pred = model.predict(X_train)\n",
    "\n",
    "# Predict on the test set\n",
    "Y_test_numerical_pred = model.predict(X_test)\n",
    "\n",
    "# Calculate and print important performance metrics for training set\n",
    "print(\"Training Set Metrics:\")\n",
    "print(\"Root Mean Squared Error (MSE):\", mean_squared_error(Y_train_numerical, Y_train_numerical_pred, squared=True))\n",
    "print(\"Mean Absolute Error (MAE):\", mean_absolute_error(Y_train_numerical, Y_train_numerical_pred))\n",
    "print(\"R-squared (R²):\", r2_score(Y_train_numerical, Y_train_numerical_pred))\n",
    "\n",
    "# Calculate and print important performance metrics for test set\n",
    "print(\"\\nTest Set Metrics:\")\n",
    "print(\"Root Mean Squared Error (MSE):\", mean_squared_error(Y_test_numerical, Y_test_numerical_pred, squared=True))\n",
    "print(\"Mean Absolute Error (MAE):\", mean_absolute_error(Y_test_numerical, Y_test_numerical_pred))\n",
    "print(\"R-squared (R²):\", r2_score(Y_test_numerical, Y_test_numerical_pred))\n"
   ]
  },
  {
   "cell_type": "code",
   "execution_count": null,
   "id": "e2938b5a",
   "metadata": {},
   "outputs": [],
   "source": [
    "#import xgboost as xgb\n",
    "import matplotlib.pyplot as plt\n",
    "\n",
    "# Assuming you have already fitted the model to the training data (X_train, y_train)\n",
    "# model = xgb.XGBRegressor(objective='reg:squarederror', eval_metric='rmse')\n",
    "# model.fit(X_train, y_train)\n",
    "\n",
    "# Get feature importances from the trained model\n",
    "feature_importance = model.feature_importances_\n",
    "\n",
    "# Get the feature names from X_train\n",
    "feature_names = X_train.columns\n",
    "\n",
    "# Create a DataFrame to hold feature names and their importance scores\n",
    "importance_df = pd.DataFrame({'Feature': feature_names, 'Importance': feature_importance})\n",
    "\n",
    "# Sort the DataFrame by importance score in descending order\n",
    "importance_df = importance_df.sort_values(by='Importance', ascending=False)\n",
    "\n",
    "# Create a bar plot to visualize feature importance\n",
    "plt.figure(figsize=(10, 6))\n",
    "plt.barh(importance_df['Feature'], importance_df['Importance'])\n",
    "plt.xlabel('Feature Importance')\n",
    "plt.ylabel('Features')\n",
    "plt.title('XGBoost Feature Importance')\n",
    "plt.gca().invert_yaxis()  # Invert the y-axis to show the most important features at the top\n",
    "plt.show()\n"
   ]
  },
  {
   "cell_type": "markdown",
   "id": "3963f358",
   "metadata": {},
   "source": [
    "#### observation::\n",
    "\n",
    "following variables have negligible importance --\n",
    "'year', 'last_30_legal_balls_4s', 'fours', 'sixes', 'last_30_legal_balls_6s'"
   ]
  },
  {
   "cell_type": "markdown",
   "id": "8f9bb7ab",
   "metadata": {},
   "source": [
    "### dropping some low-importance variables and retraining"
   ]
  },
  {
   "cell_type": "code",
   "execution_count": null,
   "id": "ee814f8b",
   "metadata": {},
   "outputs": [],
   "source": [
    "cols_to_drop = ['year', 'last_30_legal_balls_4s', 'fours', 'sixes', 'last_30_legal_balls_6s']\n",
    "X_train_1 = X_train.drop(labels = cols_to_drop, axis=1)\n",
    "X_test_1 = X_test.drop(labels = cols_to_drop, axis=1)"
   ]
  },
  {
   "cell_type": "code",
   "execution_count": null,
   "id": "cdb9bc61",
   "metadata": {},
   "outputs": [],
   "source": [
    "X_test.fillna(0, inplace=True)"
   ]
  },
  {
   "cell_type": "code",
   "execution_count": null,
   "id": "596a0422",
   "metadata": {},
   "outputs": [],
   "source": [
    "import xgboost as xgb\n",
    "\n",
    "# Define hyperparameters\n",
    "params = {\n",
    "    'objective': 'reg:squaredlogerror',  # Regression task\n",
    "    'n_estimators': 500,             # Number of boosting rounds (trees)\n",
    "    'learning_rate': 0.1,           # Step size shrinkage to prevent overfitting\n",
    "    'max_depth': 7,                 # Maximum depth of each tree\n",
    "    'subsample': 0.8,               # Fraction of samples used for training each tree\n",
    "    'colsample_bytree': 0.8,        # Fraction of features used for training each tree\n",
    "    'gamma': 0,                     # Minimum loss reduction required to make a further partition on a leaf node\n",
    "    'lambda': 1,                    # L2 regularization term on weights\n",
    "    'alpha': 0,                     # L1 regularization term on weights\n",
    "    'eval_metric': 'mae'           # Evaluation metric (Root Mean Squared Error)\n",
    "}\n",
    "\n",
    "# Initialize the XGBoost Regressor\n",
    "model = xgb.XGBRegressor(**params)\n",
    "\n",
    "# Train the model on the training data\n",
    "model.fit(X_train_1, Y_train_numerical)\n",
    "\n",
    "# You can now use the trained model for predictions\n"
   ]
  },
  {
   "cell_type": "code",
   "execution_count": null,
   "id": "d050d74e",
   "metadata": {},
   "outputs": [],
   "source": [
    "\n",
    "from sklearn.metrics import mean_squared_error, mean_absolute_error, r2_score\n",
    "\n",
    "# Assuming you have already fitted the model to the training data (X_train, Y_train_numerical)\n",
    "# model = xgb.XGBRegressor(objective='reg:squarederror', eval_metric='rmse')\n",
    "# model.fit(X_train, Y_train_numerical)\n",
    "\n",
    "# Predict on the training set\n",
    "Y_train_numerical_pred = model.predict(X_train_1)\n",
    "\n",
    "# Predict on the test set\n",
    "Y_test_numerical_pred = model.predict(X_test_1)\n",
    "\n",
    "# Calculate and print important performance metrics for training set\n",
    "print(\"Training Set Metrics:\")\n",
    "print(\"Root Mean Squared Error (MSE):\", mean_squared_error(Y_train_numerical, Y_train_numerical_pred, squared=False))\n",
    "print(\"Mean Absolute Error (MAE):\", mean_absolute_error(Y_train_numerical, Y_train_numerical_pred))\n",
    "print(\"R-squared (R²):\", r2_score(Y_train_numerical, Y_train_numerical_pred))\n",
    "\n",
    "# Calculate and print important performance metrics for test set\n",
    "print(\"\\nTest Set Metrics:\")\n",
    "print(\"Root Mean Squared Error (MSE):\", mean_squared_error(Y_test_numerical, Y_test_numerical_pred, squared=False))\n",
    "print(\"Mean Absolute Error (MAE):\", mean_absolute_error(Y_test_numerical, Y_test_numerical_pred))\n",
    "print(\"R-squared (R²):\", r2_score(Y_test_numerical, Y_test_numerical_pred))\n"
   ]
  },
  {
   "cell_type": "code",
   "execution_count": null,
   "id": "ca335b84",
   "metadata": {},
   "outputs": [],
   "source": []
  },
  {
   "cell_type": "code",
   "execution_count": null,
   "id": "79d655ec",
   "metadata": {},
   "outputs": [],
   "source": [
    "#import xgboost as xgb\n",
    "import matplotlib.pyplot as plt\n",
    "\n",
    "# Assuming you have already fitted the model to the training data (X_train, y_train)\n",
    "# model = xgb.XGBRegressor(objective='reg:squarederror', eval_metric='rmse')\n",
    "# model.fit(X_train, y_train)\n",
    "\n",
    "# Get feature importances from the trained model\n",
    "feature_importance = model.feature_importances_\n",
    "\n",
    "# Get the feature names from X_train\n",
    "feature_names = X_train_1.columns\n",
    "\n",
    "# Create a DataFrame to hold feature names and their importance scores\n",
    "importance_df = pd.DataFrame({'Feature': feature_names, 'Importance': feature_importance})\n",
    "\n",
    "# Sort the DataFrame by importance score in descending order\n",
    "importance_df = importance_df.sort_values(by='Importance', ascending=False)\n",
    "\n",
    "# Create a bar plot to visualize feature importance\n",
    "plt.figure(figsize=(10, 6))\n",
    "plt.barh(importance_df['Feature'], importance_df['Importance'])\n",
    "plt.xlabel('Feature Importance')\n",
    "plt.ylabel('Features')\n",
    "plt.title('XGBoost Feature Importance')\n",
    "plt.gca().invert_yaxis()  # Invert the y-axis to show the most important features at the top\n",
    "plt.show()\n",
    "\n"
   ]
  },
  {
   "cell_type": "code",
   "execution_count": null,
   "id": "d9d6ec56",
   "metadata": {},
   "outputs": [],
   "source": [
    "np.array([1,2,3,3,2,1,1,2,3,3,2,1,7])"
   ]
  },
  {
   "cell_type": "code",
   "execution_count": null,
   "id": "04bd8d37",
   "metadata": {},
   "outputs": [],
   "source": [
    "X_train_1.columns"
   ]
  },
  {
   "cell_type": "code",
   "execution_count": null,
   "id": "743f654c",
   "metadata": {},
   "outputs": [],
   "source": [
    "#year_encoder = LabelEncoder().fit(X_train_categorical['year'])\n",
    "print(wickets_down_encoder.transform([6]))\n",
    "print(striker_batting_position_encoder.transform([6]))\n",
    "print(non_striker_batting_position_encoder.transform([8]))\n"
   ]
  },
  {
   "cell_type": "code",
   "execution_count": null,
   "id": "2bf20f24",
   "metadata": {
    "scrolled": true
   },
   "outputs": [],
   "source": [
    "#'wickets_down', 'striker_batting_position',\n",
    "#       'non_striker_batting_position', 'runs_scored', 'legal_balls_bowled',\n",
    "#       'run_rate', 'last_fow', 'partnership_runs', 'striker_runs',\n",
    "#       'non_striker_runs', 'last_fow_run_rate', 'last_30_legal_balls_run_rate',\n",
    "#'last_30_legal_balls_wickets'\n",
    "\n",
    "to_be_predicted = np.array([6,5,7,162,210,6*162/210, 161, 162-161, 40, 1, 4.7122, 25, 2]).reshape(1,-1)\n",
    "\n",
    "model.predict(to_be_predicted)"
   ]
  },
  {
   "cell_type": "code",
   "execution_count": null,
   "id": "6059afdd",
   "metadata": {},
   "outputs": [],
   "source": [
    "year_encoder.transform([2023])"
   ]
  },
  {
   "cell_type": "code",
   "execution_count": null,
   "id": "df508f7d",
   "metadata": {},
   "outputs": [],
   "source": []
  },
  {
   "cell_type": "markdown",
   "id": "2dc9b7f4",
   "metadata": {},
   "source": [
    "###"
   ]
  },
  {
   "cell_type": "code",
   "execution_count": null,
   "id": "266b97e2",
   "metadata": {},
   "outputs": [],
   "source": [
    "X_train.columns"
   ]
  },
  {
   "cell_type": "code",
   "execution_count": null,
   "id": "73018ba5",
   "metadata": {},
   "outputs": [],
   "source": [
    "X_train.iloc[1].values"
   ]
  },
  {
   "cell_type": "code",
   "execution_count": null,
   "id": "b57e1b5d",
   "metadata": {},
   "outputs": [],
   "source": []
  },
  {
   "cell_type": "code",
   "execution_count": null,
   "id": "6b8ac172",
   "metadata": {
    "scrolled": true
   },
   "outputs": [],
   "source": [
    "model.predict((X_train.iloc[1].values))"
   ]
  },
  {
   "cell_type": "markdown",
   "id": "ea96e19e",
   "metadata": {},
   "source": [
    "### LSTM model"
   ]
  },
  {
   "cell_type": "code",
   "execution_count": null,
   "id": "828f69d9",
   "metadata": {},
   "outputs": [],
   "source": [
    "import keras\n",
    "import tensorflow"
   ]
  },
  {
   "cell_type": "code",
   "execution_count": null,
   "id": "83ddbe51",
   "metadata": {},
   "outputs": [],
   "source": []
  },
  {
   "cell_type": "code",
   "execution_count": null,
   "id": "848e8fd9",
   "metadata": {},
   "outputs": [],
   "source": []
  },
  {
   "cell_type": "code",
   "execution_count": null,
   "id": "a731b3ce",
   "metadata": {},
   "outputs": [],
   "source": []
  },
  {
   "cell_type": "code",
   "execution_count": null,
   "id": "367ebd2c",
   "metadata": {},
   "outputs": [],
   "source": []
  },
  {
   "cell_type": "code",
   "execution_count": null,
   "id": "5235208f",
   "metadata": {},
   "outputs": [],
   "source": []
  },
  {
   "cell_type": "code",
   "execution_count": null,
   "id": "d8ac6117",
   "metadata": {},
   "outputs": [],
   "source": []
  },
  {
   "cell_type": "code",
   "execution_count": null,
   "id": "8769a385",
   "metadata": {},
   "outputs": [],
   "source": []
  },
  {
   "cell_type": "code",
   "execution_count": null,
   "id": "ae8e5269",
   "metadata": {},
   "outputs": [],
   "source": [
    "encoded_df.shape"
   ]
  },
  {
   "cell_type": "code",
   "execution_count": null,
   "id": "cbc8c147",
   "metadata": {},
   "outputs": [],
   "source": []
  },
  {
   "cell_type": "code",
   "execution_count": null,
   "id": "5965cac1",
   "metadata": {},
   "outputs": [],
   "source": []
  },
  {
   "cell_type": "code",
   "execution_count": null,
   "id": "8594ad9b",
   "metadata": {},
   "outputs": [],
   "source": [
    "\n",
    "# Create a sample target variable\n",
    "target = [1, 0, 1, 0, 1]\n",
    "\n",
    "# Train an XGBoost model with the encoded features\n",
    "xgb_model = xgb.XGBClassifier()\n",
    "xgb_model.fit(encoded_df, target)\n"
   ]
  },
  {
   "cell_type": "code",
   "execution_count": null,
   "id": "ca7e5253",
   "metadata": {},
   "outputs": [],
   "source": []
  }
 ],
 "metadata": {
  "kernelspec": {
   "display_name": "Python 3 (ipykernel)",
   "language": "python",
   "name": "python3"
  },
  "language_info": {
   "codemirror_mode": {
    "name": "ipython",
    "version": 3
   },
   "file_extension": ".py",
   "mimetype": "text/x-python",
   "name": "python",
   "nbconvert_exporter": "python",
   "pygments_lexer": "ipython3",
   "version": "3.8.12"
  }
 },
 "nbformat": 4,
 "nbformat_minor": 5
}
