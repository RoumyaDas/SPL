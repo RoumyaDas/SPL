{
 "cells": [
  {
   "cell_type": "code",
   "execution_count": null,
   "id": "d9823270",
   "metadata": {},
   "outputs": [],
   "source": []
  },
  {
   "cell_type": "code",
   "execution_count": 2,
   "id": "967b62d3",
   "metadata": {},
   "outputs": [],
   "source": [
    "from contextlib import redirect_stdout\n",
    "import discord\n",
    "import random\n",
    "import os\n",
    "import asyncio\n",
    "\n",
    "import pandas as pd\n",
    "import requests\n",
    "\n",
    "#########################\n",
    "\n",
    "import pandas as pd\n",
    "import glob\n",
    "import numpy as np\n",
    "pd.set_option('display.max_columns', None)\n",
    "pd.set_option('display.max_rows', None)\n",
    "\n",
    "\n",
    "\n",
    "#match_id = match_id"
   ]
  },
  {
   "cell_type": "code",
   "execution_count": null,
   "id": "93290bee",
   "metadata": {},
   "outputs": [],
   "source": []
  },
  {
   "cell_type": "code",
   "execution_count": 26,
   "id": "63214539",
   "metadata": {},
   "outputs": [
    {
     "name": "stderr",
     "output_type": "stream",
     "text": [
      "/Users/roumyadas/anaconda3/lib/python3.8/site-packages/IPython/core/interactiveshell.py:3444: DtypeWarning: Columns (42) have mixed types.Specify dtype option on import or set low_memory=False.\n",
      "  exec(code_obj, self.user_global_ns, self.user_ns)\n"
     ]
    }
   ],
   "source": [
    "df_all= pd.read_csv('/Users/roumyadas/Desktop/IPL_Simulation/Season_03/df_all_round_sim.csv')\n",
    "\n"
   ]
  },
  {
   "cell_type": "code",
   "execution_count": 5,
   "id": "1d47f4db",
   "metadata": {},
   "outputs": [],
   "source": [
    "match_id = 'S02M074'"
   ]
  },
  {
   "cell_type": "code",
   "execution_count": 25,
   "id": "fe9cf3c3",
   "metadata": {},
   "outputs": [],
   "source": [
    "def match_awards(df_all, match_id):\n",
    "\n",
    "    output_file = \"/Users/roumyadas/Desktop/IPL_Simulation/Season_03/awards/awards_\" + str(match_id) + \".txt\"\n",
    "    #output_file = \"/Users/roumyadas/Desktop/IPL_Simulation/experimentation/matchcard_\" + str(match_id) + \".txt\"\n",
    "\n",
    "    m_id = int(match_id.replace('S02M',''))\n",
    "    # Redirect the output\n",
    "    with open(output_file, \"w\") as f:\n",
    "        with redirect_stdout(f):\n",
    "\n",
    "            ## highest SR (runs) [10 balls], 4s (runs), 6s (runs), most dots (eco)\n",
    "\n",
    "            sub_df = df_all[(df_all.match_id==match_id)]\n",
    "\n",
    "\n",
    "            ### most dots\n",
    "            bowler_stats = sub_df.groupby(['bowler','bowling_team']).agg(   ##,'innings'\n",
    "                runs = ('runs_conceeded','sum'),\n",
    "                balls = ('islegal' ,'sum'),\n",
    "                wkts = ('isBowlerWicket','sum'),\n",
    "                dots = ('isDotforbowler','sum')\n",
    "            ).reset_index()\n",
    "\n",
    "            bowler_stats = bowler_stats[bowler_stats.balls>=1]\n",
    "            bowler_stats['economy'] = 6*bowler_stats['runs']/bowler_stats['balls']\n",
    "            bowler_stats = bowler_stats.sort_values(['dots','economy','wkts','balls'], \n",
    "                                                    ascending=[False, True, False, True]).reset_index(drop=True)\n",
    "            bowler_stats['name'] = bowler_stats[['bowler','bowling_team','dots']]\\\n",
    "                                                .apply(lambda x: f\"{x[0]} ({x[1]}) : {x[2]} dots\", axis=1)\n",
    "\n",
    "            value = bowler_stats.head(1)['name'].unique()[0]\n",
    "\n",
    "            print(f\"AWARDS ::: \\n\")\n",
    "            print(f\"Most Dots --> {value}\")\n",
    "\n",
    "            ### highest SR\n",
    "\n",
    "            batter_stats = sub_df.groupby(['striker','batting_team']).agg(  ##,'innings'\n",
    "                runs = ('runs_off_bat','sum'),\n",
    "                balls = ('is_faced_by_batter' ,'sum'),\n",
    "                fours = ('isFour','sum'),\n",
    "                sixes = ('isSix','sum'),\n",
    "                outs = ('is_striker_Out','sum'),\n",
    "                dots = ('isDotforBatter','sum')\n",
    "\n",
    "            ).reset_index()\n",
    "\n",
    "            batter_stats = batter_stats[batter_stats.balls>=10]\n",
    "            batter_stats['strike_rate'] = 100*batter_stats['runs']/batter_stats['balls']\n",
    "            batter_stats = batter_stats.sort_values(['strike_rate','runs','balls','dots'], \n",
    "                                                    ascending=[False, False, True, True]).reset_index(drop=True)\n",
    "            batter_stats['name'] = batter_stats[['striker','batting_team','strike_rate']]\\\n",
    "                                                .apply(lambda x: f\"{x[0]} ({x[1]}) : {np.round(x[2],2)} SR\", axis=1)\n",
    "\n",
    "            value = batter_stats.head(1)['name'].unique()[0]\n",
    "\n",
    "            print(f\"Highest Strike-rate --> {value}\")\n",
    "\n",
    "            ### most 4s\n",
    "\n",
    "            batter_stats = sub_df.groupby(['striker','batting_team']).agg(  ##,'innings'\n",
    "                runs = ('runs_off_bat','sum'),\n",
    "                balls = ('is_faced_by_batter' ,'sum'),\n",
    "                fours = ('isFour','sum'),\n",
    "                sixes = ('isSix','sum'),\n",
    "                outs = ('is_striker_Out','sum'),\n",
    "                dots = ('isDotforBatter','sum')\n",
    "\n",
    "            ).reset_index()\n",
    "\n",
    "            batter_stats = batter_stats[batter_stats.fours>=1]\n",
    "            batter_stats = batter_stats.sort_values(['fours','runs','balls','sixes'], \n",
    "                                                    ascending=[False, False, True, False]).reset_index(drop=True)\n",
    "            batter_stats['name'] = batter_stats[['striker','batting_team','fours']]\\\n",
    "                                                .apply(lambda x: f\"{x[0]} ({x[1]}) : {np.round(x[2],2)} fours\", axis=1)\n",
    "\n",
    "            value = batter_stats.head(1)['name'].unique()[0]\n",
    "\n",
    "            print(f\"Most Fours --> {value}\")\n",
    "\n",
    "            ### most 6s\n",
    "\n",
    "            batter_stats = sub_df.groupby(['striker','batting_team']).agg(  ##,'innings'\n",
    "                runs = ('runs_off_bat','sum'),\n",
    "                balls = ('is_faced_by_batter' ,'sum'),\n",
    "                fours = ('isFour','sum'),\n",
    "                sixes = ('isSix','sum'),\n",
    "                outs = ('is_striker_Out','sum'),\n",
    "                dots = ('isDotforBatter','sum')\n",
    "\n",
    "            ).reset_index()\n",
    "\n",
    "            batter_stats = batter_stats[batter_stats.sixes>=1]\n",
    "            batter_stats = batter_stats.sort_values(['sixes','runs','balls','fours'], \n",
    "                                                    ascending=[False, False, True, False]).reset_index(drop=True)\n",
    "            batter_stats['name'] = batter_stats[['striker','batting_team','sixes']]\\\n",
    "                                                .apply(lambda x: f\"{x[0]} ({x[1]}) : {np.round(x[2],2)} sixes\", axis=1)\n",
    "\n",
    "            value = batter_stats.head(1)['name'].unique()[0]\n",
    "\n",
    "            print(f\"Most Sixes --> {value}\")\n",
    "\n",
    "    message = 'awards writing done'\n",
    "    return(message)"
   ]
  },
  {
   "cell_type": "code",
   "execution_count": null,
   "id": "36c79677",
   "metadata": {},
   "outputs": [],
   "source": []
  },
  {
   "cell_type": "code",
   "execution_count": 28,
   "id": "3171fe33",
   "metadata": {},
   "outputs": [],
   "source": [
    "for match_id in df_all['match_id'].unique():\n",
    "    match_awards(df_all, match_id)"
   ]
  },
  {
   "cell_type": "code",
   "execution_count": null,
   "id": "c887a58c",
   "metadata": {},
   "outputs": [],
   "source": []
  },
  {
   "cell_type": "code",
   "execution_count": null,
   "id": "16aff0ae",
   "metadata": {},
   "outputs": [],
   "source": []
  }
 ],
 "metadata": {
  "kernelspec": {
   "display_name": "Python 3 (ipykernel)",
   "language": "python",
   "name": "python3"
  },
  "language_info": {
   "codemirror_mode": {
    "name": "ipython",
    "version": 3
   },
   "file_extension": ".py",
   "mimetype": "text/x-python",
   "name": "python",
   "nbconvert_exporter": "python",
   "pygments_lexer": "ipython3",
   "version": "3.8.12"
  }
 },
 "nbformat": 4,
 "nbformat_minor": 5
}
