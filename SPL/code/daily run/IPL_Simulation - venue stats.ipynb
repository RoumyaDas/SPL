{
 "cells": [
  {
   "cell_type": "code",
   "execution_count": 1,
   "id": "4741246e",
   "metadata": {},
   "outputs": [],
   "source": [
    "import pandas as pd\n",
    "import glob\n",
    "import numpy as np\n",
    "pd.set_option('display.max_columns', None)\n",
    "pd.set_option('display.max_rows', None)"
   ]
  },
  {
   "cell_type": "code",
   "execution_count": 8,
   "id": "43891eb3",
   "metadata": {},
   "outputs": [
    {
     "name": "stderr",
     "output_type": "stream",
     "text": [
      "/Users/roumyadas/anaconda3/lib/python3.8/site-packages/IPython/core/interactiveshell.py:3444: DtypeWarning: Columns (42) have mixed types.Specify dtype option on import or set low_memory=False.\n",
      "  exec(code_obj, self.user_global_ns, self.user_ns)\n"
     ]
    }
   ],
   "source": [
    "df_all = pd.read_csv('/Users/roumyadas/Desktop/IPL_Simulation/Season_02/df_all_round_sim.csv')\n",
    "matches_list1 = pd.read_excel('/Users/roumyadas/Desktop/IPL_Simulation/Fixtures/IPL_2024_schedule.xlsx',\n",
    "                            sheet_name='Season_01')\n",
    "matches_list2 = pd.read_excel('/Users/roumyadas/Desktop/IPL_Simulation/Fixtures/IPL_2024_schedule.xlsx',\n",
    "                            sheet_name='Season_02')\n",
    "\n",
    "matches_list1['match_id'] = matches_list1['num'].apply(lambda x: 'M00' + str(x) if x<=9 else 'M0' + str(x))\n",
    "matches_list2['match_id'] = matches_list2['num'].apply(lambda x: 'S02M00' + str(x) if x<=9 else 'S02M0' + str(x))\n",
    "\n",
    "matches_list = pd.concat([matches_list1[['num','Spin','match_id']],matches_list2[['num','Spin','match_id']]],\n",
    "                         axis=0)\n",
    "df_all = df_all.merge(matches_list[['match_id','Spin']], on='match_id', how='left')\n",
    "df_all['pitch'] = df_all['Spin'].apply(lambda x: 'pace' if x<=40 \n",
    "                                       else 'spin' if x>=60\n",
    "                                      else 'neutralish')"
   ]
  },
  {
   "cell_type": "code",
   "execution_count": 9,
   "id": "c2ba2f7a",
   "metadata": {},
   "outputs": [],
   "source": [
    "#df_all = pd.read_csv('/Users/roumyadas/Desktop/IPL_Simulation/Season_02/df_all_round_sim.csv')\n",
    "m_m = df_all.match_id.unique()[-1]\n",
    "#m_m = 'S02M065'\n",
    "df = df_all[df_all.match_id==m_m]"
   ]
  },
  {
   "cell_type": "code",
   "execution_count": 13,
   "id": "b26bb15d",
   "metadata": {},
   "outputs": [],
   "source": [
    "path__ = '/Users/roumyadas/Desktop/IPL_Simulation/Season_02/Stats/venue_stats_indi.xlsx'\n",
    "\n",
    "existing_venue_file = pd.read_excel(path__)\n"
   ]
  },
  {
   "cell_type": "code",
   "execution_count": 15,
   "id": "5784cf92",
   "metadata": {
    "scrolled": true
   },
   "outputs": [],
   "source": [
    "sub_df = df\n",
    "bat1 = sub_df[sub_df.innings==1]['runs_scored'].max()\n",
    "wkt1 = sub_df[sub_df.innings==1]['wickets_down'].max()\n",
    "bat2 = sub_df[sub_df.innings==2]['runs_scored'].max()\n",
    "wkt2 = sub_df[sub_df.innings==2]['wickets_down'].max()\n",
    "venue = sub_df['venue'].unique()[0]\n",
    "pitch = sub_df['pitch'].unique()[0]\n",
    "t1 = sub_df[sub_df.innings==1]['batting_team'].unique()[0]\n",
    "t2 = sub_df[sub_df.innings==2]['batting_team'].unique()[0]\n",
    "winner = (t1 if bat1>bat2 else t2)\n",
    "bat_1st_win = (1 if bat1>bat2 else 0)\n",
    "bat_2nd_win = (1 if bat1<bat2 else 0)\n",
    "\n",
    "row_ = [m_m,venue,bat1,wkt1,t1,t2,bat2,wkt2,pitch,bat_1st_win,bat_2nd_win,winner]\n",
    "row_df = pd.DataFrame([row_], columns=existing_venue_file.columns)\n",
    "\n",
    "concatted_df = pd.concat([existing_venue_file, row_df], ignore_index=True)"
   ]
  },
  {
   "cell_type": "code",
   "execution_count": 23,
   "id": "dc6ea430",
   "metadata": {},
   "outputs": [
    {
     "data": {
      "text/plain": [
       "Index(['match_id', 'venue', '1st_innings_total', '1st_innings_wkts',\n",
       "       '1st_bat_team', '2nd_bat_team', '2nd_innings_total', '2nd_innings_wkts',\n",
       "       'pitch', 'bat_1st_win', 'bat_2nd_win', 'winner'],\n",
       "      dtype='object')"
      ]
     },
     "execution_count": 23,
     "metadata": {},
     "output_type": "execute_result"
    }
   ],
   "source": [
    "concatted_df.columns"
   ]
  },
  {
   "cell_type": "code",
   "execution_count": 17,
   "id": "2d226d74",
   "metadata": {},
   "outputs": [],
   "source": [
    "concatted_df.to_excel(path__, index=None)\n"
   ]
  },
  {
   "cell_type": "markdown",
   "id": "bb2abf36",
   "metadata": {},
   "source": [
    "## calculations"
   ]
  },
  {
   "cell_type": "markdown",
   "id": "e16b6487",
   "metadata": {},
   "source": [
    "##### venue-wise bat 1st avg score, pitch-wise\n",
    "\n",
    "\n"
   ]
  },
  {
   "cell_type": "code",
   "execution_count": 37,
   "id": "b21abfe8",
   "metadata": {
    "scrolled": true
   },
   "outputs": [],
   "source": [
    "bat1_pitch = concatted_df.drop_duplicates().groupby(['venue','pitch'])\\\n",
    "                [['1st_innings_total','1st_innings_wkts']].mean().reset_index()\n",
    "\n",
    "bat1_pitch = bat1_pitch.round(1)\n",
    "\n",
    "bat1_pitch['score'] = bat1_pitch[['1st_innings_total','1st_innings_wkts']].apply(lambda x: f\"{x[0]}-{x[1]}\", \n",
    "                                                                           axis=1)\n",
    "\n",
    "\n",
    "bat1_ov = concatted_df.drop_duplicates().groupby(['venue'])\\\n",
    "                [['1st_innings_total','1st_innings_wkts','bat_1st_win']].mean().reset_index()\n",
    "\n",
    "bat1_ov[['1st_innings_total','1st_innings_wkts']] = bat1_ov[['1st_innings_total','1st_innings_wkts']].round(1)\n",
    "\n",
    "bat1_ov['score'] = bat1_ov[['1st_innings_total','1st_innings_wkts']].apply(lambda x: f\"{x[0]}-{x[1]}\", \n",
    "                                                                           axis=1)\n",
    "bat1_ov['win%'] = bat1_ov['bat_1st_win'].round(4) \n",
    "bat1_ov['win%'] = bat1_ov['win%']*100"
   ]
  },
  {
   "cell_type": "code",
   "execution_count": 39,
   "id": "1b47f4ef",
   "metadata": {},
   "outputs": [
    {
     "name": "stdout",
     "output_type": "stream",
     "text": [
      "Excel file '/Users/roumyadas/Desktop/IPL_Simulation/Season_02/Stats/venue_stats.xlsx' created successfully with formatting!\n"
     ]
    }
   ],
   "source": [
    "excel_filename = \"/Users/roumyadas/Desktop/IPL_Simulation/Season_02/Stats/venue_stats.xlsx\"\n",
    "\n",
    "# Dictionary mapping sheet names to DataFrames\n",
    "sheets_data = {\n",
    "    'pitch_wise': bat1_pitch,\n",
    "    'overall': bat1_ov\n",
    "    \n",
    "}\n",
    "\n",
    "with pd.ExcelWriter(excel_filename, engine='xlsxwriter') as writer:\n",
    "    # Writing all sheets\n",
    "    for sheet_name, df in sheets_data.items():\n",
    "        df.to_excel(writer, sheet_name=sheet_name, index=False)\n",
    "\n",
    "    # Get workbook\n",
    "    workbook = writer.book  \n",
    "\n",
    "    # Define formats\n",
    "    bold_format = workbook.add_format({'bold': True})  # Bold text\n",
    "    large_font_format = workbook.add_format({'font_size': 14})  # Increased font size\n",
    "    red_text_format = workbook.add_format({'font_color': 'red'})  # Red text\n",
    "\n",
    "    # Apply formatting to each sheet\n",
    "    for sheet_name, df in sheets_data.items():\n",
    "        worksheet = writer.sheets[sheet_name]\n",
    "        \n",
    "        # 1️⃣ Bold all column names (header row)\n",
    "        for col_idx, col_name in enumerate(df.columns):\n",
    "            worksheet.write(0, col_idx, col_name, bold_format)\n",
    "        \n",
    "        # 3️⃣ Bold entire column 1 (index 0) of every sheet\n",
    "        worksheet.set_column(0, 0, None, bold_format)\n",
    "\n",
    "        \n",
    "        # 6️⃣ Adjust column widths dynamically\n",
    "        for col_idx, col_name in enumerate(df.columns):\n",
    "            max_length = max(df[col_name].astype(str).apply(len).max(), len(col_name))  \n",
    "            # Max of column values & header\n",
    "            worksheet.set_column(col_idx, col_idx, max_length + 2)  # Adding padding for readability\n",
    "            \n",
    "        # 7️⃣ Freeze the first row of every sheet\n",
    "        worksheet.freeze_panes(1, 0)\n",
    "        \n",
    "        # 8️⃣ **Add Filter to all columns**\n",
    "        worksheet.autofilter(0, 0, 0, len(df.columns) - 1)  # Apply filter to the first row across all columns\n",
    "\n",
    "\n",
    "print(f\"Excel file '{excel_filename}' created successfully with formatting!\")\n"
   ]
  },
  {
   "cell_type": "code",
   "execution_count": null,
   "id": "244ba778",
   "metadata": {},
   "outputs": [],
   "source": []
  }
 ],
 "metadata": {
  "kernelspec": {
   "display_name": "Python 3 (ipykernel)",
   "language": "python",
   "name": "python3"
  },
  "language_info": {
   "codemirror_mode": {
    "name": "ipython",
    "version": 3
   },
   "file_extension": ".py",
   "mimetype": "text/x-python",
   "name": "python",
   "nbconvert_exporter": "python",
   "pygments_lexer": "ipython3",
   "version": "3.8.12"
  }
 },
 "nbformat": 4,
 "nbformat_minor": 5
}
