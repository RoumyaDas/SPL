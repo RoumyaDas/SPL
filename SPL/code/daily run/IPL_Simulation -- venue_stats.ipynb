{
 "cells": [
  {
   "cell_type": "code",
   "execution_count": 1,
   "id": "59c40e37-5ed0-4717-b711-f8ee2dd9650f",
   "metadata": {},
   "outputs": [],
   "source": [
    "import pandas as pd\n",
    "import glob\n",
    "import numpy as np\n",
    "pd.set_option('display.max_columns', None)\n",
    "pd.set_option('display.max_rows', None)"
   ]
  },
  {
   "cell_type": "markdown",
   "id": "4c2ac75c",
   "metadata": {},
   "source": [
    "#df_sim.to_csv('/Users/roumyadas/Desktop/IPL_Simulation/Season_01/Stats//df_all_round_sim.csv', index=None)\n",
    "#df_sim['season'] = 1"
   ]
  },
  {
   "cell_type": "markdown",
   "id": "011ad4cd",
   "metadata": {},
   "source": [
    "df_sim = pd.read_csv('/Users/roumyadas/Desktop/IPL_Simulation/Season_01/Stats//df_all_round_sim.csv')\n",
    "\n",
    "df_sim2 = pd.read_csv('/Users/roumyadas/Desktop/IPL_Simulation/Season_02/df_all_round_sim.csv')\n",
    "\n",
    "df_sim = pd.concat([df_sim,df_sim2], axis=0).reset_index(drop=True)\n",
    "\n",
    "matches_list1 = pd.read_excel('/Users/roumyadas/Desktop/IPL_Simulation/Fixtures/IPL_2024_schedule.xlsx',\n",
    "                            sheet_name='Season_01')\n",
    "matches_list2 = pd.read_excel('/Users/roumyadas/Desktop/IPL_Simulation/Fixtures/IPL_2024_schedule.xlsx',\n",
    "                            sheet_name='Season_02')\n",
    "\n",
    "matches_list1['match_id'] = matches_list1['num'].apply(lambda x: 'M00' + str(x) if x<=9 else 'M0' + str(x))\n",
    "matches_list2['match_id'] = matches_list2['num'].apply(lambda x: 'S02M00' + str(x) if x<=9 else 'S02M0' + str(x))\n",
    "\n",
    "matches_list = pd.concat([matches_list1[['num','Spin','match_id']],matches_list2[['num','Spin','match_id']]],\n",
    "                         axis=0)\n",
    "df_sim = df_sim.merge(matches_list[['match_id','Spin']], on='match_id', how='left')\n",
    "df_sim['pitch'] = df_sim['Spin'].apply(lambda x: 'pace' if x<=40 \n",
    "                                       else 'spin' if x>=60\n",
    "                                      else 'neutralish')"
   ]
  },
  {
   "cell_type": "markdown",
   "id": "011b81b1",
   "metadata": {},
   "source": [
    "df_sim = pd.read_csv('/Users/roumyadas/Desktop/IPL_Simulation/Season_03/Stats/df_combined_SPL.csv')\n",
    "\n",
    "for column in df_sim.columns:\n",
    "    df_sim[column] = df_sim[column].replace('Robin Minz','R Minz')\n",
    "    \n",
    "df_sim.to_csv('/Users/roumyadas/Desktop/IPL_Simulation/Season_03/Stats/df_combined_SPL.csv', index=None)"
   ]
  },
  {
   "cell_type": "code",
   "execution_count": 23,
   "id": "787df2aa",
   "metadata": {},
   "outputs": [
    {
     "data": {
      "text/plain": [
       "Index(['match_id', 'season', 'start_date', 'venue', 'innings', 'ball',\n",
       "       'batting_team', 'bowling_team', 'striker', 'non_striker', 'bowler',\n",
       "       'runs_off_bat', 'extras', 'wides', 'noballs', 'byes', 'legbyes',\n",
       "       'wicket_type', 'player_dismissed', 'legal_balls_bowled', 'wicket_event',\n",
       "       'fielder', 'legality', 'bowler_wicket', 'islegal', 'isDotforBatter',\n",
       "       'isOne', 'isTwo', 'isThree', 'isStrikeRotation', 'isFour', 'isSix',\n",
       "       'isBowlerWicket', 'is_striker_Out', 'is_nonstriker_Out', 'isWicket',\n",
       "       'total_runs', 'runs_scored', 'wickets_down', 'run_rate', 'last_fow',\n",
       "       'partnership_runs', 'isno', 'is_faced_by_batter', 'last_fow_run_rate',\n",
       "       'fours', 'sixes', 'striker_batting_position',\n",
       "       'non_striker_batting_position', 'runs_conceeded', 'isDotforbowler',\n",
       "       'legal_balls_remaining', 'target', 'runs_remaining', 'reqd_run_rate',\n",
       "       'over', 'Spin', 'pitch'],\n",
       "      dtype='object')"
      ]
     },
     "execution_count": 23,
     "metadata": {},
     "output_type": "execute_result"
    }
   ],
   "source": [
    "df_sim = pd.read_csv('/Users/roumyadas/Desktop/IPL_Simulation/Season_03/Stats/df_combined_SPL.csv')"
   ]
  },
  {
   "cell_type": "markdown",
   "id": "7210b90e",
   "metadata": {},
   "source": [
    "###### updation of player names"
   ]
  },
  {
   "cell_type": "code",
   "execution_count": 34,
   "id": "25523555",
   "metadata": {},
   "outputs": [],
   "source": [
    "updates_file = pd.read_excel(\"/Users/roumyadas/Desktop/IPL_Simulation/Season_03/updates_/separate_stats.xlsx\",\n",
    "                             sheet_name=None)\n",
    "\n",
    "sheet_names = list(updates_file.keys())\n",
    "all_sheets_list = list(updates_file.values())\n",
    "\n",
    "for df in all_sheets_list:\n",
    "    for column in df.columns:\n",
    "        df[column] = df[column].replace('Vaibhav Suryavanshi', 'V Suryavanshi')\n",
    "        df[column] = df[column].replace('Ayush Mhatre', 'A Mhatre')\n",
    "        df[column] = df[column].replace('Robin Minz', 'R Minz')\n",
    "\n",
    "with pd.ExcelWriter(\"/Users/roumyadas/Desktop/IPL_Simulation/Season_03/updates_/separate_stats.xlsx\", \n",
    "                    engine='openpyxl', mode='w') as writer:\n",
    "    for sheet_name, df in zip(sheet_names, all_sheets_list):\n",
    "        df.to_excel(writer, sheet_name=sheet_name, index=False)\n"
   ]
  },
  {
   "cell_type": "code",
   "execution_count": null,
   "id": "0a6af897",
   "metadata": {},
   "outputs": [],
   "source": []
  },
  {
   "cell_type": "code",
   "execution_count": 19,
   "id": "c147a16e-f6c5-4165-82a8-2b9a8a97e756",
   "metadata": {
    "scrolled": true
   },
   "outputs": [],
   "source": [
    "df = pd.DataFrame(columns=['match_id','venue',\n",
    "                           '1st_innings_total','1st_innings_wkts',\n",
    "                           '1st_bat_team','2nd_bat_team',\n",
    "                           '2nd_innings_total','2nd_innings_wkts',\n",
    "                           'pitch','bat_1st_win','bat_2nd_win','winner'])\n",
    "\n",
    "\n",
    "for m in df_sim.match_id.unique()[:-1]:\n",
    "    sub_df = df_sim[df_sim.match_id == m]\n",
    "\n",
    "    bat1 = sub_df[sub_df.innings==1]['runs_scored'].max()\n",
    "    wkt1 = sub_df[sub_df.innings==1]['wickets_down'].max()\n",
    "    bat2 = sub_df[sub_df.innings==2]['runs_scored'].max()\n",
    "    wkt2 = sub_df[sub_df.innings==2]['wickets_down'].max()\n",
    "    venue = sub_df['venue'].unique()[0]\n",
    "    pitch = sub_df['pitch'].unique()[0]\n",
    "    t1 = sub_df[sub_df.innings==1]['batting_team'].unique()[0]\n",
    "    t2 = sub_df[sub_df.innings==2]['batting_team'].unique()[0]\n",
    "    winner = (t1 if bat1>bat2 else t2)\n",
    "    bat_1st_win = (1 if bat1>bat2 else 0)\n",
    "    bat_2nd_win = (1 if bat1<bat2 else 0)\n",
    "\n",
    "    row_ = [m,venue,bat1,wkt1,t1,t2,bat2,wkt2,pitch,bat_1st_win,bat_2nd_win,winner]\n",
    "    row_df = pd.DataFrame([row_], columns=df.columns)\n",
    "    df = pd.concat([df, row_df], ignore_index=True)\n",
    "\n",
    "    \n"
   ]
  },
  {
   "cell_type": "code",
   "execution_count": 21,
   "id": "f46fbe5b",
   "metadata": {},
   "outputs": [],
   "source": [
    "df.to_excel('/Users/roumyadas/Desktop/IPL_Simulation/Season_02/Stats/venue_stats_indi.xlsx', index=None)"
   ]
  },
  {
   "cell_type": "code",
   "execution_count": null,
   "id": "b8f68876",
   "metadata": {},
   "outputs": [],
   "source": []
  },
  {
   "cell_type": "code",
   "execution_count": null,
   "id": "925da384-b025-480f-9212-fc8789421423",
   "metadata": {},
   "outputs": [],
   "source": []
  },
  {
   "cell_type": "markdown",
   "id": "f8e9e3fa-e8cd-43a2-8963-f51145880254",
   "metadata": {},
   "source": [
    "##### example calc"
   ]
  },
  {
   "cell_type": "code",
   "execution_count": null,
   "id": "7abff465-6263-43c2-b5e7-de1ae5eaf24d",
   "metadata": {},
   "outputs": [],
   "source": []
  },
  {
   "cell_type": "code",
   "execution_count": null,
   "id": "d8d2b810-f505-48e5-941d-9d1656c48e5d",
   "metadata": {},
   "outputs": [],
   "source": []
  },
  {
   "cell_type": "code",
   "execution_count": null,
   "id": "826f6fce-cdd7-4244-a2d2-447a49d6dd54",
   "metadata": {},
   "outputs": [],
   "source": []
  },
  {
   "cell_type": "code",
   "execution_count": null,
   "id": "57306071-167a-49e3-af05-795d629f6adc",
   "metadata": {},
   "outputs": [],
   "source": []
  },
  {
   "cell_type": "code",
   "execution_count": null,
   "id": "dc0016b3-4412-45b4-819c-e21143b1f432",
   "metadata": {},
   "outputs": [],
   "source": []
  },
  {
   "cell_type": "code",
   "execution_count": null,
   "id": "bfba820f-b222-4049-8384-1a28304ad92f",
   "metadata": {},
   "outputs": [],
   "source": []
  },
  {
   "cell_type": "code",
   "execution_count": null,
   "id": "c5d2239b-4bbf-4e4e-b5fc-be937caab936",
   "metadata": {},
   "outputs": [],
   "source": []
  },
  {
   "cell_type": "code",
   "execution_count": null,
   "id": "94bbb034-52b7-4182-bf56-5ed6c1caba36",
   "metadata": {},
   "outputs": [],
   "source": []
  },
  {
   "cell_type": "code",
   "execution_count": null,
   "id": "46f0e572-ed92-4027-9777-705fc0587348",
   "metadata": {},
   "outputs": [],
   "source": []
  },
  {
   "cell_type": "code",
   "execution_count": null,
   "id": "d3f3eb61-9da5-4bf7-95c5-fe419fb2ff71",
   "metadata": {},
   "outputs": [],
   "source": []
  },
  {
   "cell_type": "code",
   "execution_count": null,
   "id": "2efc1639-b2cc-4df7-8807-72676c81ec73",
   "metadata": {},
   "outputs": [],
   "source": []
  },
  {
   "cell_type": "code",
   "execution_count": null,
   "id": "84bcb144-584a-4f63-a9e0-6672b2983e15",
   "metadata": {},
   "outputs": [],
   "source": []
  }
 ],
 "metadata": {
  "kernelspec": {
   "display_name": "Python 3 (ipykernel)",
   "language": "python",
   "name": "python3"
  },
  "language_info": {
   "codemirror_mode": {
    "name": "ipython",
    "version": 3
   },
   "file_extension": ".py",
   "mimetype": "text/x-python",
   "name": "python",
   "nbconvert_exporter": "python",
   "pygments_lexer": "ipython3",
   "version": "3.8.12"
  }
 },
 "nbformat": 4,
 "nbformat_minor": 5
}
