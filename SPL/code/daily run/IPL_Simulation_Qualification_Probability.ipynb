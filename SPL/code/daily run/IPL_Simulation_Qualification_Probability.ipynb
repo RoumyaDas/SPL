{
 "cells": [
  {
   "cell_type": "code",
   "execution_count": 1,
   "id": "b9234678",
   "metadata": {},
   "outputs": [
    {
     "name": "stderr",
     "output_type": "stream",
     "text": [
      "/var/folders/68/nlclwstn1zd28pll4j60q7zw0000gn/T/ipykernel_22062/2637981220.py:22: SettingWithCopyWarning: \n",
      "A value is trying to be set on a copy of a slice from a DataFrame.\n",
      "Try using .loc[row_indexer,col_indexer] = value instead\n",
      "\n",
      "See the caveats in the documentation: https://pandas.pydata.org/pandas-docs/stable/user_guide/indexing.html#returning-a-view-versus-a-copy\n",
      "  matches_list_mod['winner'] = ''\n"
     ]
    }
   ],
   "source": [
    "import pandas as pd\n",
    "import glob\n",
    "import numpy as np\n",
    "pd.set_option('display.max_columns', None)\n",
    "pd.set_option('display.max_rows', None)\n",
    "import random\n",
    "from collections import Counter\n",
    "\n",
    "df_all = pd.read_csv('/Users/roumyadas/Desktop/IPL_Simulation/Season_02/df_all_round_sim.csv')\n",
    "\n",
    "##reading all STATS from one excel##\n",
    "excel_filename = \"/Users/roumyadas/Desktop/IPL_Simulation/Season_02/STATS_S02.xlsx\"\n",
    "\n",
    "pts_table = pd.read_excel(excel_filename, sheet_name='POINTS_TABLE')\n",
    "\n",
    "matches_list = pd.read_excel('/Users/roumyadas/Desktop/IPL_Simulation/Fixtures/IPL_2024_schedule.xlsx',\n",
    "                            sheet_name='Season_02')\n",
    "\n",
    "matches_list = matches_list[['Date','Team One','Team Two']]\n",
    "mts_done = pts_table['matches_played'].sum()/2\n",
    "matches_list_mod = matches_list[int(mts_done):]\n",
    "matches_list_mod['winner'] = ''"
   ]
  },
  {
   "cell_type": "code",
   "execution_count": 2,
   "id": "4b01d07d",
   "metadata": {},
   "outputs": [],
   "source": [
    "q_master_list = []"
   ]
  },
  {
   "cell_type": "code",
   "execution_count": 3,
   "id": "03ad403b",
   "metadata": {},
   "outputs": [
    {
     "name": "stderr",
     "output_type": "stream",
     "text": [
      "<timed exec>:4: SettingWithCopyWarning: \n",
      "A value is trying to be set on a copy of a slice from a DataFrame.\n",
      "Try using .loc[row_indexer,col_indexer] = value instead\n",
      "\n",
      "See the caveats in the documentation: https://pandas.pydata.org/pandas-docs/stable/user_guide/indexing.html#returning-a-view-versus-a-copy\n"
     ]
    },
    {
     "name": "stdout",
     "output_type": "stream",
     "text": [
      "CPU times: user 26.8 s, sys: 154 ms, total: 27 s\n",
      "Wall time: 27.1 s\n"
     ]
    }
   ],
   "source": [
    "%%time\n",
    "\n",
    "# Vectorized simulation\n",
    "for _ in range(10**4):\n",
    "    # Randomly assign winners\n",
    "    matches_list_mod[\"winner\"] = np.where(\n",
    "        np.random.rand(len(matches_list_mod)) < 0.5, \n",
    "        matches_list_mod[\"Team One\"], \n",
    "        matches_list_mod[\"Team Two\"]\n",
    "    )\n",
    "\n",
    "    # Count wins and calculate points\n",
    "    sim_win = matches_list_mod[\"winner\"].value_counts().reset_index()\n",
    "    sim_win.columns = [\"team\", \"wins\"]\n",
    "    sim_win[\"pts\"] = sim_win[\"wins\"] * 2\n",
    "\n",
    "    # Merge results with original points table\n",
    "    pts_table_mod = pts_table.merge(sim_win, on=\"team\", how=\"left\").fillna(0)\n",
    "    pts_table_mod[\"pts_final\"] = pts_table_mod[\"points\"] + pts_table_mod[\"pts\"]\n",
    "    pts_table_mod[\"NRR_final\"] = pts_table_mod[\"NRR\"] + np.random.normal(0, 0.1, len(pts_table_mod))\n",
    "\n",
    "    # Sort by points and NRR\n",
    "    pts_table_mod = pts_table_mod.sort_values(by=[\"pts_final\", \"NRR_final\"], ascending=False)\n",
    "\n",
    "    # Get top 4 teams\n",
    "    q_master_list.append(pts_table_mod[\"team\"].head(4).tolist())\n",
    "\n",
    "flat_list = [item for sublist in q_master_list for item in sublist]\n",
    "counts = Counter(flat_list)\n",
    "\n",
    "df = pd.DataFrame(counts.items(), columns=[\"String\", \"Count\"])\n",
    "\n",
    "df = df.sort_values(by=\"Count\", ascending=False).reset_index(drop=True)\n",
    "df['prob_qualification'] = 100*df['Count']/len(q_master_list)"
   ]
  },
  {
   "cell_type": "code",
   "execution_count": 4,
   "id": "5605b38a",
   "metadata": {
    "scrolled": true
   },
   "outputs": [
    {
     "name": "stdout",
     "output_type": "stream",
     "text": [
      "Qualification Probabilities ::\n",
      "SRH -- 100.0\n",
      "DC -- 100.0\n",
      "RR -- 100.0\n",
      "CSK -- 57.48\n",
      "MI -- 42.52\n"
     ]
    }
   ],
   "source": [
    "print(\"Qualification Probabilities ::\")\n",
    "for idx, row in df[['String','prob_qualification']].iterrows():\n",
    "    print(f\"{row['String']} -- {row['prob_qualification']}\")\n"
   ]
  },
  {
   "cell_type": "code",
   "execution_count": null,
   "id": "9f53aebe",
   "metadata": {},
   "outputs": [],
   "source": []
  },
  {
   "cell_type": "code",
   "execution_count": null,
   "id": "49b00849",
   "metadata": {},
   "outputs": [],
   "source": []
  }
 ],
 "metadata": {
  "kernelspec": {
   "display_name": "Python 3 (ipykernel)",
   "language": "python",
   "name": "python3"
  },
  "language_info": {
   "codemirror_mode": {
    "name": "ipython",
    "version": 3
   },
   "file_extension": ".py",
   "mimetype": "text/x-python",
   "name": "python",
   "nbconvert_exporter": "python",
   "pygments_lexer": "ipython3",
   "version": "3.8.12"
  }
 },
 "nbformat": 4,
 "nbformat_minor": 5
}
