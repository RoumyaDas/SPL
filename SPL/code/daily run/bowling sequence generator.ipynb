{
 "cells": [
  {
   "cell_type": "code",
   "execution_count": 289,
   "id": "9b094348",
   "metadata": {},
   "outputs": [],
   "source": [
    "import discord\n",
    "import random\n",
    "import os\n",
    "import asyncio\n",
    "\n",
    "import pandas as pd\n",
    "import requests\n",
    "\n",
    "#########################\n",
    "\n",
    "import pandas as pd\n",
    "import glob\n",
    "import numpy as np\n",
    "pd.set_option('display.max_columns', None)\n",
    "pd.set_option('display.max_rows', None)\n",
    "\n",
    "import random\n",
    "from collections import Counter, defaultdict"
   ]
  },
  {
   "cell_type": "markdown",
   "id": "adb85cd0",
   "metadata": {},
   "source": [
    "## function\n"
   ]
  },
  {
   "cell_type": "code",
   "execution_count": 290,
   "id": "561a8329",
   "metadata": {},
   "outputs": [],
   "source": [
    "# Helper function to determine the phase of an over\n",
    "def get_phase(over):\n",
    "    if over <= 6:\n",
    "        return 'P'\n",
    "    elif over <= 15:\n",
    "        return 'M'\n",
    "    else:\n",
    "        return 'D'\n",
    "\n",
    "# Function to generate the bowling sequence\n",
    "def generate_bowling_order(bowler_dict, max_overs=4):\n",
    "    # Phase-wise bowler allocation\n",
    "    phase_bowlers = defaultdict(list)\n",
    "    for bowler, phases in bowler_dict.items():\n",
    "        for p in phases:\n",
    "            phase_bowlers[p].append(bowler)\n",
    "\n",
    "    # Helper function to check if a bowler can bowl a specific over\n",
    "    def can_bowl(bowler, count, phase, pp_tracker, middle_tracker):\n",
    "        if count[bowler] >= max_overs:\n",
    "            return False\n",
    "        if phase == 'P' and bowler in all_phase_bowlers and pp_tracker[bowler] >= 2:\n",
    "            return False\n",
    "        if phase == 'M' and bowler in all_phase_bowlers and middle_tracker[bowler] >= 1:\n",
    "            return False\n",
    "        return True\n",
    "\n",
    "    # Start filling the bowling order\n",
    "    sequence = [None] * 20  # Initialize a sequence with 20 slots\n",
    "    count = Counter()  # Counter for the number of overs bowled by each bowler\n",
    "    pp_tracker = Counter()  # To track how many overs a bowler has bowled in PP\n",
    "    middle_tracker = Counter()  # To track how many overs a bowler has bowled in M\n",
    "    \n",
    "    # Identifying bowlers who are available for all 3 phases (P, M, D)\n",
    "    all_phase_bowlers = [b for b, phases in bowler_dict.items() if 'P' in phases and 'M' in phases and 'D' in phases]\n",
    "    \n",
    "    # Prioritize bowlers for PowerPlay and pick top 2 for the first two overs\n",
    "    top_p_bowlers = [b for b in bowler_dict if 'P' in bowler_dict[b]]\n",
    "    top_p_bowlers.sort(key=lambda bowler: bowler_dict[bowler].count('P'), reverse=True)  # Prioritize based on P-phase count\n",
    "    \n",
    "    # Ensure the first two overs are bowled by the top two priority bowlers in PP\n",
    "    sequence[0], sequence[1] = top_p_bowlers[0], top_p_bowlers[1]\n",
    "    count[sequence[0]] += 1\n",
    "    count[sequence[1]] += 1\n",
    "    if sequence[0] in all_phase_bowlers:\n",
    "        pp_tracker[sequence[0]] += 1\n",
    "    if sequence[1] in all_phase_bowlers:\n",
    "        pp_tracker[sequence[1]] += 1\n",
    "\n",
    "    # Now fill the rest of the overs\n",
    "    prev_bowler = sequence[1]  # Start from the third over\n",
    "    for over in range(2, 20):\n",
    "        phase = get_phase(over + 1)\n",
    "        available_bowlers = [b for b in phase_bowlers[phase] if b != prev_bowler and can_bowl(b, count, phase, pp_tracker, middle_tracker)]\n",
    "        if not available_bowlers:\n",
    "            raise RuntimeError(f\"No valid bowlers available for over {over + 1}\")\n",
    "        \n",
    "        # Randomly shuffle the available bowlers and choose one\n",
    "        chosen_bowler = random.choice(available_bowlers)\n",
    "        sequence[over] = chosen_bowler\n",
    "        count[chosen_bowler] += 1\n",
    "        if phase == 'P' and chosen_bowler in all_phase_bowlers:\n",
    "            pp_tracker[chosen_bowler] += 1\n",
    "        if phase == 'M' and chosen_bowler in all_phase_bowlers:\n",
    "            middle_tracker[chosen_bowler] += 1\n",
    "        \n",
    "        # Update the previous bowler\n",
    "        prev_bowler = chosen_bowler\n",
    "    \n",
    "    return sequence\n"
   ]
  },
  {
   "cell_type": "markdown",
   "id": "c1bd2278",
   "metadata": {},
   "source": [
    "## new function, with deprioritization"
   ]
  },
  {
   "cell_type": "code",
   "execution_count": 291,
   "id": "cc982c82",
   "metadata": {},
   "outputs": [],
   "source": [
    "def get_phase(over):\n",
    "    if over <= 6:\n",
    "        return 'P'\n",
    "    elif over <= 15:\n",
    "        return 'M'\n",
    "    else:\n",
    "        return 'D'\n",
    "    \n",
    "def generate_bowling_order(bowler_dict, max_overs=4):\n",
    "    from collections import Counter, defaultdict\n",
    "    import random\n",
    "\n",
    "    # Phase-wise bowler allocation\n",
    "    phase_bowlers = defaultdict(list)\n",
    "    for bowler, phases in bowler_dict.items():\n",
    "        for p in phases:\n",
    "            phase_bowlers[p].append(bowler)\n",
    "\n",
    "    # Assigning ranks based on bowler_dict order\n",
    "    bowler_ranks = {bowler: rank for rank, bowler in enumerate(bowler_dict.keys(), start=1)}\n",
    "    print(bowler_ranks)\n",
    "\n",
    "    def can_bowl(bowler, count, phase, pp_tracker, middle_tracker):\n",
    "        if count[bowler] >= max_overs:\n",
    "            return False\n",
    "        if phase == 'P' and bowler in all_phase_bowlers and pp_tracker[bowler] >= 2:\n",
    "            return False\n",
    "        if phase == 'M' and bowler in all_phase_bowlers and middle_tracker[bowler] >= 1:\n",
    "            return False\n",
    "        return True\n",
    "\n",
    "    sequence = [None] * 20\n",
    "    count = Counter()\n",
    "    pp_tracker = Counter()\n",
    "    middle_tracker = Counter()\n",
    "\n",
    "    all_phase_bowlers = [b for b, phases in bowler_dict.items() if 'P' in phases and 'M' in phases and 'D' in phases]\n",
    "\n",
    "    top_p_bowlers = [b for b in bowler_dict if 'P' in bowler_dict[b]]\n",
    "    top_p_bowlers.sort(key=lambda bowler: bowler_dict[bowler].count('P'), reverse=True)\n",
    "\n",
    "    sequence[0], sequence[1] = top_p_bowlers[0], top_p_bowlers[1]\n",
    "    count[sequence[0]] += 1\n",
    "    count[sequence[1]] += 1\n",
    "    if sequence[0] in all_phase_bowlers:\n",
    "        pp_tracker[sequence[0]] += 1\n",
    "    if sequence[1] in all_phase_bowlers:\n",
    "        pp_tracker[sequence[1]] += 1\n",
    "\n",
    "    prev_bowler = sequence[1]\n",
    "    for over in range(2, 20):\n",
    "        phase = get_phase(over + 1)\n",
    "        eligible = [b for b in phase_bowlers[phase] if b != prev_bowler and can_bowl(b, count, phase, pp_tracker, middle_tracker)]\n",
    "        primary = [b for b in eligible if bowler_ranks[b] <= 6]\n",
    "        backup = [b for b in eligible if bowler_ranks[b] > 6]\n",
    "        available_bowlers = primary or backup\n",
    "\n",
    "        if not available_bowlers:\n",
    "            print(sequence)\n",
    "            raise RuntimeError(f\"No valid bowlers available for over {over + 1}\")\n",
    "\n",
    "        chosen_bowler = random.choice(available_bowlers)\n",
    "        sequence[over] = chosen_bowler\n",
    "        count[chosen_bowler] += 1\n",
    "        if phase == 'P' and chosen_bowler in all_phase_bowlers:\n",
    "            pp_tracker[chosen_bowler] += 1\n",
    "        if phase == 'M' and chosen_bowler in all_phase_bowlers:\n",
    "            middle_tracker[chosen_bowler] += 1\n",
    "\n",
    "        prev_bowler = chosen_bowler\n",
    "\n",
    "    return sequence"
   ]
  },
  {
   "cell_type": "markdown",
   "id": "9dae4f1e",
   "metadata": {},
   "source": [
    "## applying"
   ]
  },
  {
   "cell_type": "code",
   "execution_count": 297,
   "id": "d0965d97",
   "metadata": {
    "scrolled": true
   },
   "outputs": [
    {
     "name": "stdout",
     "output_type": "stream",
     "text": [
      "{'Trent': 1, 'Jass': 2, 'Theek': 3, 'Mulani': 4, 'Hard': 5}\n",
      "['Trent', 'Jass', 'Theek', 'Trent', 'Theek', 'Jass', 'Theek', 'Jass', 'Hard', 'Trent', 'Hard', 'Trent', 'Mulani', 'Hard', 'Mulani', 'Jass', 'Hard', 'Theek', None, None]\n",
      "issue\n",
      "{'Trent': 1, 'Jass': 2, 'Theek': 3, 'Mulani': 4, 'Hard': 5}\n",
      "['Trent', 'Jass', 'Theek', 'Jass', 'Theek', 'Trent', 'Theek', 'Mulani', 'Hard', 'Mulani', 'Trent', 'Hard', 'Trent', 'Mulani', 'Jass', 'Theek', 'Jass', 'Hard', None, None]\n",
      "issue\n",
      "{'Trent': 1, 'Jass': 2, 'Theek': 3, 'Mulani': 4, 'Hard': 5}\n",
      "1th over --> Trent\n",
      "2th over --> Jass\n",
      "3th over --> Trent\n",
      "4th over --> Theek\n",
      "5th over --> Trent\n",
      "6th over --> Jass\n",
      "          \n",
      "POWERPLAY over\n",
      "          \n",
      "7th over --> Mulani\n",
      "8th over --> Jass\n",
      "9th over --> Theek\n",
      "10th over --> Mulani\n",
      "11th over --> Trent\n",
      "12th over --> Mulani\n",
      "13th over --> Hard\n",
      "14th over --> Mulani\n",
      "15th over --> Hard\n",
      "          \n",
      "MIDDLE over\n",
      "          \n",
      "16th over --> Jass\n",
      "17th over --> Hard\n",
      "18th over --> Theek\n",
      "19th over --> Hard\n",
      "20th over --> Theek\n",
      "          \n",
      "INNING over\n",
      "          \n"
     ]
    }
   ],
   "source": [
    "bowler_dict = {'Trent':['P','M'], 'Jass':['P','M','D'], 'Theek':['P','M','D'],'Mulani':['M'], 'Hard':['M','D'],\n",
    "               #'Azmat':['P'], \n",
    "               #, '7':['M'], '8':['M']\n",
    "               #, 'Venky':['M']\n",
    "              }\n",
    "# livi = death\n",
    "# kuldeep = pp, middle\n",
    "# bethell = middle\n",
    "# porel = pp\n",
    "# naveen = death\n",
    "# badoni = middle\n",
    "# venky = middle\n",
    "\n",
    "attempt = False\n",
    "while attempt == False:\n",
    "    try:\n",
    "        order = generate_bowling_order(bowler_dict)\n",
    "        #print(order)\n",
    "        attempt = True\n",
    "    except:\n",
    "        print(\"issue\")\n",
    "        continue\n",
    "    \n",
    "\n",
    "for i in range(len(order)):\n",
    "    print(f\"{i+1}th over --> {order[i]}\")\n",
    "    if i==5:\n",
    "        print(\" \"*10)\n",
    "        print(\"POWERPLAY over\")\n",
    "        print(\" \"*10)\n",
    "    if i==14:\n",
    "        print(\" \"*10)\n",
    "        print(\"MIDDLE over\")\n",
    "        print(\" \"*10)\n",
    "    if i==19:\n",
    "        print(\" \"*10)\n",
    "        print(\"INNING over\")\n",
    "        print(\" \"*10)"
   ]
  },
  {
   "cell_type": "code",
   "execution_count": 298,
   "id": "d87eb7ed",
   "metadata": {
    "scrolled": true
   },
   "outputs": [
    {
     "data": {
      "text/plain": [
       "Trent     4\n",
       "Jass      4\n",
       "Theek     4\n",
       "Mulani    4\n",
       "Hard      4\n",
       "dtype: int64"
      ]
     },
     "execution_count": 298,
     "metadata": {},
     "output_type": "execute_result"
    }
   ],
   "source": [
    "pd.Series(order).value_counts()"
   ]
  },
  {
   "cell_type": "code",
   "execution_count": null,
   "id": "46c9b239",
   "metadata": {},
   "outputs": [],
   "source": []
  },
  {
   "cell_type": "code",
   "execution_count": 296,
   "id": "7425dcb8",
   "metadata": {},
   "outputs": [
    {
     "data": {
      "text/plain": [
       "['Hoff',\n",
       " 'Max',\n",
       " 'Hoff',\n",
       " 'Max',\n",
       " 'Azmat',\n",
       " 'Max',\n",
       " 'Swap',\n",
       " 'Sandy',\n",
       " 'Swap',\n",
       " 'Dagar',\n",
       " 'Sandy',\n",
       " 'Dagar',\n",
       " 'Swap',\n",
       " 'Dagar',\n",
       " 'Sandy',\n",
       " 'Hoff',\n",
       " 'Sandy',\n",
       " 'Hoff',\n",
       " 'Swap',\n",
       " 'Dagar']"
      ]
     },
     "execution_count": 296,
     "metadata": {},
     "output_type": "execute_result"
    }
   ],
   "source": [
    "order"
   ]
  },
  {
   "cell_type": "code",
   "execution_count": null,
   "id": "143e86c6",
   "metadata": {},
   "outputs": [],
   "source": []
  },
  {
   "cell_type": "markdown",
   "id": "78712e0d",
   "metadata": {},
   "source": [
    "## applying"
   ]
  },
  {
   "cell_type": "code",
   "execution_count": null,
   "id": "e035066f",
   "metadata": {},
   "outputs": [],
   "source": [
    "team = pd.read_excel('/Users/roumyadas/Desktop/IPL_Simulation/Teams/SQUADS_season_02.xlsx', \n",
    "                        sheet_name='SRH')\n",
    "team = team.sort_values(by='XI').head(11)\n",
    "\n",
    "bowling_team = team\n",
    "\n",
    "bowlers_df = bowling_team.dropna(subset=['bowl'])[['bowl','Func_Name','phase']]\\\n",
    "                        .sort_values('bowl').reset_index(drop=True)\n",
    "bowlers_df['bowl'] = bowlers_df['bowl'].astype(int)\n",
    "\n",
    "#bowler_dict = dict(zip(bowlers_df['bowl'], bowlers_df['phase'].str.split(',')))\n",
    "bowler_dict = dict(zip(bowlers_df['Func_Name'], bowlers_df['phase'].str.split(',')))\n",
    "\n",
    "bowler_dict"
   ]
  },
  {
   "cell_type": "code",
   "execution_count": null,
   "id": "23c5e668",
   "metadata": {},
   "outputs": [],
   "source": [
    "attempt = False\n",
    "while attempt == False:\n",
    "    try:\n",
    "        order = generate_bowling_order(bowler_dict)\n",
    "        #print(order)\n",
    "        attempt = True\n",
    "    except:\n",
    "        continue\n",
    "    \n",
    "\n",
    "for i in range(len(order)):\n",
    "    print(f\"{i+1}th over --> {order[i]}\")\n",
    "    if i==5:\n",
    "        print(\" \"*10)\n",
    "        print(\"POWERPLAY over\")\n",
    "        print(\" \"*10)\n",
    "    if i==14:\n",
    "        print(\" \"*10)\n",
    "        print(\"MIDDLE over\")\n",
    "        print(\" \"*10)\n",
    "    if i==19:\n",
    "        print(\" \"*10)\n",
    "        print(\"INNING over\")\n",
    "        print(\" \"*10)"
   ]
  },
  {
   "cell_type": "code",
   "execution_count": null,
   "id": "a41991b2",
   "metadata": {},
   "outputs": [],
   "source": [
    "def has_consecutive_duplicates(lst):\n",
    "    return any(lst[i] == lst[i+1] for i in range(len(lst)-1))\n",
    "\n",
    "has_consecutive_duplicates(order)"
   ]
  },
  {
   "cell_type": "code",
   "execution_count": null,
   "id": "67b53ef2",
   "metadata": {},
   "outputs": [],
   "source": []
  },
  {
   "cell_type": "code",
   "execution_count": null,
   "id": "2c524b87",
   "metadata": {},
   "outputs": [],
   "source": []
  },
  {
   "cell_type": "code",
   "execution_count": null,
   "id": "912b9bec",
   "metadata": {},
   "outputs": [],
   "source": []
  },
  {
   "cell_type": "code",
   "execution_count": null,
   "id": "48b5692a",
   "metadata": {},
   "outputs": [],
   "source": []
  },
  {
   "cell_type": "code",
   "execution_count": null,
   "id": "f284c67b",
   "metadata": {},
   "outputs": [],
   "source": []
  },
  {
   "cell_type": "code",
   "execution_count": null,
   "id": "78ca4fed",
   "metadata": {},
   "outputs": [],
   "source": []
  },
  {
   "cell_type": "code",
   "execution_count": null,
   "id": "fa8726d8",
   "metadata": {},
   "outputs": [],
   "source": []
  },
  {
   "cell_type": "code",
   "execution_count": null,
   "id": "adfe4be0",
   "metadata": {},
   "outputs": [],
   "source": []
  },
  {
   "cell_type": "code",
   "execution_count": null,
   "id": "d4ee667a",
   "metadata": {},
   "outputs": [],
   "source": []
  }
 ],
 "metadata": {
  "kernelspec": {
   "display_name": "Python 3 (ipykernel)",
   "language": "python",
   "name": "python3"
  },
  "language_info": {
   "codemirror_mode": {
    "name": "ipython",
    "version": 3
   },
   "file_extension": ".py",
   "mimetype": "text/x-python",
   "name": "python",
   "nbconvert_exporter": "python",
   "pygments_lexer": "ipython3",
   "version": "3.8.12"
  }
 },
 "nbformat": 4,
 "nbformat_minor": 5
}
